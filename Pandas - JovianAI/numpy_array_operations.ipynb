{
  "nbformat": 4,
  "nbformat_minor": 0,
  "metadata": {
    "kernelspec": {
      "display_name": "Python 3",
      "language": "python",
      "name": "python3"
    },
    "language_info": {
      "codemirror_mode": {
        "name": "ipython",
        "version": 3
      },
      "file_extension": ".py",
      "mimetype": "text/x-python",
      "name": "python",
      "nbconvert_exporter": "python",
      "pygments_lexer": "ipython3",
      "version": "3.8.5"
    },
    "colab": {
      "name": "numpy-array-operations.ipynb",
      "provenance": []
    }
  },
  "cells": [
    {
      "cell_type": "code",
      "metadata": {
        "id": "WVr39JvwpVbx"
      },
      "source": [
        "# Jovian Commit Essentials\n",
        "# Please retain and execute this cell without modifying the contents for `jovian.commit` to work\n",
        "!pip install jovian --upgrade -q\n",
        "import jovian\n",
        "jovian.set_project('numpy-array-operations')\n",
        "jovian.set_colab_id('1eus8T9L8BoJgN9Iv7DRDrSaj4YtKyodw')"
      ],
      "execution_count": null,
      "outputs": []
    },
    {
      "cell_type": "markdown",
      "metadata": {
        "id": "dHFZKrjkpVb6"
      },
      "source": [
        "> ### **Assignment 2 - Numpy Array Operations** \n",
        ">\n",
        "> This assignment is part of the course [\"Data Analysis with Python: Zero to Pandas\"](http://zerotopandas.com). The objective of this assignment is to develop a solid understanding of Numpy array operations. In this assignment you will:\n",
        "> \n",
        "> 1. Pick 5 interesting Numpy array functions by going through the documentation: https://numpy.org/doc/stable/reference/routines.html \n",
        "> 2. Run and modify this Jupyter notebook to illustrate their usage (some explanation and 3 examples for each function). Use your imagination to come up with interesting and unique examples.\n",
        "> 3. Upload this notebook to your Jovian profile using `jovian.commit` and make a submission here: https://jovian.ml/learn/data-analysis-with-python-zero-to-pandas/assignment/assignment-2-numpy-array-operations\n",
        "> 4. (Optional) Share your notebook online (on Twitter, LinkedIn, Facebook) and on the community forum thread: https://jovian.ml/forum/t/assignment-2-numpy-array-operations-share-your-work/10575 . \n",
        "> 5. (Optional) Check out the notebooks [shared by other participants](https://jovian.ml/forum/t/assignment-2-numpy-array-operations-share-your-work/10575) and give feedback & appreciation.\n",
        ">\n",
        "\n",
        "\n",
        "\n",
        "# Python's Numpy Library: Notable functions\n",
        "\n",
        "\n",
        "### More to the `import numpy as np`\n",
        "\n",
        "\n",
        "- argsort() - creates matrix with the ordered indicies of values from input matrix\n",
        "- dot() - calculates dot product of two matricies\n",
        "- random.seed() - stores a pseudo-random state as a seed for reuse or replication\n",
        "- std() - calculates standard deviation of input matrix\n",
        "- linspace() - creates matrix from start and end point with size based on selected equal spacing between values \n",
        "\n",
        "The recommended way to run this notebook is to click the \"Run\" button at the top of this page, and select \"Run on Binder\". This will run the notebook on mybinder.org, a free online service for running Jupyter notebooks."
      ]
    },
    {
      "cell_type": "code",
      "metadata": {
        "id": "5kV8UOJFpVb7"
      },
      "source": [
        "!pip install jovian --upgrade -q"
      ],
      "execution_count": null,
      "outputs": []
    },
    {
      "cell_type": "code",
      "metadata": {
        "id": "xMQASaq8pVb8"
      },
      "source": [
        "import jovian"
      ],
      "execution_count": null,
      "outputs": []
    },
    {
      "cell_type": "code",
      "metadata": {
        "id": "3Pscl__5pVb8",
        "outputId": "a86ce6a3-299d-4c49-c9af-913130de91ad"
      },
      "source": [
        "jovian.commit(project='numpy-array-operations')"
      ],
      "execution_count": null,
      "outputs": [
        {
          "output_type": "display_data",
          "data": {
            "application/javascript": [
              "window.require && require([\"base/js/namespace\"],function(Jupyter){Jupyter.notebook.save_checkpoint()})"
            ],
            "text/plain": [
              "<IPython.core.display.Javascript object>"
            ]
          },
          "metadata": {
            "tags": []
          }
        },
        {
          "output_type": "stream",
          "text": [
            "[jovian] Attempting to save notebook..\u001b[0m\n",
            "[jovian] Updating notebook \"porkdown/numpy-array-operations\" on https://jovian.ml/\u001b[0m\n",
            "[jovian] Uploading notebook..\u001b[0m\n",
            "[jovian] Capturing environment..\u001b[0m\n",
            "[jovian] Committed successfully! https://jovian.ml/porkdown/numpy-array-operations\u001b[0m\n"
          ],
          "name": "stdout"
        },
        {
          "output_type": "execute_result",
          "data": {
            "text/plain": [
              "'https://jovian.ml/porkdown/numpy-array-operations'"
            ]
          },
          "metadata": {
            "tags": []
          },
          "execution_count": 3
        }
      ]
    },
    {
      "cell_type": "markdown",
      "metadata": {
        "id": "ESgplywzpVb-"
      },
      "source": [
        "Let's begin by importing Numpy and listing out the functions covered in this notebook."
      ]
    },
    {
      "cell_type": "code",
      "metadata": {
        "id": "BPhoIG7vpVb-"
      },
      "source": [
        "import numpy as np"
      ],
      "execution_count": null,
      "outputs": []
    },
    {
      "cell_type": "markdown",
      "metadata": {
        "id": "_if31u7RpVb_"
      },
      "source": [
        "# List of functions explained \n",
        "`\n",
        "function1 = np.argsort()\n",
        "function2 = np.dot()\n",
        "function3 = np.random.seed()\n",
        "function4 = np.std()\n",
        "function5 = np.linspace()\n",
        "`"
      ]
    },
    {
      "cell_type": "markdown",
      "metadata": {
        "id": "HkKanc6IpVb_"
      },
      "source": [
        "## Function 1 - np.argsort()\n",
        "\n",
        "Returns the indicies that would sort an array, default by row"
      ]
    },
    {
      "cell_type": "code",
      "metadata": {
        "id": "hoDF8owPpVcA",
        "outputId": "fc3c61ab-932b-422f-e32d-ea61837d6fbb"
      },
      "source": [
        "# Example 1 - working \n",
        "arr1 = [[1, 2], \n",
        "        [3, 4.]]\n",
        "\n",
        "np.argsort(arr1, axis=1)"
      ],
      "execution_count": null,
      "outputs": [
        {
          "output_type": "execute_result",
          "data": {
            "text/plain": [
              "array([[0, 1],\n",
              "       [0, 1]])"
            ]
          },
          "metadata": {
            "tags": []
          },
          "execution_count": 7
        }
      ]
    },
    {
      "cell_type": "markdown",
      "metadata": {
        "id": "N7R8CztIpVcA"
      },
      "source": [
        "Indicies of output matrix rank the order of values from the input matrix. axis=1, read horizontally"
      ]
    },
    {
      "cell_type": "code",
      "metadata": {
        "id": "CFW7YRfwpVcB",
        "outputId": "64726c2a-641e-4b14-90f2-576c594c2a4f"
      },
      "source": [
        "# Example 2 - working\n",
        "arr2 = [[5, 6, 7], \n",
        "        [8, 9, 10]]\n",
        "np.argsort(arr2, axis=0)"
      ],
      "execution_count": null,
      "outputs": [
        {
          "output_type": "execute_result",
          "data": {
            "text/plain": [
              "array([[0, 0, 0],\n",
              "       [1, 1, 1]])"
            ]
          },
          "metadata": {
            "tags": []
          },
          "execution_count": 8
        }
      ]
    },
    {
      "cell_type": "markdown",
      "metadata": {
        "id": "AMEeYoMIpVcB"
      },
      "source": [
        "Indicies of output matrix rank the order of values from the input matrix. axis=0, read vertically"
      ]
    },
    {
      "cell_type": "code",
      "metadata": {
        "id": "FU9ddktQpVcB",
        "outputId": "7b08b43e-eebe-4a0a-d773-cc85af6091c6"
      },
      "source": [
        "# Example 3 - trivial case\n",
        "arr1 = [[[]]]\n",
        "np.argsort(arr1)"
      ],
      "execution_count": null,
      "outputs": [
        {
          "output_type": "execute_result",
          "data": {
            "text/plain": [
              "array([], shape=(1, 1, 0), dtype=int64)"
            ]
          },
          "metadata": {
            "tags": []
          },
          "execution_count": 17
        }
      ]
    },
    {
      "cell_type": "markdown",
      "metadata": {
        "id": "Z1S9nXOZpVcC"
      },
      "source": [
        "Works on multidimensional matricies, however input some data with the matching data type."
      ]
    },
    {
      "cell_type": "markdown",
      "metadata": {
        "id": "qqcYxSf7pVcC"
      },
      "source": [
        "If strings are inputted as data, the fucntion will return 0 matrix which is inelegant."
      ]
    },
    {
      "cell_type": "code",
      "metadata": {
        "id": "JFdAyHX6pVcD",
        "outputId": "85f6e547-33e7-4100-de70-153090e07eb8"
      },
      "source": [
        "jovian.commit()"
      ],
      "execution_count": null,
      "outputs": [
        {
          "output_type": "display_data",
          "data": {
            "application/javascript": [
              "window.require && require([\"base/js/namespace\"],function(Jupyter){Jupyter.notebook.save_checkpoint()})"
            ],
            "text/plain": [
              "<IPython.core.display.Javascript object>"
            ]
          },
          "metadata": {
            "tags": []
          }
        },
        {
          "output_type": "stream",
          "text": [
            "[jovian] Attempting to save notebook..\u001b[0m\n",
            "[jovian] Updating notebook \"porkdown/numpy-array-operations\" on https://jovian.ml/\u001b[0m\n",
            "[jovian] Uploading notebook..\u001b[0m\n",
            "[jovian] Capturing environment..\u001b[0m\n",
            "[jovian] Committed successfully! https://jovian.ml/porkdown/numpy-array-operations\u001b[0m\n"
          ],
          "name": "stdout"
        },
        {
          "output_type": "execute_result",
          "data": {
            "text/plain": [
              "'https://jovian.ml/porkdown/numpy-array-operations'"
            ]
          },
          "metadata": {
            "tags": []
          },
          "execution_count": 19
        }
      ]
    },
    {
      "cell_type": "markdown",
      "metadata": {
        "id": "f6xFDq_spVcD"
      },
      "source": [
        "## Function 2 - dot()\n",
        "\n",
        "Matrix multiplication"
      ]
    },
    {
      "cell_type": "code",
      "metadata": {
        "id": "ddlYB-5fpVcE",
        "outputId": "b60f032f-78d1-46fe-e5c2-4409ce5c4fdf"
      },
      "source": [
        "# Example 1 - working\n",
        "arr1 = [[1, 2], \n",
        "        [3, 4.]]\n",
        "arr2 = [[5, 6, 7], \n",
        "        [8, 9, 10]]\n",
        "result = np.dot(arr1,arr2)\n",
        "result"
      ],
      "execution_count": null,
      "outputs": [
        {
          "output_type": "execute_result",
          "data": {
            "text/plain": [
              "array([[21., 24., 27.],\n",
              "       [47., 54., 61.]])"
            ]
          },
          "metadata": {
            "tags": []
          },
          "execution_count": 20
        }
      ]
    },
    {
      "cell_type": "markdown",
      "metadata": {
        "id": "1t6jX42MpVcE"
      },
      "source": [
        "Matrix multiplication arr1 by arr2, that exact order"
      ]
    },
    {
      "cell_type": "code",
      "metadata": {
        "id": "o18jk0vLpVcE",
        "outputId": "3fac2a06-9578-4202-e23e-2ca4e49bd826"
      },
      "source": [
        "# Example 2 - working\n",
        "arr1 = [[1, 2], \n",
        "        [3, 4.]]\n",
        "identity_2 = np.eye(2)\n",
        "result = np.dot(arr1,identity_2)\n",
        "result"
      ],
      "execution_count": null,
      "outputs": [
        {
          "output_type": "execute_result",
          "data": {
            "text/plain": [
              "array([[1., 2.],\n",
              "       [3., 4.]])"
            ]
          },
          "metadata": {
            "tags": []
          },
          "execution_count": 22
        }
      ]
    },
    {
      "cell_type": "markdown",
      "metadata": {
        "id": "Y40p7nR8pVcF"
      },
      "source": [
        "Matric multiplication arr1 by identity matrix 2x2. By property, result would be arr1."
      ]
    },
    {
      "cell_type": "code",
      "metadata": {
        "id": "BXwCkrrRpVcF",
        "outputId": "d210220f-130e-4780-fc9e-fb2eaf32c2ac"
      },
      "source": [
        "# Example 3 - breaking \n",
        "arr1 = [[1, 2], \n",
        "        [3, 4.]]\n",
        "arr2 = [[5, 6, 7], \n",
        "        [8, 9, 10]]\n",
        "np.dot(arr2,arr1)"
      ],
      "execution_count": null,
      "outputs": [
        {
          "output_type": "error",
          "ename": "ValueError",
          "evalue": "shapes (2,3) and (2,2) not aligned: 3 (dim 1) != 2 (dim 0)",
          "traceback": [
            "\u001b[0;31m---------------------------------------------------------------------------\u001b[0m",
            "\u001b[0;31mValueError\u001b[0m                                Traceback (most recent call last)",
            "\u001b[0;32m<ipython-input-23-9461a1e445bf>\u001b[0m in \u001b[0;36m<module>\u001b[0;34m\u001b[0m\n\u001b[1;32m      4\u001b[0m arr2 = [[5, 6, 7], \n\u001b[1;32m      5\u001b[0m         [8, 9, 10]]\n\u001b[0;32m----> 6\u001b[0;31m \u001b[0mnp\u001b[0m\u001b[0;34m.\u001b[0m\u001b[0mdot\u001b[0m\u001b[0;34m(\u001b[0m\u001b[0marr2\u001b[0m\u001b[0;34m,\u001b[0m\u001b[0marr1\u001b[0m\u001b[0;34m)\u001b[0m\u001b[0;34m\u001b[0m\u001b[0;34m\u001b[0m\u001b[0m\n\u001b[0m",
            "\u001b[0;32m<__array_function__ internals>\u001b[0m in \u001b[0;36mdot\u001b[0;34m(*args, **kwargs)\u001b[0m\n",
            "\u001b[0;31mValueError\u001b[0m: shapes (2,3) and (2,2) not aligned: 3 (dim 1) != 2 (dim 0)"
          ]
        }
      ]
    },
    {
      "cell_type": "markdown",
      "metadata": {
        "id": "9c2SCXjlpVcF"
      },
      "source": [
        "Dot product is not always communitive. Consider transposing to match dimensionality. Think inner match, return outer."
      ]
    },
    {
      "cell_type": "markdown",
      "metadata": {
        "id": "rmuhQwwTpVcG"
      },
      "source": [
        "Check you dimensions when calculating dot product."
      ]
    },
    {
      "cell_type": "code",
      "metadata": {
        "id": "7lEJnHowpVcG",
        "outputId": "f616bcca-3166-4b8a-a72b-3c6eba282b9c"
      },
      "source": [
        "jovian.commit()"
      ],
      "execution_count": null,
      "outputs": [
        {
          "output_type": "display_data",
          "data": {
            "application/javascript": [
              "window.require && require([\"base/js/namespace\"],function(Jupyter){Jupyter.notebook.save_checkpoint()})"
            ],
            "text/plain": [
              "<IPython.core.display.Javascript object>"
            ]
          },
          "metadata": {
            "tags": []
          }
        },
        {
          "output_type": "stream",
          "text": [
            "[jovian] Attempting to save notebook..\u001b[0m\n",
            "[jovian] Updating notebook \"porkdown/numpy-array-operations\" on https://jovian.ml/\u001b[0m\n",
            "[jovian] Uploading notebook..\u001b[0m\n",
            "[jovian] Capturing environment..\u001b[0m\n",
            "[jovian] Committed successfully! https://jovian.ml/porkdown/numpy-array-operations\u001b[0m\n"
          ],
          "name": "stdout"
        },
        {
          "output_type": "execute_result",
          "data": {
            "text/plain": [
              "'https://jovian.ml/porkdown/numpy-array-operations'"
            ]
          },
          "metadata": {
            "tags": []
          },
          "execution_count": 5
        }
      ]
    },
    {
      "cell_type": "markdown",
      "metadata": {
        "id": "B2vVrsnfpVcH"
      },
      "source": [
        "## Function 3 - random.seed()\n",
        "\n",
        "Save a generated pseudo-random matrix for use or replication "
      ]
    },
    {
      "cell_type": "code",
      "metadata": {
        "id": "NaWgx39mpVcH",
        "outputId": "cb2b70e9-bd7b-4da9-cbf7-248ae420393e"
      },
      "source": [
        "# Example 1 - working\n",
        "np.random.seed(seed = 1)\n",
        "random_array_1 = np.random.randint(10, size = (3,3))\n",
        "random_array_1"
      ],
      "execution_count": null,
      "outputs": [
        {
          "output_type": "execute_result",
          "data": {
            "text/plain": [
              "array([[5, 8, 9],\n",
              "       [5, 0, 0],\n",
              "       [1, 7, 6]])"
            ]
          },
          "metadata": {
            "tags": []
          },
          "execution_count": 9
        }
      ]
    },
    {
      "cell_type": "markdown",
      "metadata": {
        "id": "435sDYmjpVcH"
      },
      "source": [
        "The numbers are random but if you keep running the cell, the numbers won't change. It is stored in seed 1."
      ]
    },
    {
      "cell_type": "code",
      "metadata": {
        "id": "KcsZNzuqpVcI",
        "outputId": "d9614797-7e34-4357-b251-d393b2bc46fc"
      },
      "source": [
        "# Example 2 - working\n",
        "np.random.seed(seed = 9999)\n",
        "random_array_1 = np.random.randint(100, size = (10,3))\n",
        "random_array_1"
      ],
      "execution_count": null,
      "outputs": [
        {
          "output_type": "execute_result",
          "data": {
            "text/plain": [
              "array([[86, 47, 54],\n",
              "       [92, 37, 25],\n",
              "       [24, 16, 76],\n",
              "       [33, 46, 69],\n",
              "       [51, 33, 96],\n",
              "       [79, 38, 36],\n",
              "       [59, 20, 12],\n",
              "       [22,  8, 28],\n",
              "       [68, 45, 14],\n",
              "       [39, 43,  9]])"
            ]
          },
          "metadata": {
            "tags": []
          },
          "execution_count": 12
        }
      ]
    },
    {
      "cell_type": "markdown",
      "metadata": {
        "id": "sgaYNZcYpVcI"
      },
      "source": [
        "Same idea as above, plenty of seeds to work with."
      ]
    },
    {
      "cell_type": "code",
      "metadata": {
        "id": "kGbu-QF3pVcI",
        "outputId": "746bc1e2-6e07-40e0-d9f7-e7809b72bff1"
      },
      "source": [
        "# Example 3 - breaking (to illustrate when it breaks)\n",
        "np.random.seed(seed = -1)\n",
        "random_array_1 = np.random.randint(10, size = (3,3))\n",
        "random_array_1"
      ],
      "execution_count": null,
      "outputs": [
        {
          "output_type": "error",
          "ename": "ValueError",
          "evalue": "Seed must be between 0 and 2**32 - 1",
          "traceback": [
            "\u001b[0;31m---------------------------------------------------------------------------\u001b[0m",
            "\u001b[0;31mValueError\u001b[0m                                Traceback (most recent call last)",
            "\u001b[0;32m<ipython-input-13-dda24c83f945>\u001b[0m in \u001b[0;36m<module>\u001b[0;34m\u001b[0m\n\u001b[1;32m      1\u001b[0m \u001b[0;31m# Example 3 - breaking (to illustrate when it breaks)\u001b[0m\u001b[0;34m\u001b[0m\u001b[0;34m\u001b[0m\u001b[0;34m\u001b[0m\u001b[0m\n\u001b[0;32m----> 2\u001b[0;31m \u001b[0mnp\u001b[0m\u001b[0;34m.\u001b[0m\u001b[0mrandom\u001b[0m\u001b[0;34m.\u001b[0m\u001b[0mseed\u001b[0m\u001b[0;34m(\u001b[0m\u001b[0mseed\u001b[0m \u001b[0;34m=\u001b[0m \u001b[0;34m-\u001b[0m\u001b[0;36m1\u001b[0m\u001b[0;34m)\u001b[0m\u001b[0;34m\u001b[0m\u001b[0;34m\u001b[0m\u001b[0m\n\u001b[0m\u001b[1;32m      3\u001b[0m \u001b[0mrandom_array_1\u001b[0m \u001b[0;34m=\u001b[0m \u001b[0mnp\u001b[0m\u001b[0;34m.\u001b[0m\u001b[0mrandom\u001b[0m\u001b[0;34m.\u001b[0m\u001b[0mrandint\u001b[0m\u001b[0;34m(\u001b[0m\u001b[0;36m10\u001b[0m\u001b[0;34m,\u001b[0m \u001b[0msize\u001b[0m \u001b[0;34m=\u001b[0m \u001b[0;34m(\u001b[0m\u001b[0;36m3\u001b[0m\u001b[0;34m,\u001b[0m\u001b[0;36m3\u001b[0m\u001b[0;34m)\u001b[0m\u001b[0;34m)\u001b[0m\u001b[0;34m\u001b[0m\u001b[0;34m\u001b[0m\u001b[0m\n\u001b[1;32m      4\u001b[0m \u001b[0mrandom_array_1\u001b[0m\u001b[0;34m\u001b[0m\u001b[0;34m\u001b[0m\u001b[0m\n",
            "\u001b[0;32mmtrand.pyx\u001b[0m in \u001b[0;36mnumpy.random.mtrand.RandomState.seed\u001b[0;34m()\u001b[0m\n",
            "\u001b[0;32m_mt19937.pyx\u001b[0m in \u001b[0;36mnumpy.random._mt19937.MT19937._legacy_seeding\u001b[0;34m()\u001b[0m\n",
            "\u001b[0;32m_mt19937.pyx\u001b[0m in \u001b[0;36mnumpy.random._mt19937.MT19937._legacy_seeding\u001b[0;34m()\u001b[0m\n",
            "\u001b[0;31mValueError\u001b[0m: Seed must be between 0 and 2**32 - 1"
          ]
        }
      ]
    },
    {
      "cell_type": "markdown",
      "metadata": {
        "id": "gXcENZzApVcJ"
      },
      "source": [
        "Seed values have to be 32 bit unsigned integers so 0 to 2$**$32 - 1"
      ]
    },
    {
      "cell_type": "markdown",
      "metadata": {
        "id": "lWFj7f32pVcJ"
      },
      "source": [
        "Pick the right seed number."
      ]
    },
    {
      "cell_type": "code",
      "metadata": {
        "id": "iolW-MCepVcK",
        "outputId": "9fcbd6ce-b9c4-43ac-c6ad-82b88962b4df"
      },
      "source": [
        "jovian.commit()"
      ],
      "execution_count": null,
      "outputs": [
        {
          "output_type": "display_data",
          "data": {
            "application/javascript": [
              "window.require && require([\"base/js/namespace\"],function(Jupyter){Jupyter.notebook.save_checkpoint()})"
            ],
            "text/plain": [
              "<IPython.core.display.Javascript object>"
            ]
          },
          "metadata": {
            "tags": []
          }
        },
        {
          "output_type": "stream",
          "text": [
            "[jovian] Attempting to save notebook..\u001b[0m\n",
            "[jovian] Updating notebook \"porkdown/numpy-array-operations\" on https://jovian.ml/\u001b[0m\n",
            "[jovian] Uploading notebook..\u001b[0m\n",
            "[jovian] Capturing environment..\u001b[0m\n",
            "[jovian] Committed successfully! https://jovian.ml/porkdown/numpy-array-operations\u001b[0m\n"
          ],
          "name": "stdout"
        },
        {
          "output_type": "execute_result",
          "data": {
            "text/plain": [
              "'https://jovian.ml/porkdown/numpy-array-operations'"
            ]
          },
          "metadata": {
            "tags": []
          },
          "execution_count": 15
        }
      ]
    },
    {
      "cell_type": "markdown",
      "metadata": {
        "id": "0jTeSkV4pVcK"
      },
      "source": [
        "## Function 4 - std()\n",
        "\n",
        "Calculate standard deviation of values in matrix"
      ]
    },
    {
      "cell_type": "code",
      "metadata": {
        "id": "woHV9SgRpVcK",
        "outputId": "1e5155a5-6913-45e5-9884-f2b9349748dd"
      },
      "source": [
        "# Example 1 - working\n",
        "random_array_1 = np.random.randint(10000, size = (3,3,3))\n",
        "print(random_array_1)\n",
        "np.std(random_array_1)"
      ],
      "execution_count": null,
      "outputs": [
        {
          "output_type": "stream",
          "text": [
            "[[[5393 5073 2754]\n",
            "  [7176 2595  682]\n",
            "  [1754 5595 8793]]\n",
            "\n",
            " [[3290 1315 5752]\n",
            "  [1095 1043  720]\n",
            "  [9969 4269 6734]]\n",
            "\n",
            " [[9373 5459 7349]\n",
            "  [7362 2452 2439]\n",
            "  [1441 6969 7912]]]\n"
          ],
          "name": "stdout"
        },
        {
          "output_type": "execute_result",
          "data": {
            "text/plain": [
              "2846.6466561878"
            ]
          },
          "metadata": {
            "tags": []
          },
          "execution_count": 7
        }
      ]
    },
    {
      "cell_type": "markdown",
      "metadata": {
        "id": "ph6dFyDepVcL"
      },
      "source": [
        "std = sqrt(mean(abs(x - x.mean())$**$2))"
      ]
    },
    {
      "cell_type": "code",
      "metadata": {
        "id": "-AsE_brzpVcL",
        "outputId": "27e2d919-0888-4335-a285-366b11da3414"
      },
      "source": [
        "# Example 2 - working\n",
        "random_array_1 = np.random.randint(10000, size = (3,3,3))\n",
        "print(random_array_1)\n",
        "print(\"std: \",np.std(random_array_1))\n",
        "print((np.std(random_array_1))**2)\n",
        "print(\"var: \", np.var(random_array_1))"
      ],
      "execution_count": null,
      "outputs": [
        {
          "output_type": "stream",
          "text": [
            "[[[6299 4976 5606]\n",
            "  [7551  755 5719]\n",
            "  [5103 8989 4469]]\n",
            "\n",
            " [[1140 1609 7480]\n",
            "  [ 544  302  208]\n",
            "  [4905 3453 6111]]\n",
            "\n",
            " [[2606 4026 3453]\n",
            "  [ 445  709 2439]\n",
            "  [1278 1335 6810]]]\n",
            "std:  2581.3004814594888\n",
            "6663112.175582988\n",
            "var:  6663112.175582989\n"
          ],
          "name": "stdout"
        }
      ]
    },
    {
      "cell_type": "markdown",
      "metadata": {
        "id": "mSEkiXDApVcL"
      },
      "source": [
        "Same idea as above. Stanard deviation is the square root of the variance."
      ]
    },
    {
      "cell_type": "code",
      "metadata": {
        "id": "S3hIoLJipVcM",
        "outputId": "88a7bcc1-fc3c-449e-f660-1deb0c096f2c"
      },
      "source": [
        "# Example 3 - breaking (to illustrate when it breaks)\n",
        "array_1 = np.array([])\n",
        "np.std(array_1)"
      ],
      "execution_count": null,
      "outputs": [
        {
          "output_type": "execute_result",
          "data": {
            "text/plain": [
              "nan"
            ]
          },
          "metadata": {
            "tags": []
          },
          "execution_count": 14
        }
      ]
    },
    {
      "cell_type": "markdown",
      "metadata": {
        "id": "9ArVQAvxpVcM"
      },
      "source": [
        "Put data in there. "
      ]
    },
    {
      "cell_type": "markdown",
      "metadata": {
        "id": "pHbgXWCkpVcM"
      },
      "source": [
        "Use this to measrue the spread of data."
      ]
    },
    {
      "cell_type": "code",
      "metadata": {
        "id": "EI-nEi25pVcN",
        "outputId": "b837b906-89ac-43b0-b76d-9f86df74cb28"
      },
      "source": [
        "jovian.commit()"
      ],
      "execution_count": null,
      "outputs": [
        {
          "output_type": "display_data",
          "data": {
            "application/javascript": [
              "window.require && require([\"base/js/namespace\"],function(Jupyter){Jupyter.notebook.save_checkpoint()})"
            ],
            "text/plain": [
              "<IPython.core.display.Javascript object>"
            ]
          },
          "metadata": {
            "tags": []
          }
        },
        {
          "output_type": "stream",
          "text": [
            "[jovian] Attempting to save notebook..\u001b[0m\n",
            "[jovian] Updating notebook \"porkdown/numpy-array-operations\" on https://jovian.ml/\u001b[0m\n",
            "[jovian] Uploading notebook..\u001b[0m\n",
            "[jovian] Capturing environment..\u001b[0m\n",
            "[jovian] Committed successfully! https://jovian.ml/porkdown/numpy-array-operations\u001b[0m\n"
          ],
          "name": "stdout"
        },
        {
          "output_type": "execute_result",
          "data": {
            "text/plain": [
              "'https://jovian.ml/porkdown/numpy-array-operations'"
            ]
          },
          "metadata": {
            "tags": []
          },
          "execution_count": 37
        }
      ]
    },
    {
      "cell_type": "markdown",
      "metadata": {
        "id": "WM_HYKCtpVcN"
      },
      "source": [
        "## Function 5 - linspace()\n",
        "\n",
        "Return evenly spaced numbers on a specified interval"
      ]
    },
    {
      "cell_type": "code",
      "metadata": {
        "id": "ESYGmBbJpVcO",
        "outputId": "4991d15d-73cb-4372-c61e-7b1a2d368215"
      },
      "source": [
        "# Example 1 - working\n",
        "vector = np.linspace(0,10000,5)\n",
        "vector"
      ],
      "execution_count": null,
      "outputs": [
        {
          "output_type": "execute_result",
          "data": {
            "text/plain": [
              "array([    0.,  2500.,  5000.,  7500., 10000.])"
            ]
          },
          "metadata": {
            "tags": []
          },
          "execution_count": 19
        }
      ]
    },
    {
      "cell_type": "markdown",
      "metadata": {
        "id": "XLePKspbpVcO"
      },
      "source": [
        "Array from start 0 to end 10000 in 5 even intervals"
      ]
    },
    {
      "cell_type": "code",
      "metadata": {
        "id": "8EEUhPIFpVcP",
        "outputId": "f25e0b65-6c04-4a32-be0a-8ce663dc770a"
      },
      "source": [
        "# Example 2 - working\n",
        "vector = np.linspace(0,5,100)\n",
        "vector"
      ],
      "execution_count": null,
      "outputs": [
        {
          "output_type": "execute_result",
          "data": {
            "text/plain": [
              "array([0.        , 0.05050505, 0.1010101 , 0.15151515, 0.2020202 ,\n",
              "       0.25252525, 0.3030303 , 0.35353535, 0.4040404 , 0.45454545,\n",
              "       0.50505051, 0.55555556, 0.60606061, 0.65656566, 0.70707071,\n",
              "       0.75757576, 0.80808081, 0.85858586, 0.90909091, 0.95959596,\n",
              "       1.01010101, 1.06060606, 1.11111111, 1.16161616, 1.21212121,\n",
              "       1.26262626, 1.31313131, 1.36363636, 1.41414141, 1.46464646,\n",
              "       1.51515152, 1.56565657, 1.61616162, 1.66666667, 1.71717172,\n",
              "       1.76767677, 1.81818182, 1.86868687, 1.91919192, 1.96969697,\n",
              "       2.02020202, 2.07070707, 2.12121212, 2.17171717, 2.22222222,\n",
              "       2.27272727, 2.32323232, 2.37373737, 2.42424242, 2.47474747,\n",
              "       2.52525253, 2.57575758, 2.62626263, 2.67676768, 2.72727273,\n",
              "       2.77777778, 2.82828283, 2.87878788, 2.92929293, 2.97979798,\n",
              "       3.03030303, 3.08080808, 3.13131313, 3.18181818, 3.23232323,\n",
              "       3.28282828, 3.33333333, 3.38383838, 3.43434343, 3.48484848,\n",
              "       3.53535354, 3.58585859, 3.63636364, 3.68686869, 3.73737374,\n",
              "       3.78787879, 3.83838384, 3.88888889, 3.93939394, 3.98989899,\n",
              "       4.04040404, 4.09090909, 4.14141414, 4.19191919, 4.24242424,\n",
              "       4.29292929, 4.34343434, 4.39393939, 4.44444444, 4.49494949,\n",
              "       4.54545455, 4.5959596 , 4.64646465, 4.6969697 , 4.74747475,\n",
              "       4.7979798 , 4.84848485, 4.8989899 , 4.94949495, 5.        ])"
            ]
          },
          "metadata": {
            "tags": []
          },
          "execution_count": 22
        }
      ]
    },
    {
      "cell_type": "markdown",
      "metadata": {
        "id": "I1Qski9ipVcP"
      },
      "source": [
        "Array from start 0 to end 5 in 100 even intervals"
      ]
    },
    {
      "cell_type": "code",
      "metadata": {
        "id": "8vZgX_MlpVcP",
        "outputId": "a5423adb-8f6c-4654-b2bc-5eaa69d013fd"
      },
      "source": [
        "# Example 3 - breaking (to illustrate when it breaks)\n",
        "vector = np.linspace(1,1,-1)\n",
        "vector"
      ],
      "execution_count": null,
      "outputs": [
        {
          "output_type": "error",
          "ename": "ValueError",
          "evalue": "Number of samples, -1, must be non-negative.",
          "traceback": [
            "\u001b[0;31m---------------------------------------------------------------------------\u001b[0m",
            "\u001b[0;31mValueError\u001b[0m                                Traceback (most recent call last)",
            "\u001b[0;32m<ipython-input-32-61363a862e3c>\u001b[0m in \u001b[0;36m<module>\u001b[0;34m\u001b[0m\n\u001b[1;32m      1\u001b[0m \u001b[0;31m# Example 3 - breaking (to illustrate when it breaks)\u001b[0m\u001b[0;34m\u001b[0m\u001b[0;34m\u001b[0m\u001b[0;34m\u001b[0m\u001b[0m\n\u001b[0;32m----> 2\u001b[0;31m \u001b[0mvector\u001b[0m \u001b[0;34m=\u001b[0m \u001b[0mnp\u001b[0m\u001b[0;34m.\u001b[0m\u001b[0mlinspace\u001b[0m\u001b[0;34m(\u001b[0m\u001b[0;36m1\u001b[0m\u001b[0;34m,\u001b[0m\u001b[0;36m1\u001b[0m\u001b[0;34m,\u001b[0m\u001b[0;34m-\u001b[0m\u001b[0;36m1\u001b[0m\u001b[0;34m)\u001b[0m\u001b[0;34m\u001b[0m\u001b[0;34m\u001b[0m\u001b[0m\n\u001b[0m\u001b[1;32m      3\u001b[0m \u001b[0mvector\u001b[0m\u001b[0;34m\u001b[0m\u001b[0;34m\u001b[0m\u001b[0m\n",
            "\u001b[0;32m<__array_function__ internals>\u001b[0m in \u001b[0;36mlinspace\u001b[0;34m(*args, **kwargs)\u001b[0m\n",
            "\u001b[0;32m/srv/conda/envs/notebook/lib/python3.8/site-packages/numpy/core/function_base.py\u001b[0m in \u001b[0;36mlinspace\u001b[0;34m(start, stop, num, endpoint, retstep, dtype, axis)\u001b[0m\n\u001b[1;32m    113\u001b[0m     \u001b[0mnum\u001b[0m \u001b[0;34m=\u001b[0m \u001b[0moperator\u001b[0m\u001b[0;34m.\u001b[0m\u001b[0mindex\u001b[0m\u001b[0;34m(\u001b[0m\u001b[0mnum\u001b[0m\u001b[0;34m)\u001b[0m\u001b[0;34m\u001b[0m\u001b[0;34m\u001b[0m\u001b[0m\n\u001b[1;32m    114\u001b[0m     \u001b[0;32mif\u001b[0m \u001b[0mnum\u001b[0m \u001b[0;34m<\u001b[0m \u001b[0;36m0\u001b[0m\u001b[0;34m:\u001b[0m\u001b[0;34m\u001b[0m\u001b[0;34m\u001b[0m\u001b[0m\n\u001b[0;32m--> 115\u001b[0;31m         \u001b[0;32mraise\u001b[0m \u001b[0mValueError\u001b[0m\u001b[0;34m(\u001b[0m\u001b[0;34m\"Number of samples, %s, must be non-negative.\"\u001b[0m \u001b[0;34m%\u001b[0m \u001b[0mnum\u001b[0m\u001b[0;34m)\u001b[0m\u001b[0;34m\u001b[0m\u001b[0;34m\u001b[0m\u001b[0m\n\u001b[0m\u001b[1;32m    116\u001b[0m     \u001b[0mdiv\u001b[0m \u001b[0;34m=\u001b[0m \u001b[0;34m(\u001b[0m\u001b[0mnum\u001b[0m \u001b[0;34m-\u001b[0m \u001b[0;36m1\u001b[0m\u001b[0;34m)\u001b[0m \u001b[0;32mif\u001b[0m \u001b[0mendpoint\u001b[0m \u001b[0;32melse\u001b[0m \u001b[0mnum\u001b[0m\u001b[0;34m\u001b[0m\u001b[0;34m\u001b[0m\u001b[0m\n\u001b[1;32m    117\u001b[0m \u001b[0;34m\u001b[0m\u001b[0m\n",
            "\u001b[0;31mValueError\u001b[0m: Number of samples, -1, must be non-negative."
          ]
        }
      ]
    },
    {
      "cell_type": "markdown",
      "metadata": {
        "id": "NPJ6pmGmpVcQ"
      },
      "source": [
        "Start 1 and end 1 is fine but the number of evenly spaced intervals must be non negative. Number of samples as 0 returns an empty array."
      ]
    },
    {
      "cell_type": "markdown",
      "metadata": {
        "id": "IW1RIA_vpVcQ"
      },
      "source": [
        "Start does not need to be lower than the end. That would just reverse the order."
      ]
    },
    {
      "cell_type": "code",
      "metadata": {
        "id": "bpe1XH4apVcQ",
        "outputId": "a8dac59c-ad57-415a-a688-ad242d47e2de"
      },
      "source": [
        "jovian.commit()"
      ],
      "execution_count": null,
      "outputs": [
        {
          "output_type": "display_data",
          "data": {
            "application/javascript": [
              "window.require && require([\"base/js/namespace\"],function(Jupyter){Jupyter.notebook.save_checkpoint()})"
            ],
            "text/plain": [
              "<IPython.core.display.Javascript object>"
            ]
          },
          "metadata": {
            "tags": []
          }
        },
        {
          "output_type": "stream",
          "text": [
            "[jovian] Attempting to save notebook..\u001b[0m\n"
          ],
          "name": "stdout"
        }
      ]
    },
    {
      "cell_type": "markdown",
      "metadata": {
        "id": "ukII-o0dpVcQ"
      },
      "source": [
        "## Conclusion\n",
        "\n",
        "Summarize what was covered in this notebook, and where to go next"
      ]
    },
    {
      "cell_type": "markdown",
      "metadata": {
        "id": "qcWDjZp_pVcR"
      },
      "source": [
        "## Reference Links\n",
        "Interesting articles about Numpy arrays:\n",
        "* Numpy official tutorial : https://numpy.org/doc/stable/user/quickstart.html"
      ]
    },
    {
      "cell_type": "code",
      "metadata": {
        "id": "K64UJojhpVcR",
        "outputId": "bdb2d567-9d8a-4fcc-968f-a61d60b80d1c"
      },
      "source": [
        "jovian.commit()"
      ],
      "execution_count": null,
      "outputs": [
        {
          "output_type": "display_data",
          "data": {
            "application/javascript": [
              "window.require && require([\"base/js/namespace\"],function(Jupyter){Jupyter.notebook.save_checkpoint()})"
            ],
            "text/plain": [
              "<IPython.core.display.Javascript object>"
            ]
          },
          "metadata": {
            "tags": []
          }
        },
        {
          "output_type": "stream",
          "text": [
            "[jovian] Attempting to save notebook..\u001b[0m\n",
            "[jovian] Updating notebook \"porkdown/numpy-array-operations\" on https://jovian.ml/\u001b[0m\n",
            "[jovian] Uploading notebook..\u001b[0m\n",
            "[jovian] Capturing environment..\u001b[0m\n",
            "[jovian] Committed successfully! https://jovian.ml/porkdown/numpy-array-operations\u001b[0m\n"
          ],
          "name": "stdout"
        },
        {
          "output_type": "execute_result",
          "data": {
            "text/plain": [
              "'https://jovian.ml/porkdown/numpy-array-operations'"
            ]
          },
          "metadata": {
            "tags": []
          },
          "execution_count": 35
        }
      ]
    }
  ]
}