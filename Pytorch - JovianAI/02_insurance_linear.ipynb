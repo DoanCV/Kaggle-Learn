{
  "nbformat": 4,
  "nbformat_minor": 0,
  "metadata": {
    "kernelspec": {
      "display_name": "Python 3",
      "language": "python",
      "name": "python3"
    },
    "language_info": {
      "codemirror_mode": {
        "name": "ipython",
        "version": 3
      },
      "file_extension": ".py",
      "mimetype": "text/x-python",
      "name": "python",
      "nbconvert_exporter": "python",
      "pygments_lexer": "ipython3",
      "version": "3.8.6"
    },
    "colab": {
      "name": "02-insurance-linear.ipynb",
      "provenance": []
    }
  },
  "cells": [
    {
      "cell_type": "code",
      "metadata": {
        "id": "qDpUC4MBqiRa"
      },
      "source": [
        "# Jovian Commit Essentials\n",
        "# Please retain and execute this cell without modifying the contents for `jovian.commit` to work\n",
        "!pip install jovian --upgrade -q\n",
        "import jovian\n",
        "jovian.set_project('02-insurance-linear-regression')\n",
        "jovian.set_colab_id('15wtJ71RCgdOqe61is50VMoZcPdY8wUbN')"
      ],
      "execution_count": null,
      "outputs": []
    },
    {
      "cell_type": "markdown",
      "metadata": {
        "_cell_guid": "b1076dfc-b9ad-4769-8c92-a6c4dae69d19",
        "_uuid": "8f2839f25d086af736a60e9eeb907d3b93b6e0e5",
        "id": "JNJ2vzxfqiR2"
      },
      "source": [
        "# Insurance cost prediction using linear regression\n",
        "\n",
        "Make a submisson here: https://jovian.ai/learn/deep-learning-with-pytorch-zero-to-gans/assignment/assignment-2-train-your-first-model\n",
        "\n",
        "In this assignment we're going to use information like a person's age, sex, BMI, no. of children and smoking habit to predict the price of yearly medical bills. This kind of model is useful for insurance companies to determine the yearly insurance premium for a person. The dataset for this problem is taken from [Kaggle](https://www.kaggle.com/mirichoi0218/insurance).\n",
        "\n",
        "\n",
        "We will create a model with the following steps:\n",
        "1. Download and explore the dataset\n",
        "2. Prepare the dataset for training\n",
        "3. Create a linear regression model\n",
        "4. Train the model to fit the data\n",
        "5. Make predictions using the trained model\n",
        "\n",
        "\n",
        "This assignment builds upon the concepts from the first 2 lessons. It will help to review these Jupyter notebooks:\n",
        "- PyTorch basics: https://jovian.ai/aakashns/01-pytorch-basics\n",
        "- Linear Regression: https://jovian.ai/aakashns/02-linear-regression\n",
        "- Logistic Regression: https://jovian.ai/aakashns/03-logistic-regression\n",
        "- Linear regression (minimal): https://jovian.ai/aakashns/housing-linear-minimal\n",
        "- Logistic regression (minimal): https://jovian.ai/aakashns/mnist-logistic-minimal\n",
        "\n",
        "As you go through this notebook, you will find a **???** in certain places. Your job is to replace the **???** with appropriate code or values, to ensure that the notebook runs properly end-to-end . In some cases, you'll be required to choose some hyperparameters (learning rate, batch size etc.). Try to experiment with the hypeparameters to get the lowest loss.\n"
      ]
    },
    {
      "cell_type": "code",
      "metadata": {
        "id": "z1raCT4DqiR6"
      },
      "source": [
        "# Uncomment and run the appropriate command for your operating system, if required\n",
        "\n",
        "# Linux / Binder\n",
        "# !pip install numpy matplotlib pandas torch==1.7.0+cpu torchvision==0.8.1+cpu torchaudio==0.7.0 -f https://download.pytorch.org/whl/torch_stable.html\n",
        "\n",
        "# Windows\n",
        "# !pip install numpy matplotlib pandas torch==1.7.0+cpu torchvision==0.8.1+cpu torchaudio==0.7.0 -f https://download.pytorch.org/whl/torch_stable.html\n",
        "\n",
        "# MacOS\n",
        "# !pip install numpy matplotlib pandas torch torchvision torchaudio"
      ],
      "execution_count": null,
      "outputs": []
    },
    {
      "cell_type": "code",
      "metadata": {
        "id": "XJKXxQBGqiR8"
      },
      "source": [
        "import torch\n",
        "import jovian\n",
        "import torchvision\n",
        "import torch.nn as nn\n",
        "import pandas as pd\n",
        "import matplotlib.pyplot as plt\n",
        "import torch.nn.functional as F\n",
        "from torchvision.datasets.utils import download_url\n",
        "from torch.utils.data import DataLoader, TensorDataset, random_split"
      ],
      "execution_count": null,
      "outputs": []
    },
    {
      "cell_type": "code",
      "metadata": {
        "id": "XiYaGARpqiR_"
      },
      "source": [
        "project_name='02-insurance-linear-regression' # will be used by jovian.commit"
      ],
      "execution_count": null,
      "outputs": []
    },
    {
      "cell_type": "markdown",
      "metadata": {
        "id": "_37FniyLqiSB"
      },
      "source": [
        "## Step 1: Download and explore the data\n",
        "\n",
        "Let us begin by downloading the data. We'll use the `download_url` function from PyTorch to get the data as a CSV (comma-separated values) file. "
      ]
    },
    {
      "cell_type": "code",
      "metadata": {
        "_cell_guid": "79c7e3d0-c299-4dcb-8224-4455121ee9b0",
        "_uuid": "d629ff2d2480ee46fbb7e2d37f6b5fab8052498a",
        "id": "62mSTnVKqiSE",
        "outputId": "7a79dbaf-228f-451c-e522-d5792933f91d",
        "colab": {
          "referenced_widgets": [
            "b66950723d5b472c815ef915bb31b53e"
          ]
        }
      },
      "source": [
        "DATASET_URL = \"https://hub.jovian.ml/wp-content/uploads/2020/05/insurance.csv\"\n",
        "DATA_FILENAME = \"insurance.csv\"\n",
        "download_url(DATASET_URL, '.')"
      ],
      "execution_count": null,
      "outputs": [
        {
          "output_type": "stream",
          "text": [
            "Downloading https://hub.jovian.ml/wp-content/uploads/2020/05/insurance.csv to ./insurance.csv\n"
          ],
          "name": "stdout"
        },
        {
          "output_type": "display_data",
          "data": {
            "application/vnd.jupyter.widget-view+json": {
              "model_id": "b66950723d5b472c815ef915bb31b53e",
              "version_major": 2,
              "version_minor": 0
            },
            "text/plain": [
              "HBox(children=(HTML(value=''), FloatProgress(value=1.0, bar_style='info', layout=Layout(width='20px'), max=1.0…"
            ]
          },
          "metadata": {
            "tags": []
          }
        }
      ]
    },
    {
      "cell_type": "markdown",
      "metadata": {
        "id": "kFKKs4xDqiSJ"
      },
      "source": [
        "To load the dataset into memory, we'll use the `read_csv` function from the `pandas` library. The data will be loaded as a Pandas dataframe. See this short tutorial to learn more: https://data36.com/pandas-tutorial-1-basics-reading-data-files-dataframes-data-selection/"
      ]
    },
    {
      "cell_type": "code",
      "metadata": {
        "id": "-zFREJyUqiSL",
        "outputId": "a6dfa240-d5d3-4956-a5cd-11193c9973ff"
      },
      "source": [
        "dataframe_raw = pd.read_csv(DATA_FILENAME)\n",
        "dataframe_raw.head()"
      ],
      "execution_count": null,
      "outputs": [
        {
          "output_type": "execute_result",
          "data": {
            "text/html": [
              "<div>\n",
              "<style scoped>\n",
              "    .dataframe tbody tr th:only-of-type {\n",
              "        vertical-align: middle;\n",
              "    }\n",
              "\n",
              "    .dataframe tbody tr th {\n",
              "        vertical-align: top;\n",
              "    }\n",
              "\n",
              "    .dataframe thead th {\n",
              "        text-align: right;\n",
              "    }\n",
              "</style>\n",
              "<table border=\"1\" class=\"dataframe\">\n",
              "  <thead>\n",
              "    <tr style=\"text-align: right;\">\n",
              "      <th></th>\n",
              "      <th>age</th>\n",
              "      <th>sex</th>\n",
              "      <th>bmi</th>\n",
              "      <th>children</th>\n",
              "      <th>smoker</th>\n",
              "      <th>region</th>\n",
              "      <th>charges</th>\n",
              "    </tr>\n",
              "  </thead>\n",
              "  <tbody>\n",
              "    <tr>\n",
              "      <th>0</th>\n",
              "      <td>19</td>\n",
              "      <td>female</td>\n",
              "      <td>27.900</td>\n",
              "      <td>0</td>\n",
              "      <td>yes</td>\n",
              "      <td>southwest</td>\n",
              "      <td>16884.92400</td>\n",
              "    </tr>\n",
              "    <tr>\n",
              "      <th>1</th>\n",
              "      <td>18</td>\n",
              "      <td>male</td>\n",
              "      <td>33.770</td>\n",
              "      <td>1</td>\n",
              "      <td>no</td>\n",
              "      <td>southeast</td>\n",
              "      <td>1725.55230</td>\n",
              "    </tr>\n",
              "    <tr>\n",
              "      <th>2</th>\n",
              "      <td>28</td>\n",
              "      <td>male</td>\n",
              "      <td>33.000</td>\n",
              "      <td>3</td>\n",
              "      <td>no</td>\n",
              "      <td>southeast</td>\n",
              "      <td>4449.46200</td>\n",
              "    </tr>\n",
              "    <tr>\n",
              "      <th>3</th>\n",
              "      <td>33</td>\n",
              "      <td>male</td>\n",
              "      <td>22.705</td>\n",
              "      <td>0</td>\n",
              "      <td>no</td>\n",
              "      <td>northwest</td>\n",
              "      <td>21984.47061</td>\n",
              "    </tr>\n",
              "    <tr>\n",
              "      <th>4</th>\n",
              "      <td>32</td>\n",
              "      <td>male</td>\n",
              "      <td>28.880</td>\n",
              "      <td>0</td>\n",
              "      <td>no</td>\n",
              "      <td>northwest</td>\n",
              "      <td>3866.85520</td>\n",
              "    </tr>\n",
              "  </tbody>\n",
              "</table>\n",
              "</div>"
            ],
            "text/plain": [
              "   age     sex     bmi  children smoker     region      charges\n",
              "0   19  female  27.900         0    yes  southwest  16884.92400\n",
              "1   18    male  33.770         1     no  southeast   1725.55230\n",
              "2   28    male  33.000         3     no  southeast   4449.46200\n",
              "3   33    male  22.705         0     no  northwest  21984.47061\n",
              "4   32    male  28.880         0     no  northwest   3866.85520"
            ]
          },
          "metadata": {
            "tags": []
          },
          "execution_count": 5
        }
      ]
    },
    {
      "cell_type": "markdown",
      "metadata": {
        "id": "eC-tu-eoqiSN"
      },
      "source": [
        "We're going to do a slight customization of the data, so that every participant receives a slightly different version of the dataset. Fill in your name below as a string (enter at least 5 characters)"
      ]
    },
    {
      "cell_type": "code",
      "metadata": {
        "id": "BT_ZuykDqiSP"
      },
      "source": [
        "your_name = 'brian' # at least 5 characters"
      ],
      "execution_count": null,
      "outputs": []
    },
    {
      "cell_type": "markdown",
      "metadata": {
        "id": "0tDSieYDqiSQ"
      },
      "source": [
        "The `customize_dataset` function will customize the dataset slightly using your name as a source of random numbers."
      ]
    },
    {
      "cell_type": "code",
      "metadata": {
        "id": "VyxJUXe7qiSR"
      },
      "source": [
        "def customize_dataset(dataframe_raw, rand_str):\n",
        "    dataframe = dataframe_raw.copy(deep=True)\n",
        "    # drop some rows\n",
        "    dataframe = dataframe.sample(int(0.95*len(dataframe)), random_state=int(ord(rand_str[0])))\n",
        "    # scale input\n",
        "    dataframe.bmi = dataframe.bmi * ord(rand_str[1])/100.\n",
        "    # scale target\n",
        "    dataframe.charges = dataframe.charges * ord(rand_str[2])/100.\n",
        "    # drop column\n",
        "    if ord(rand_str[3]) % 2 == 1:\n",
        "        dataframe = dataframe.drop(['region'], axis=1)\n",
        "    return dataframe"
      ],
      "execution_count": null,
      "outputs": []
    },
    {
      "cell_type": "code",
      "metadata": {
        "id": "02gAlZ7pqiSU",
        "outputId": "169d78df-be7b-4ad1-aedc-984e25220c5c"
      },
      "source": [
        "dataframe = customize_dataset(dataframe_raw, your_name)\n",
        "dataframe.head()"
      ],
      "execution_count": null,
      "outputs": [
        {
          "output_type": "execute_result",
          "data": {
            "text/html": [
              "<div>\n",
              "<style scoped>\n",
              "    .dataframe tbody tr th:only-of-type {\n",
              "        vertical-align: middle;\n",
              "    }\n",
              "\n",
              "    .dataframe tbody tr th {\n",
              "        vertical-align: top;\n",
              "    }\n",
              "\n",
              "    .dataframe thead th {\n",
              "        text-align: right;\n",
              "    }\n",
              "</style>\n",
              "<table border=\"1\" class=\"dataframe\">\n",
              "  <thead>\n",
              "    <tr style=\"text-align: right;\">\n",
              "      <th></th>\n",
              "      <th>age</th>\n",
              "      <th>sex</th>\n",
              "      <th>bmi</th>\n",
              "      <th>children</th>\n",
              "      <th>smoker</th>\n",
              "      <th>charges</th>\n",
              "    </tr>\n",
              "  </thead>\n",
              "  <tbody>\n",
              "    <tr>\n",
              "      <th>1306</th>\n",
              "      <td>29</td>\n",
              "      <td>female</td>\n",
              "      <td>24.9090</td>\n",
              "      <td>0</td>\n",
              "      <td>yes</td>\n",
              "      <td>16921.069725</td>\n",
              "    </tr>\n",
              "    <tr>\n",
              "      <th>206</th>\n",
              "      <td>59</td>\n",
              "      <td>male</td>\n",
              "      <td>30.0960</td>\n",
              "      <td>0</td>\n",
              "      <td>no</td>\n",
              "      <td>12330.463950</td>\n",
              "    </tr>\n",
              "    <tr>\n",
              "      <th>191</th>\n",
              "      <td>36</td>\n",
              "      <td>female</td>\n",
              "      <td>29.8680</td>\n",
              "      <td>0</td>\n",
              "      <td>no</td>\n",
              "      <td>5128.059300</td>\n",
              "    </tr>\n",
              "    <tr>\n",
              "      <th>573</th>\n",
              "      <td>62</td>\n",
              "      <td>female</td>\n",
              "      <td>42.0204</td>\n",
              "      <td>1</td>\n",
              "      <td>no</td>\n",
              "      <td>33201.001113</td>\n",
              "    </tr>\n",
              "    <tr>\n",
              "      <th>76</th>\n",
              "      <td>29</td>\n",
              "      <td>female</td>\n",
              "      <td>33.7326</td>\n",
              "      <td>1</td>\n",
              "      <td>no</td>\n",
              "      <td>4144.783755</td>\n",
              "    </tr>\n",
              "  </tbody>\n",
              "</table>\n",
              "</div>"
            ],
            "text/plain": [
              "      age     sex      bmi  children smoker       charges\n",
              "1306   29  female  24.9090         0    yes  16921.069725\n",
              "206    59    male  30.0960         0     no  12330.463950\n",
              "191    36  female  29.8680         0     no   5128.059300\n",
              "573    62  female  42.0204         1     no  33201.001113\n",
              "76     29  female  33.7326         1     no   4144.783755"
            ]
          },
          "metadata": {
            "tags": []
          },
          "execution_count": 9
        }
      ]
    },
    {
      "cell_type": "markdown",
      "metadata": {
        "id": "VrcPoBLfqiSX"
      },
      "source": [
        "Let us answer some basic questions about the dataset. \n",
        "\n",
        "\n",
        "**Q: How many rows does the dataset have?**"
      ]
    },
    {
      "cell_type": "code",
      "metadata": {
        "id": "lHmoMJ63qiSY",
        "outputId": "e097fd2d-ee91-458c-d047-4e86461d7744"
      },
      "source": [
        "num_rows = len(dataframe)\n",
        "print(num_rows)"
      ],
      "execution_count": null,
      "outputs": [
        {
          "output_type": "stream",
          "text": [
            "1271\n"
          ],
          "name": "stdout"
        }
      ]
    },
    {
      "cell_type": "markdown",
      "metadata": {
        "id": "5Gi9vrMSqiSa"
      },
      "source": [
        "**Q: How many columns doe the dataset have**"
      ]
    },
    {
      "cell_type": "code",
      "metadata": {
        "id": "FJbcQ9JLqiSb",
        "outputId": "58bfdf09-7928-46d2-c57a-782a5efb28aa"
      },
      "source": [
        "num_cols = dataframe.shape[1]\n",
        "print(num_cols)"
      ],
      "execution_count": null,
      "outputs": [
        {
          "output_type": "stream",
          "text": [
            "6\n"
          ],
          "name": "stdout"
        }
      ]
    },
    {
      "cell_type": "markdown",
      "metadata": {
        "id": "RN3avH7GqiSc"
      },
      "source": [
        "**Q: What are the column titles of the input variables?**"
      ]
    },
    {
      "cell_type": "code",
      "metadata": {
        "id": "8Ubt_mRgqiSd",
        "outputId": "76605059-45ea-4247-9c1c-49e837d5a802"
      },
      "source": [
        "input_cols = [i for i in dataframe.columns[:-1]]\n",
        "input_cols"
      ],
      "execution_count": null,
      "outputs": [
        {
          "output_type": "execute_result",
          "data": {
            "text/plain": [
              "['age', 'sex', 'bmi', 'children', 'smoker']"
            ]
          },
          "metadata": {
            "tags": []
          },
          "execution_count": 83
        }
      ]
    },
    {
      "cell_type": "markdown",
      "metadata": {
        "id": "IXrcoWfDqiSf"
      },
      "source": [
        "**Q: Which of the input columns are non-numeric or categorial variables ?**\n",
        "\n",
        "Hint: `sex` is one of them. List the columns that are not numbers."
      ]
    },
    {
      "cell_type": "code",
      "metadata": {
        "id": "GP6ZpI0ZqiSg",
        "outputId": "88b0f3f3-47fe-4856-9b0d-de3b0b6e7fda"
      },
      "source": [
        "categorical_cols = [i for i in dataframe.select_dtypes(exclude = ['number']).columns]\n",
        "categorical_cols"
      ],
      "execution_count": null,
      "outputs": [
        {
          "output_type": "execute_result",
          "data": {
            "text/plain": [
              "['sex', 'smoker']"
            ]
          },
          "metadata": {
            "tags": []
          },
          "execution_count": 85
        }
      ]
    },
    {
      "cell_type": "markdown",
      "metadata": {
        "id": "63ywIrjTqiSh"
      },
      "source": [
        "**Q: What are the column titles of output/target variable(s)?**"
      ]
    },
    {
      "cell_type": "code",
      "metadata": {
        "id": "fSvSsgAsqiSi"
      },
      "source": [
        "output_cols = ['charges']"
      ],
      "execution_count": null,
      "outputs": []
    },
    {
      "cell_type": "markdown",
      "metadata": {
        "id": "iGCNDc6VqiSj"
      },
      "source": [
        "**Q: (Optional) What is the minimum, maximum and average value of the `charges` column? Can you show the distribution of values in a graph?**\n",
        "Use this data visualization cheatsheet for referece: https://jovian.ml/aakashns/dataviz-cheatsheet"
      ]
    },
    {
      "cell_type": "code",
      "metadata": {
        "id": "9O1VNBzrqiSl",
        "outputId": "f3fa8951-9293-4ea7-a3b8-897df26d806f"
      },
      "source": [
        "# Write your answer here\n",
        "import seaborn as sns\n",
        "\n",
        "print(dataframe.charges.describe())\n",
        "\n",
        "sns.histplot(dataframe.charges, kde=False);"
      ],
      "execution_count": null,
      "outputs": [
        {
          "output_type": "stream",
          "text": [
            "count     1271.000000\n",
            "mean     14035.956743\n",
            "std      12842.507034\n",
            "min       1177.967595\n",
            "25%       4965.452494\n",
            "50%       9881.555250\n",
            "75%      17682.701369\n",
            "max      66958.949411\n",
            "Name: charges, dtype: float64\n"
          ],
          "name": "stdout"
        },
        {
          "output_type": "display_data",
          "data": {
            "image/png": "[encoded data removed]",
            "text/plain": [
              "<Figure size 432x288 with 1 Axes>"
            ]
          },
          "metadata": {
            "tags": [],
            "needs_background": "light"
          }
        }
      ]
    },
    {
      "cell_type": "markdown",
      "metadata": {
        "id": "YAxCSoF-qiSn"
      },
      "source": [
        "Remember to commit your notebook to Jovian after every step, so that you don't lose your work."
      ]
    },
    {
      "cell_type": "code",
      "metadata": {
        "id": "NNmc0KP2qiSo"
      },
      "source": [
        "!pip install jovian --upgrade -q"
      ],
      "execution_count": null,
      "outputs": []
    },
    {
      "cell_type": "code",
      "metadata": {
        "id": "77GqlcboqiSp"
      },
      "source": [
        "import jovian"
      ],
      "execution_count": null,
      "outputs": []
    },
    {
      "cell_type": "code",
      "metadata": {
        "id": "FG48ZMUBqiSq",
        "outputId": "8a311d5f-377a-4c6a-f9f6-1487c84b294a"
      },
      "source": [
        "jovian.commit()"
      ],
      "execution_count": null,
      "outputs": [
        {
          "output_type": "display_data",
          "data": {
            "application/javascript": [
              "window.require && require([\"base/js/namespace\"],function(Jupyter){Jupyter.notebook.save_checkpoint()})"
            ],
            "text/plain": [
              "<IPython.core.display.Javascript object>"
            ]
          },
          "metadata": {
            "tags": []
          }
        },
        {
          "output_type": "stream",
          "text": [
            "[jovian] Attempting to save notebook..\u001b[0m\n",
            "[jovian] Updating notebook \"porkdown/02-insurance-linear-regression\" on https://jovian.ai\u001b[0m\n",
            "[jovian] Uploading notebook..\u001b[0m\n",
            "[jovian] Uploading additional files...\u001b[0m\n",
            "[jovian] Committed successfully! https://jovian.ai/porkdown/02-insurance-linear-regression\u001b[0m\n"
          ],
          "name": "stdout"
        },
        {
          "output_type": "execute_result",
          "data": {
            "text/plain": [
              "'https://jovian.ai/porkdown/02-insurance-linear-regression'"
            ]
          },
          "metadata": {
            "tags": []
          },
          "execution_count": 90
        }
      ]
    },
    {
      "cell_type": "markdown",
      "metadata": {
        "id": "5jaKDVa6qiSr"
      },
      "source": [
        "## Step 2: Prepare the dataset for training\n",
        "\n",
        "We need to convert the data from the Pandas dataframe into a PyTorch tensors for training. To do this, the first step is to convert it numpy arrays. If you've filled out `input_cols`, `categorial_cols` and `output_cols` correctly, this following function will perform the conversion to numpy arrays."
      ]
    },
    {
      "cell_type": "code",
      "metadata": {
        "id": "0h_ldpgQqiSs"
      },
      "source": [
        "def dataframe_to_arrays(dataframe):\n",
        "    # Make a copy of the original dataframe\n",
        "    dataframe1 = dataframe.copy(deep=True)\n",
        "    # Convert non-numeric categorical columns to numbers\n",
        "    for col in categorical_cols:\n",
        "        dataframe1[col] = dataframe1[col].astype('category').cat.codes\n",
        "    # Extract input & outupts as numpy arrays\n",
        "    inputs_array = dataframe1[input_cols].to_numpy()\n",
        "    targets_array = dataframe1[output_cols].to_numpy()\n",
        "    return inputs_array, targets_array"
      ],
      "execution_count": null,
      "outputs": []
    },
    {
      "cell_type": "markdown",
      "metadata": {
        "id": "bpk7M6BeqiSt"
      },
      "source": [
        "Read through the [Pandas documentation](https://pandas.pydata.org/pandas-docs/stable/user_guide/categorical.html) to understand how we're converting categorical variables into numbers."
      ]
    },
    {
      "cell_type": "code",
      "metadata": {
        "id": "fpk-AyvhqiSu",
        "outputId": "59dd29c3-36e2-4cc8-e1e9-b9943bd81cfd"
      },
      "source": [
        "inputs_array, targets_array = dataframe_to_arrays(dataframe)\n",
        "inputs_array, targets_array"
      ],
      "execution_count": null,
      "outputs": [
        {
          "output_type": "execute_result",
          "data": {
            "text/plain": [
              "(array([[29.    ,  0.    , 24.909 ,  0.    ,  1.    ],\n",
              "        [59.    ,  1.    , 30.096 ,  0.    ,  0.    ],\n",
              "        [36.    ,  0.    , 29.868 ,  0.    ,  0.    ],\n",
              "        ...,\n",
              "        [40.    ,  0.    , 47.2188,  1.    ,  0.    ],\n",
              "        [52.    ,  0.    , 20.9019,  0.    ,  0.    ],\n",
              "        [39.    ,  1.    , 40.242 ,  2.    ,  1.    ]]),\n",
              " array([[16921.069725 ],\n",
              "        [12330.46395  ],\n",
              "        [ 5128.0593   ],\n",
              "        ...,\n",
              "        [29900.5717395],\n",
              "        [10490.5895325],\n",
              "        [42109.0845   ]]))"
            ]
          },
          "metadata": {
            "tags": []
          },
          "execution_count": 92
        }
      ]
    },
    {
      "cell_type": "markdown",
      "metadata": {
        "id": "6aE0z4v8qiSv"
      },
      "source": [
        "**Q: Convert the numpy arrays `inputs_array` and `targets_array` into PyTorch tensors. Make sure that the data type is `torch.float32`.**"
      ]
    },
    {
      "cell_type": "code",
      "metadata": {
        "id": "UO3Z47d9qiSw"
      },
      "source": [
        "inputs = torch.from_numpy(inputs_array).float()\n",
        "targets = torch.from_numpy(targets_array)"
      ],
      "execution_count": null,
      "outputs": []
    },
    {
      "cell_type": "code",
      "metadata": {
        "id": "WV_GjrvVqiSy",
        "outputId": "e8b8af4a-35b7-4996-9d52-d73b0ab178ea"
      },
      "source": [
        "inputs.dtype, targets.dtype"
      ],
      "execution_count": null,
      "outputs": [
        {
          "output_type": "execute_result",
          "data": {
            "text/plain": [
              "(torch.float32, torch.float64)"
            ]
          },
          "metadata": {
            "tags": []
          },
          "execution_count": 97
        }
      ]
    },
    {
      "cell_type": "markdown",
      "metadata": {
        "id": "X9gKHdmbqiSz"
      },
      "source": [
        "Next, we need to create PyTorch datasets & data loaders for training & validation. We'll start by creating a `TensorDataset`."
      ]
    },
    {
      "cell_type": "code",
      "metadata": {
        "id": "FZQS5x4fqiS0"
      },
      "source": [
        "dataset = TensorDataset(inputs, targets)"
      ],
      "execution_count": null,
      "outputs": []
    },
    {
      "cell_type": "markdown",
      "metadata": {
        "id": "LVB5RVOZqiS1"
      },
      "source": [
        "**Q: Pick a number between `0.1` and `0.2` to determine the fraction of data that will be used for creating the validation set. Then use `random_split` to create training & validation datasets.**"
      ]
    },
    {
      "cell_type": "code",
      "metadata": {
        "id": "_y-cP1nMqiS2",
        "outputId": "8143b14a-1556-4a42-ed74-45e9b1f9bbcf"
      },
      "source": [
        "val_percent = .20 # between 0.1 and 0.2\n",
        "val_size = int(num_rows * val_percent)\n",
        "train_size = num_rows - val_size\n",
        "\n",
        "print(val_size)\n",
        "print(train_size)\n",
        "train_ds, val_ds = random_split(dataset, [train_size, val_size]) # Use the random_split function to split dataset into 2 parts of the desired length"
      ],
      "execution_count": null,
      "outputs": [
        {
          "output_type": "stream",
          "text": [
            "254\n",
            "1017\n"
          ],
          "name": "stdout"
        }
      ]
    },
    {
      "cell_type": "markdown",
      "metadata": {
        "id": "FEmATtOfqiS4"
      },
      "source": [
        "Finally, we can create data loaders for training & validation.\n",
        "\n",
        "**Q: Pick a batch size for the data loader.**"
      ]
    },
    {
      "cell_type": "code",
      "metadata": {
        "id": "_aU06KnmqiS5"
      },
      "source": [
        "batch_size = 50"
      ],
      "execution_count": null,
      "outputs": []
    },
    {
      "cell_type": "code",
      "metadata": {
        "id": "wcVXDE9eqiS6"
      },
      "source": [
        "train_loader = DataLoader(train_ds, batch_size, shuffle=True)\n",
        "val_loader = DataLoader(val_ds, batch_size)"
      ],
      "execution_count": null,
      "outputs": []
    },
    {
      "cell_type": "markdown",
      "metadata": {
        "id": "ceKnF-X0qiS7"
      },
      "source": [
        "Let's look at a batch of data to verify everything is working fine so far."
      ]
    },
    {
      "cell_type": "code",
      "metadata": {
        "id": "QJtV9uD2qiS8",
        "outputId": "199eb592-600e-4a25-c3aa-a09dd300d302"
      },
      "source": [
        "for xb, yb in train_loader:\n",
        "    print(\"inputs:\", xb)\n",
        "    print(\"targets:\", yb)\n",
        "    break"
      ],
      "execution_count": null,
      "outputs": [
        {
          "output_type": "stream",
          "text": [
            "inputs: tensor([[47.0000,  0.0000, 51.6648,  1.0000,  0.0000],\n",
            "        [23.0000,  0.0000, 41.8038,  2.0000,  1.0000],\n",
            "        [50.0000,  1.0000, 35.3058,  3.0000,  0.0000],\n",
            "        [56.0000,  0.0000, 32.2734,  0.0000,  0.0000],\n",
            "        [24.0000,  1.0000, 26.9667,  0.0000,  0.0000],\n",
            "        [42.0000,  1.0000, 34.2000,  0.0000,  1.0000],\n",
            "        [26.0000,  1.0000, 30.8484,  0.0000,  1.0000],\n",
            "        [58.0000,  0.0000, 37.7340,  0.0000,  0.0000],\n",
            "        [48.0000,  1.0000, 39.1020,  3.0000,  0.0000],\n",
            "        [47.0000,  1.0000, 34.0062,  3.0000,  0.0000],\n",
            "        [61.0000,  1.0000, 41.1540,  3.0000,  0.0000],\n",
            "        [47.0000,  0.0000, 33.6813,  1.0000,  0.0000],\n",
            "        [30.0000,  0.0000, 44.5170,  3.0000,  1.0000],\n",
            "        [32.0000,  1.0000, 32.0568,  4.0000,  1.0000],\n",
            "        [29.0000,  0.0000, 33.7326,  1.0000,  0.0000],\n",
            "        [48.0000,  0.0000, 35.4882,  0.0000,  0.0000],\n",
            "        [19.0000,  0.0000, 32.2620,  0.0000,  1.0000],\n",
            "        [19.0000,  0.0000, 26.6760,  2.0000,  0.0000],\n",
            "        [40.0000,  1.0000, 38.8797,  1.0000,  0.0000],\n",
            "        [50.0000,  0.0000, 29.1840,  0.0000,  0.0000],\n",
            "        [19.0000,  1.0000, 40.3560,  0.0000,  0.0000],\n",
            "        [59.0000,  0.0000, 31.6008,  3.0000,  0.0000],\n",
            "        [53.0000,  1.0000, 41.7240,  3.0000,  0.0000],\n",
            "        [55.0000,  0.0000, 34.0062,  0.0000,  0.0000],\n",
            "        [32.0000,  0.0000, 33.9720,  2.0000,  0.0000],\n",
            "        [46.0000,  0.0000, 31.6008,  1.0000,  0.0000],\n",
            "        [34.0000,  0.0000, 33.3564,  3.0000,  0.0000],\n",
            "        [27.0000,  1.0000, 26.3340,  0.0000,  0.0000],\n",
            "        [47.0000,  1.0000, 32.1651,  4.0000,  0.0000],\n",
            "        [51.0000,  1.0000, 48.9060,  2.0000,  1.0000],\n",
            "        [44.0000,  1.0000, 34.9866,  2.0000,  0.0000],\n",
            "        [58.0000,  0.0000, 33.0600,  0.0000,  0.0000],\n",
            "        [63.0000,  0.0000, 26.3169,  0.0000,  0.0000],\n",
            "        [43.0000,  1.0000, 41.0058,  3.0000,  1.0000],\n",
            "        [50.0000,  0.0000, 38.4180,  4.0000,  0.0000],\n",
            "        [55.0000,  0.0000, 30.5520,  1.0000,  0.0000],\n",
            "        [39.0000,  0.0000, 27.6165,  5.0000,  0.0000],\n",
            "        [19.0000,  1.0000, 31.5780,  0.0000,  1.0000],\n",
            "        [19.0000,  0.0000, 31.8402,  3.0000,  0.0000],\n",
            "        [44.0000,  0.0000, 43.3884,  0.0000,  1.0000],\n",
            "        [28.0000,  0.0000, 29.9991,  3.0000,  0.0000],\n",
            "        [57.0000,  1.0000, 38.7714,  0.0000,  0.0000],\n",
            "        [58.0000,  1.0000, 40.6980,  0.0000,  0.0000],\n",
            "        [21.0000,  0.0000, 30.0960,  1.0000,  0.0000],\n",
            "        [44.0000,  1.0000, 34.4280,  2.0000,  1.0000],\n",
            "        [19.0000,  1.0000, 37.7340,  0.0000,  0.0000],\n",
            "        [54.0000,  1.0000, 29.0244,  1.0000,  0.0000],\n",
            "        [20.0000,  0.0000, 30.5976,  1.0000,  1.0000],\n",
            "        [23.0000,  1.0000, 30.2214,  0.0000,  0.0000],\n",
            "        [25.0000,  1.0000, 33.8580,  3.0000,  1.0000]])\n",
            "targets: tensor([[ 8998.3549],\n",
            "        [40437.2097],\n",
            "        [11130.5757],\n",
            "        [12240.6048],\n",
            "        [ 2470.6169],\n",
            "        [23251.2336],\n",
            "        [17895.5085],\n",
            "        [12440.5481],\n",
            "        [10041.1804],\n",
            "        [10101.3472],\n",
            "        [29338.3520],\n",
            "        [ 9377.4813],\n",
            "        [42979.0510],\n",
            "        [22546.1027],\n",
            "        [ 4144.7838],\n",
            "        [ 8694.6538],\n",
            "        [17935.1340],\n",
            "        [ 3059.2475],\n",
            "        [ 6930.2162],\n",
            "        [ 9378.6882],\n",
            "        [ 1326.4114],\n",
            "        [14701.1905],\n",
            "        [11827.7681],\n",
            "        [11850.8656],\n",
            "        [ 5409.7407],\n",
            "        [ 8644.2707],\n",
            "        [ 6493.5144],\n",
            "        [ 2607.9228],\n",
            "        [10927.4401],\n",
            "        [49836.0387],\n",
            "        [ 8117.9985],\n",
            "        [12434.5641],\n",
            "        [15174.4269],\n",
            "        [44230.7411],\n",
            "        [11864.3102],\n",
            "        [36918.1413],\n",
            "        [ 9414.0855],\n",
            "        [17112.7383],\n",
            "        [19780.6388],\n",
            "        [51329.3924],\n",
            "        [ 5577.7783],\n",
            "        [11924.4939],\n",
            "        [11930.8927],\n",
            "        [ 2727.6680],\n",
            "        [40948.4733],\n",
            "        [24237.1031],\n",
            "        [26792.9693],\n",
            "        [17939.5310],\n",
            "        [ 1906.6697],\n",
            "        [20930.1309]], dtype=torch.float64)\n"
          ],
          "name": "stdout"
        }
      ]
    },
    {
      "cell_type": "markdown",
      "metadata": {
        "id": "qdT-tFGzqiS-"
      },
      "source": [
        "Let's save our work by committing to Jovian."
      ]
    },
    {
      "cell_type": "code",
      "metadata": {
        "id": "4i0ar3EHqiS_",
        "outputId": "9b675398-b9f1-40b5-f47a-dc0482b49dd0"
      },
      "source": [
        "jovian.commit(project=project_name, environment=None)"
      ],
      "execution_count": null,
      "outputs": [
        {
          "output_type": "display_data",
          "data": {
            "application/javascript": [
              "window.require && require([\"base/js/namespace\"],function(Jupyter){Jupyter.notebook.save_checkpoint()})"
            ],
            "text/plain": [
              "<IPython.core.display.Javascript object>"
            ]
          },
          "metadata": {
            "tags": []
          }
        },
        {
          "output_type": "stream",
          "text": [
            "[jovian] Attempting to save notebook..\u001b[0m\n",
            "[jovian] Updating notebook \"porkdown/02-insurance-linear-regression\" on https://jovian.ai\u001b[0m\n",
            "[jovian] Uploading notebook..\u001b[0m\n",
            "[jovian] Uploading additional files...\u001b[0m\n",
            "[jovian] Committed successfully! https://jovian.ai/porkdown/02-insurance-linear-regression\u001b[0m\n"
          ],
          "name": "stdout"
        },
        {
          "output_type": "execute_result",
          "data": {
            "text/plain": [
              "'https://jovian.ai/porkdown/02-insurance-linear-regression'"
            ]
          },
          "metadata": {
            "tags": []
          },
          "execution_count": 103
        }
      ]
    },
    {
      "cell_type": "markdown",
      "metadata": {
        "id": "pqeMOtJmqiTA"
      },
      "source": [
        "## Step 3: Create a Linear Regression Model\n",
        "\n",
        "Our model itself is a fairly straightforward linear regression (we'll build more complex models in the next assignment). \n"
      ]
    },
    {
      "cell_type": "code",
      "metadata": {
        "id": "qKUiGYvTqiTB"
      },
      "source": [
        "input_size = len(input_cols)\n",
        "output_size = len(output_cols)"
      ],
      "execution_count": null,
      "outputs": []
    },
    {
      "cell_type": "markdown",
      "metadata": {
        "id": "NalwXrQwqiTC"
      },
      "source": [
        "**Q: Complete the class definition below by filling out the constructor (`__init__`), `forward`, `training_step` and `validation_step` methods.**\n",
        "\n",
        "Hint: Think carefully about picking a good loss fuction (it's not cross entropy). Maybe try 2-3 of them and see which one works best. See https://pytorch.org/docs/stable/nn.functional.html#loss-functions"
      ]
    },
    {
      "cell_type": "code",
      "metadata": {
        "id": "Y3ONlo7yqiTD"
      },
      "source": [
        "class InsuranceModel(nn.Module):\n",
        "    def __init__(self):\n",
        "        super().__init__()\n",
        "        self.linear = nn.Linear(input_size, output_size)                  # fill this (hint: use input_size & output_size defined above)\n",
        "        \n",
        "    def forward(self, xb):\n",
        "        out = self.linear(xb)                          # fill this\n",
        "        return out\n",
        "    \n",
        "    def training_step(self, batch):\n",
        "        inputs, targets = batch \n",
        "        # Generate predictions\n",
        "        out = self(inputs)          \n",
        "        # Calcuate loss\n",
        "        loss = F.l1_loss(out,targets)                          # fill this\n",
        "        return loss\n",
        "    \n",
        "    def validation_step(self, batch):\n",
        "        inputs, targets = batch\n",
        "        # Generate predictions\n",
        "        out = self(inputs)\n",
        "        # Calculate loss\n",
        "        loss = F.l1_loss(out,targets)                           # fill this    \n",
        "        return {'val_loss': loss.detach()}\n",
        "        \n",
        "    def validation_epoch_end(self, outputs):\n",
        "        batch_losses = [x['val_loss'] for x in outputs]\n",
        "        epoch_loss = torch.stack(batch_losses).mean()   # Combine losses\n",
        "        return {'val_loss': epoch_loss.item()}\n",
        "    \n",
        "    def epoch_end(self, epoch, result, num_epochs):\n",
        "        # Print result every 20th epoch\n",
        "        if (epoch+1) % 20 == 0 or epoch == num_epochs-1:\n",
        "            print(\"Epoch [{}], val_loss: {:.4f}\".format(epoch+1, result['val_loss']))"
      ],
      "execution_count": null,
      "outputs": []
    },
    {
      "cell_type": "markdown",
      "metadata": {
        "id": "dSBkuotfqiTF"
      },
      "source": [
        "Let us create a model using the `InsuranceModel` class. You may need to come back later and re-run the next cell to reinitialize the model, in case the loss becomes `nan` or `infinity`."
      ]
    },
    {
      "cell_type": "code",
      "metadata": {
        "id": "8Wd5MMyWqiTJ"
      },
      "source": [
        "model = InsuranceModel()"
      ],
      "execution_count": null,
      "outputs": []
    },
    {
      "cell_type": "markdown",
      "metadata": {
        "id": "r-LVDqLsqiTK"
      },
      "source": [
        "Let's check out the weights and biases of the model using `model.parameters`."
      ]
    },
    {
      "cell_type": "code",
      "metadata": {
        "id": "6KjJTm9cqiTL",
        "outputId": "2a5995cd-9b76-486d-b04e-f90cdf2b82db"
      },
      "source": [
        "list(model.parameters())"
      ],
      "execution_count": null,
      "outputs": [
        {
          "output_type": "execute_result",
          "data": {
            "text/plain": [
              "[Parameter containing:\n",
              " tensor([[-0.3028, -0.3116,  0.0360, -0.0528, -0.2739]], requires_grad=True),\n",
              " Parameter containing:\n",
              " tensor([0.4068], requires_grad=True)]"
            ]
          },
          "metadata": {
            "tags": []
          },
          "execution_count": 107
        }
      ]
    },
    {
      "cell_type": "markdown",
      "metadata": {
        "id": "UNQ5Sr86qiTM"
      },
      "source": [
        "One final commit before we train the model."
      ]
    },
    {
      "cell_type": "code",
      "metadata": {
        "id": "2fwjR7okqiTN",
        "outputId": "1656b62c-e428-4f5f-bea8-b22d7ce515a1"
      },
      "source": [
        "jovian.commit(project=project_name, environment=None)"
      ],
      "execution_count": null,
      "outputs": [
        {
          "output_type": "display_data",
          "data": {
            "application/javascript": [
              "window.require && require([\"base/js/namespace\"],function(Jupyter){Jupyter.notebook.save_checkpoint()})"
            ],
            "text/plain": [
              "<IPython.core.display.Javascript object>"
            ]
          },
          "metadata": {
            "tags": []
          }
        },
        {
          "output_type": "stream",
          "text": [
            "[jovian] Attempting to save notebook..\u001b[0m\n",
            "[jovian] Updating notebook \"porkdown/02-insurance-linear-regression\" on https://jovian.ai\u001b[0m\n",
            "[jovian] Uploading notebook..\u001b[0m\n",
            "[jovian] Uploading additional files...\u001b[0m\n",
            "[jovian] Committed successfully! https://jovian.ai/porkdown/02-insurance-linear-regression\u001b[0m\n"
          ],
          "name": "stdout"
        },
        {
          "output_type": "execute_result",
          "data": {
            "text/plain": [
              "'https://jovian.ai/porkdown/02-insurance-linear-regression'"
            ]
          },
          "metadata": {
            "tags": []
          },
          "execution_count": 108
        }
      ]
    },
    {
      "cell_type": "markdown",
      "metadata": {
        "id": "GkrvsTLEqiTP"
      },
      "source": [
        "## Step 4: Train the model to fit the data\n",
        "\n",
        "To train our model, we'll use the same `fit` function explained in the lecture. That's the benefit of defining a generic training loop - you can use it for any problem."
      ]
    },
    {
      "cell_type": "code",
      "metadata": {
        "id": "KqrJ7-MBqiTQ"
      },
      "source": [
        "def evaluate(model, val_loader):\n",
        "    outputs = [model.validation_step(batch) for batch in val_loader]\n",
        "    return model.validation_epoch_end(outputs)\n",
        "\n",
        "def fit(epochs, lr, model, train_loader, val_loader, opt_func=torch.optim.SGD):\n",
        "    history = []\n",
        "    optimizer = opt_func(model.parameters(), lr)\n",
        "    for epoch in range(epochs):\n",
        "        # Training Phase \n",
        "        for batch in train_loader:\n",
        "            loss = model.training_step(batch)\n",
        "            loss.backward()\n",
        "            optimizer.step()\n",
        "            optimizer.zero_grad()\n",
        "        # Validation phase\n",
        "        result = evaluate(model, val_loader)\n",
        "        model.epoch_end(epoch, result, epochs)\n",
        "        history.append(result)\n",
        "    return history"
      ],
      "execution_count": null,
      "outputs": []
    },
    {
      "cell_type": "markdown",
      "metadata": {
        "id": "DXSuBzHxqiTS"
      },
      "source": [
        "**Q: Use the `evaluate` function to calculate the loss on the validation set before training.**"
      ]
    },
    {
      "cell_type": "code",
      "metadata": {
        "id": "upOa7rdZqiTS",
        "outputId": "fde0b46b-53c1-4d35-d050-6659921a6c98"
      },
      "source": [
        "result = evaluate(model, val_loader) # Use the the evaluate function\n",
        "print(result)"
      ],
      "execution_count": null,
      "outputs": [
        {
          "output_type": "stream",
          "text": [
            "{'val_loss': 14363.434003793016}\n"
          ],
          "name": "stdout"
        }
      ]
    },
    {
      "cell_type": "markdown",
      "metadata": {
        "id": "3BT1pPuSqiTV"
      },
      "source": [
        "\n",
        "We are now ready to train the model. You may need to run the training loop many times, for different number of epochs and with different learning rates, to get a good result. Also, if your loss becomes too large (or `nan`), you may have to re-initialize the model by running the cell `model = InsuranceModel()`. Experiment with this for a while, and try to get to as low a loss as possible."
      ]
    },
    {
      "cell_type": "markdown",
      "metadata": {
        "id": "Z4-qfM_cqiTW"
      },
      "source": [
        "**Q: Train the model 4-5 times with different learning rates & for different number of epochs.**\n",
        "\n",
        "Hint: Vary learning rates by orders of 10 (e.g. `1e-2`, `1e-3`, `1e-4`, `1e-5`, `1e-6`) to figure out what works."
      ]
    },
    {
      "cell_type": "code",
      "metadata": {
        "id": "PhRNMPFUqiTX",
        "outputId": "59727ead-343d-4418-bb8d-7e4c74498000"
      },
      "source": [
        "epochs = 1000\n",
        "lr = 1e-1\n",
        "history1 = fit(epochs, lr, model, train_loader, val_loader)"
      ],
      "execution_count": null,
      "outputs": [
        {
          "output_type": "stream",
          "text": [
            "Epoch [20], val_loss: 7486.6141\n",
            "Epoch [40], val_loss: 7367.4247\n",
            "Epoch [60], val_loss: 7370.4325\n",
            "Epoch [80], val_loss: 7366.2083\n",
            "Epoch [100], val_loss: 7362.6553\n",
            "Epoch [120], val_loss: 7361.3832\n",
            "Epoch [140], val_loss: 7359.0139\n",
            "Epoch [160], val_loss: 7354.4156\n",
            "Epoch [180], val_loss: 7350.5579\n",
            "Epoch [200], val_loss: 7348.9138\n",
            "Epoch [220], val_loss: 7352.1306\n",
            "Epoch [240], val_loss: 7345.0513\n",
            "Epoch [260], val_loss: 7337.9749\n",
            "Epoch [280], val_loss: 7341.9155\n",
            "Epoch [300], val_loss: 7332.1657\n",
            "Epoch [320], val_loss: 7331.0931\n",
            "Epoch [340], val_loss: 7331.5500\n",
            "Epoch [360], val_loss: 7326.3439\n",
            "Epoch [380], val_loss: 7322.2722\n",
            "Epoch [400], val_loss: 7320.2625\n",
            "Epoch [420], val_loss: 7317.7070\n",
            "Epoch [440], val_loss: 7321.7545\n",
            "Epoch [460], val_loss: 7323.6130\n",
            "Epoch [480], val_loss: 7311.9941\n",
            "Epoch [500], val_loss: 7315.7026\n",
            "Epoch [520], val_loss: 7310.8563\n",
            "Epoch [540], val_loss: 7305.9562\n",
            "Epoch [560], val_loss: 7306.6065\n",
            "Epoch [580], val_loss: 7302.7602\n",
            "Epoch [600], val_loss: 7302.8791\n",
            "Epoch [620], val_loss: 7297.2258\n",
            "Epoch [640], val_loss: 7297.2693\n",
            "Epoch [660], val_loss: 7293.3305\n",
            "Epoch [680], val_loss: 7291.7566\n",
            "Epoch [700], val_loss: 7290.4220\n",
            "Epoch [720], val_loss: 7287.4213\n",
            "Epoch [740], val_loss: 7286.7209\n",
            "Epoch [760], val_loss: 7285.3845\n",
            "Epoch [780], val_loss: 7285.4647\n",
            "Epoch [800], val_loss: 7279.5745\n",
            "Epoch [820], val_loss: 7277.4426\n",
            "Epoch [840], val_loss: 7283.1962\n",
            "Epoch [860], val_loss: 7283.5064\n",
            "Epoch [880], val_loss: 7271.3111\n",
            "Epoch [900], val_loss: 7274.3493\n",
            "Epoch [920], val_loss: 7274.8608\n",
            "Epoch [940], val_loss: 7265.8533\n",
            "Epoch [960], val_loss: 7264.6489\n",
            "Epoch [980], val_loss: 7262.3556\n",
            "Epoch [1000], val_loss: 7261.7716\n"
          ],
          "name": "stdout"
        }
      ]
    },
    {
      "cell_type": "code",
      "metadata": {
        "id": "tImBfZKEqiTY",
        "outputId": "a4556136-7088-49c8-b68b-3834c0a0e180"
      },
      "source": [
        "epochs = 1000\n",
        "lr = 3e-1\n",
        "history2 = fit(epochs, lr, model, train_loader, val_loader)"
      ],
      "execution_count": null,
      "outputs": [
        {
          "output_type": "stream",
          "text": [
            "Epoch [20], val_loss: 7263.2240\n",
            "Epoch [40], val_loss: 7290.1101\n",
            "Epoch [60], val_loss: 7244.4285\n",
            "Epoch [80], val_loss: 7262.6289\n",
            "Epoch [100], val_loss: 7245.5520\n",
            "Epoch [120], val_loss: 7253.0178\n",
            "Epoch [140], val_loss: 7237.2761\n",
            "Epoch [160], val_loss: 7218.5342\n",
            "Epoch [180], val_loss: 7214.6547\n",
            "Epoch [200], val_loss: 7201.0226\n",
            "Epoch [220], val_loss: 7195.0359\n",
            "Epoch [240], val_loss: 7209.9036\n",
            "Epoch [260], val_loss: 7194.6932\n",
            "Epoch [280], val_loss: 7176.7059\n",
            "Epoch [300], val_loss: 7183.0921\n",
            "Epoch [320], val_loss: 7166.0875\n",
            "Epoch [340], val_loss: 7158.2200\n",
            "Epoch [360], val_loss: 7159.1808\n",
            "Epoch [380], val_loss: 7146.1365\n",
            "Epoch [400], val_loss: 7144.2395\n",
            "Epoch [420], val_loss: 7172.6679\n",
            "Epoch [440], val_loss: 7130.3683\n",
            "Epoch [460], val_loss: 7140.8301\n",
            "Epoch [480], val_loss: 7122.7256\n",
            "Epoch [500], val_loss: 7118.9573\n",
            "Epoch [520], val_loss: 7132.0380\n",
            "Epoch [540], val_loss: 7104.9210\n",
            "Epoch [560], val_loss: 7091.3639\n",
            "Epoch [580], val_loss: 7085.7245\n",
            "Epoch [600], val_loss: 7082.0722\n",
            "Epoch [620], val_loss: 7114.1638\n",
            "Epoch [640], val_loss: 7068.0296\n",
            "Epoch [660], val_loss: 7064.6603\n",
            "Epoch [680], val_loss: 7057.5782\n",
            "Epoch [700], val_loss: 7071.5919\n",
            "Epoch [720], val_loss: 7042.2950\n",
            "Epoch [740], val_loss: 7037.5096\n",
            "Epoch [760], val_loss: 7052.6453\n",
            "Epoch [780], val_loss: 7048.1384\n",
            "Epoch [800], val_loss: 7031.8317\n",
            "Epoch [820], val_loss: 7012.9981\n",
            "Epoch [840], val_loss: 7006.3949\n",
            "Epoch [860], val_loss: 7036.0148\n",
            "Epoch [880], val_loss: 6996.5657\n",
            "Epoch [900], val_loss: 7012.2897\n",
            "Epoch [920], val_loss: 6988.8890\n",
            "Epoch [940], val_loss: 6984.0877\n",
            "Epoch [960], val_loss: 6970.4891\n",
            "Epoch [980], val_loss: 6980.5750\n",
            "Epoch [1000], val_loss: 6962.0130\n"
          ],
          "name": "stdout"
        }
      ]
    },
    {
      "cell_type": "code",
      "metadata": {
        "id": "omx_zK5MqiTZ",
        "outputId": "b3f29126-4501-4d67-e5a3-ce936f78a691"
      },
      "source": [
        "epochs = 1000\n",
        "lr = 4e-2\n",
        "history3 = fit(epochs, lr, model, train_loader, val_loader)"
      ],
      "execution_count": null,
      "outputs": [
        {
          "output_type": "stream",
          "text": [
            "Epoch [20], val_loss: 6956.7098\n",
            "Epoch [40], val_loss: 6955.8130\n",
            "Epoch [60], val_loss: 6955.5340\n",
            "Epoch [80], val_loss: 6954.7314\n",
            "Epoch [100], val_loss: 6953.8184\n",
            "Epoch [120], val_loss: 6953.6028\n",
            "Epoch [140], val_loss: 6952.4803\n",
            "Epoch [160], val_loss: 6953.8215\n",
            "Epoch [180], val_loss: 6950.8199\n",
            "Epoch [200], val_loss: 6949.9781\n",
            "Epoch [220], val_loss: 6950.7057\n",
            "Epoch [240], val_loss: 6948.2131\n",
            "Epoch [260], val_loss: 6947.0892\n",
            "Epoch [280], val_loss: 6946.0581\n",
            "Epoch [300], val_loss: 6945.9061\n",
            "Epoch [320], val_loss: 6945.1062\n",
            "Epoch [340], val_loss: 6943.5817\n",
            "Epoch [360], val_loss: 6942.7656\n",
            "Epoch [380], val_loss: 6942.1925\n",
            "Epoch [400], val_loss: 6943.1057\n",
            "Epoch [420], val_loss: 6940.5285\n",
            "Epoch [440], val_loss: 6940.1412\n",
            "Epoch [460], val_loss: 6938.7199\n",
            "Epoch [480], val_loss: 6938.4476\n",
            "Epoch [500], val_loss: 6939.1821\n",
            "Epoch [520], val_loss: 6936.4675\n",
            "Epoch [540], val_loss: 6935.5060\n",
            "Epoch [560], val_loss: 6934.9699\n",
            "Epoch [580], val_loss: 6936.0451\n",
            "Epoch [600], val_loss: 6933.3578\n",
            "Epoch [620], val_loss: 6932.4331\n",
            "Epoch [640], val_loss: 6932.6730\n",
            "Epoch [660], val_loss: 6930.9599\n",
            "Epoch [680], val_loss: 6931.9935\n",
            "Epoch [700], val_loss: 6931.0445\n",
            "Epoch [720], val_loss: 6929.9668\n",
            "Epoch [740], val_loss: 6928.7938\n",
            "Epoch [760], val_loss: 6929.3723\n",
            "Epoch [780], val_loss: 6926.1512\n",
            "Epoch [800], val_loss: 6926.2671\n",
            "Epoch [820], val_loss: 6924.8556\n",
            "Epoch [840], val_loss: 6923.4376\n",
            "Epoch [860], val_loss: 6922.6831\n",
            "Epoch [880], val_loss: 6921.8574\n",
            "Epoch [900], val_loss: 6921.0257\n",
            "Epoch [920], val_loss: 6921.1525\n",
            "Epoch [940], val_loss: 6920.2390\n",
            "Epoch [960], val_loss: 6918.8939\n",
            "Epoch [980], val_loss: 6918.4099\n",
            "Epoch [1000], val_loss: 6917.5224\n"
          ],
          "name": "stdout"
        }
      ]
    },
    {
      "cell_type": "code",
      "metadata": {
        "id": "o6Q_TAspqiTb",
        "outputId": "fec2ac25-c6c7-48b7-9ecf-47586ca988b4"
      },
      "source": [
        "epochs = 1000\n",
        "lr = 5e-2\n",
        "history4 = fit(epochs, lr, model, train_loader, val_loader)"
      ],
      "execution_count": null,
      "outputs": [
        {
          "output_type": "stream",
          "text": [
            "Epoch [20], val_loss: 6916.2601\n",
            "Epoch [40], val_loss: 6915.7604\n",
            "Epoch [60], val_loss: 6916.5568\n",
            "Epoch [80], val_loss: 6914.1625\n",
            "Epoch [100], val_loss: 6913.1479\n",
            "Epoch [120], val_loss: 6914.0511\n",
            "Epoch [140], val_loss: 6913.5565\n",
            "Epoch [160], val_loss: 6909.4328\n",
            "Epoch [180], val_loss: 6909.1773\n",
            "Epoch [200], val_loss: 6906.9826\n",
            "Epoch [220], val_loss: 6906.3040\n",
            "Epoch [240], val_loss: 6905.4782\n",
            "Epoch [260], val_loss: 6904.1404\n",
            "Epoch [280], val_loss: 6902.9288\n",
            "Epoch [300], val_loss: 6904.8933\n",
            "Epoch [320], val_loss: 6904.1744\n",
            "Epoch [340], val_loss: 6904.6092\n",
            "Epoch [360], val_loss: 6899.6577\n",
            "Epoch [380], val_loss: 6897.7174\n",
            "Epoch [400], val_loss: 6897.6908\n",
            "Epoch [420], val_loss: 6895.9737\n",
            "Epoch [440], val_loss: 6894.8693\n",
            "Epoch [460], val_loss: 6894.5884\n",
            "Epoch [480], val_loss: 6894.1781\n",
            "Epoch [500], val_loss: 6893.0127\n",
            "Epoch [520], val_loss: 6891.8099\n",
            "Epoch [540], val_loss: 6889.5619\n",
            "Epoch [560], val_loss: 6888.8579\n",
            "Epoch [580], val_loss: 6889.4857\n",
            "Epoch [600], val_loss: 6889.7157\n",
            "Epoch [620], val_loss: 6886.2320\n",
            "Epoch [640], val_loss: 6885.5158\n",
            "Epoch [660], val_loss: 6887.6493\n",
            "Epoch [680], val_loss: 6884.8284\n",
            "Epoch [700], val_loss: 6885.2760\n",
            "Epoch [720], val_loss: 6881.7253\n",
            "Epoch [740], val_loss: 6881.8088\n",
            "Epoch [760], val_loss: 6878.9364\n",
            "Epoch [780], val_loss: 6881.2750\n",
            "Epoch [800], val_loss: 6877.8176\n",
            "Epoch [820], val_loss: 6875.8679\n",
            "Epoch [840], val_loss: 6875.2856\n",
            "Epoch [860], val_loss: 6877.4555\n",
            "Epoch [880], val_loss: 6874.2154\n",
            "Epoch [900], val_loss: 6871.7801\n",
            "Epoch [920], val_loss: 6871.0595\n",
            "Epoch [940], val_loss: 6869.8051\n",
            "Epoch [960], val_loss: 6870.3267\n",
            "Epoch [980], val_loss: 6867.9798\n",
            "Epoch [1000], val_loss: 6867.5723\n"
          ],
          "name": "stdout"
        }
      ]
    },
    {
      "cell_type": "code",
      "metadata": {
        "id": "PD459iOHqiTc",
        "outputId": "7cb49aa9-d868-4113-e9db-05863aee8b65"
      },
      "source": [
        "epochs = 2000\n",
        "lr = 5e-2\n",
        "history5 = fit(epochs, lr, model, train_loader, val_loader)"
      ],
      "execution_count": null,
      "outputs": [
        {
          "output_type": "stream",
          "text": [
            "Epoch [20], val_loss: 6271.7588\n",
            "Epoch [40], val_loss: 6272.7867\n",
            "Epoch [60], val_loss: 6270.5053\n",
            "Epoch [80], val_loss: 6269.6913\n",
            "Epoch [100], val_loss: 6267.9470\n",
            "Epoch [120], val_loss: 6266.8281\n",
            "Epoch [140], val_loss: 6265.9430\n",
            "Epoch [160], val_loss: 6264.7567\n",
            "Epoch [180], val_loss: 6264.2775\n",
            "Epoch [200], val_loss: 6263.0096\n",
            "Epoch [220], val_loss: 6262.5576\n",
            "Epoch [240], val_loss: 6260.8062\n",
            "Epoch [260], val_loss: 6260.1412\n",
            "Epoch [280], val_loss: 6259.8150\n",
            "Epoch [300], val_loss: 6258.2773\n",
            "Epoch [320], val_loss: 6257.0845\n",
            "Epoch [340], val_loss: 6255.8064\n",
            "Epoch [360], val_loss: 6254.9274\n",
            "Epoch [380], val_loss: 6254.2442\n",
            "Epoch [400], val_loss: 6253.0084\n",
            "Epoch [420], val_loss: 6251.8691\n",
            "Epoch [440], val_loss: 6251.0446\n",
            "Epoch [460], val_loss: 6249.8994\n",
            "Epoch [480], val_loss: 6249.4557\n",
            "Epoch [500], val_loss: 6248.0648\n",
            "Epoch [520], val_loss: 6247.4784\n",
            "Epoch [540], val_loss: 6245.9140\n",
            "Epoch [560], val_loss: 6244.9575\n",
            "Epoch [580], val_loss: 6244.4903\n",
            "Epoch [600], val_loss: 6243.3185\n",
            "Epoch [620], val_loss: 6242.6680\n",
            "Epoch [640], val_loss: 6241.3540\n",
            "Epoch [660], val_loss: 6240.4968\n",
            "Epoch [680], val_loss: 6239.8710\n",
            "Epoch [700], val_loss: 6238.0559\n",
            "Epoch [720], val_loss: 6237.0447\n",
            "Epoch [740], val_loss: 6236.6908\n",
            "Epoch [760], val_loss: 6235.3166\n",
            "Epoch [780], val_loss: 6234.3510\n",
            "Epoch [800], val_loss: 6233.0318\n",
            "Epoch [820], val_loss: 6233.1344\n",
            "Epoch [840], val_loss: 6231.3501\n",
            "Epoch [860], val_loss: 6230.1616\n",
            "Epoch [880], val_loss: 6229.0625\n",
            "Epoch [900], val_loss: 6228.3070\n",
            "Epoch [920], val_loss: 6227.4207\n",
            "Epoch [940], val_loss: 6226.3278\n",
            "Epoch [960], val_loss: 6225.3798\n",
            "Epoch [980], val_loss: 6224.3806\n",
            "Epoch [1000], val_loss: 6223.1302\n",
            "Epoch [1020], val_loss: 6222.5619\n",
            "Epoch [1040], val_loss: 6222.1819\n",
            "Epoch [1060], val_loss: 6220.3763\n",
            "Epoch [1080], val_loss: 6219.7858\n",
            "Epoch [1100], val_loss: 6218.2421\n",
            "Epoch [1120], val_loss: 6217.6355\n",
            "Epoch [1140], val_loss: 6216.5531\n",
            "Epoch [1160], val_loss: 6215.4219\n",
            "Epoch [1180], val_loss: 6214.5797\n",
            "Epoch [1200], val_loss: 6213.2924\n",
            "Epoch [1220], val_loss: 6212.5064\n",
            "Epoch [1240], val_loss: 6211.4101\n",
            "Epoch [1260], val_loss: 6210.4418\n",
            "Epoch [1280], val_loss: 6209.3831\n",
            "Epoch [1300], val_loss: 6209.1097\n",
            "Epoch [1320], val_loss: 6207.3190\n",
            "Epoch [1340], val_loss: 6206.4825\n",
            "Epoch [1360], val_loss: 6205.3387\n",
            "Epoch [1380], val_loss: 6206.4257\n",
            "Epoch [1400], val_loss: 6203.6545\n",
            "Epoch [1420], val_loss: 6203.2910\n",
            "Epoch [1440], val_loss: 6202.1929\n",
            "Epoch [1460], val_loss: 6201.0063\n",
            "Epoch [1480], val_loss: 6199.5633\n",
            "Epoch [1500], val_loss: 6199.1156\n",
            "Epoch [1520], val_loss: 6197.6060\n",
            "Epoch [1540], val_loss: 6197.7158\n",
            "Epoch [1560], val_loss: 6196.5894\n",
            "Epoch [1580], val_loss: 6194.4999\n",
            "Epoch [1600], val_loss: 6193.9906\n",
            "Epoch [1620], val_loss: 6192.9412\n",
            "Epoch [1640], val_loss: 6192.0616\n",
            "Epoch [1660], val_loss: 6190.7353\n",
            "Epoch [1680], val_loss: 6189.7673\n",
            "Epoch [1700], val_loss: 6188.6264\n",
            "Epoch [1720], val_loss: 6187.6750\n",
            "Epoch [1740], val_loss: 6186.8815\n",
            "Epoch [1760], val_loss: 6185.8306\n",
            "Epoch [1780], val_loss: 6184.7650\n",
            "Epoch [1800], val_loss: 6183.7390\n",
            "Epoch [1820], val_loss: 6182.9522\n",
            "Epoch [1840], val_loss: 6181.7249\n",
            "Epoch [1860], val_loss: 6181.9169\n",
            "Epoch [1880], val_loss: 6180.6527\n",
            "Epoch [1900], val_loss: 6179.3702\n",
            "Epoch [1920], val_loss: 6178.9317\n",
            "Epoch [1940], val_loss: 6176.8929\n",
            "Epoch [1960], val_loss: 6175.8000\n",
            "Epoch [1980], val_loss: 6175.7603\n",
            "Epoch [2000], val_loss: 6173.8210\n"
          ],
          "name": "stdout"
        }
      ]
    },
    {
      "cell_type": "markdown",
      "metadata": {
        "id": "ugqqhzLqqiTd"
      },
      "source": [
        "**Q: What is the final validation loss of your model?**"
      ]
    },
    {
      "cell_type": "code",
      "metadata": {
        "id": "AM6eWaSaqiTe"
      },
      "source": [
        "val_loss = 6173"
      ],
      "execution_count": null,
      "outputs": []
    },
    {
      "cell_type": "markdown",
      "metadata": {
        "id": "UoFnb0s5qiTf"
      },
      "source": [
        "Let's log the final validation loss to Jovian and commit the notebook"
      ]
    },
    {
      "cell_type": "code",
      "metadata": {
        "id": "BSu-u3sNqiTg",
        "outputId": "50f761e8-f088-4d26-d626-8281d526f0e6"
      },
      "source": [
        "jovian.log_metrics(val_loss=val_loss)"
      ],
      "execution_count": null,
      "outputs": [
        {
          "output_type": "stream",
          "text": [
            "[jovian] Metrics logged.\u001b[0m\n"
          ],
          "name": "stdout"
        }
      ]
    },
    {
      "cell_type": "code",
      "metadata": {
        "id": "3hnD5oNoqiTh",
        "outputId": "4a9c4789-f08a-456c-c193-e81b363cf017"
      },
      "source": [
        "jovian.commit(project=project_name, environment=None)"
      ],
      "execution_count": null,
      "outputs": [
        {
          "output_type": "display_data",
          "data": {
            "application/javascript": [
              "window.require && require([\"base/js/namespace\"],function(Jupyter){Jupyter.notebook.save_checkpoint()})"
            ],
            "text/plain": [
              "<IPython.core.display.Javascript object>"
            ]
          },
          "metadata": {
            "tags": []
          }
        },
        {
          "output_type": "stream",
          "text": [
            "[jovian] Attempting to save notebook..\u001b[0m\n",
            "[jovian] Updating notebook \"porkdown/02-insurance-linear-regression\" on https://jovian.ai\u001b[0m\n",
            "[jovian] Uploading notebook..\u001b[0m\n",
            "[jovian] Uploading additional files...\u001b[0m\n",
            "[jovian] Attaching records (metrics, hyperparameters, dataset etc.)\u001b[0m\n",
            "[jovian] Committed successfully! https://jovian.ai/porkdown/02-insurance-linear-regression\u001b[0m\n"
          ],
          "name": "stdout"
        },
        {
          "output_type": "execute_result",
          "data": {
            "text/plain": [
              "'https://jovian.ai/porkdown/02-insurance-linear-regression'"
            ]
          },
          "metadata": {
            "tags": []
          },
          "execution_count": 126
        }
      ]
    },
    {
      "cell_type": "markdown",
      "metadata": {
        "id": "gZbOGUAXqiTi"
      },
      "source": [
        "Now scroll back up, re-initialize the model, and try different set of values for batch size, number of epochs, learning rate etc. Commit each experiment and use the \"Compare\" and \"View Diff\" options on Jovian to compare the different results."
      ]
    },
    {
      "cell_type": "markdown",
      "metadata": {
        "id": "do-2ee5BqiTj"
      },
      "source": [
        "## Step 5: Make predictions using the trained model\n",
        "\n",
        "**Q: Complete the following function definition to make predictions on a single input**"
      ]
    },
    {
      "cell_type": "code",
      "metadata": {
        "id": "v6Gd9_UHqiTk"
      },
      "source": [
        "def predict_single(input, target, model):\n",
        "    inputs = input.unsqueeze(0)\n",
        "    predictions = model(inputs)                # fill this\n",
        "    prediction = predictions[0].detach()\n",
        "    print(\"Input:\", input)\n",
        "    print(\"Target:\", target)\n",
        "    print(\"Prediction:\", prediction)"
      ],
      "execution_count": null,
      "outputs": []
    },
    {
      "cell_type": "code",
      "metadata": {
        "id": "wGQ7L1nAqiTm",
        "outputId": "c35e0ae9-48c2-4c17-f6ea-142481ad5eef"
      },
      "source": [
        "input, target = val_ds[0]\n",
        "predict_single(input, target, model)"
      ],
      "execution_count": null,
      "outputs": [
        {
          "output_type": "stream",
          "text": [
            "Input: tensor([37.0000,  1.0000, 41.2566,  0.0000,  0.0000])\n",
            "Target: tensor([20175.4408], dtype=torch.float64)\n",
            "Prediction: tensor([6147.3726])\n"
          ],
          "name": "stdout"
        }
      ]
    },
    {
      "cell_type": "code",
      "metadata": {
        "id": "MTy9essbqiTn",
        "outputId": "4a03d1a6-a039-4bae-ea72-82cacb44ba1b"
      },
      "source": [
        "input, target = val_ds[10]\n",
        "predict_single(input, target, model)"
      ],
      "execution_count": null,
      "outputs": [
        {
          "output_type": "stream",
          "text": [
            "Input: tensor([40.0000,  0.0000, 25.3308,  2.0000,  1.0000])\n",
            "Target: tensor([20416.4791], dtype=torch.float64)\n",
            "Prediction: tensor([14145.1455])\n"
          ],
          "name": "stdout"
        }
      ]
    },
    {
      "cell_type": "code",
      "metadata": {
        "id": "g5Xurog_qiTo",
        "outputId": "747be6ef-1f51-4a4c-f18a-b7a790c3956c"
      },
      "source": [
        "input, target = val_ds[23]\n",
        "predict_single(input, target, model)"
      ],
      "execution_count": null,
      "outputs": [
        {
          "output_type": "stream",
          "text": [
            "Input: tensor([40.0000,  0.0000, 47.2188,  1.0000,  0.0000])\n",
            "Target: tensor([29900.5717], dtype=torch.float64)\n",
            "Prediction: tensor([7666.4761])\n"
          ],
          "name": "stdout"
        }
      ]
    }
  ]
}