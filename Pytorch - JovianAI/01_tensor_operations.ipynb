{
  "nbformat": 4,
  "nbformat_minor": 0,
  "metadata": {
    "kernelspec": {
      "display_name": "Python 3",
      "language": "python",
      "name": "python3"
    },
    "language_info": {
      "codemirror_mode": {
        "name": "ipython",
        "version": 3
      },
      "file_extension": ".py",
      "mimetype": "text/x-python",
      "name": "python",
      "nbconvert_exporter": "python",
      "pygments_lexer": "ipython3",
      "version": "3.8.6"
    },
    "colab": {
      "name": "01-tensor-operations.ipynb",
      "provenance": []
    }
  },
  "cells": [
    {
      "cell_type": "code",
      "metadata": {
        "id": "PWxQXscUoYi5"
      },
      "source": [
        "# Jovian Commit Essentials\n",
        "# Please retain and execute this cell without modifying the contents for `jovian.commit` to work\n",
        "!pip install jovian --upgrade -q\n",
        "import jovian\n",
        "jovian.set_project('01-tensor-operations')\n",
        "jovian.set_colab_id('1eKRLRxYJWgiRGIID23_vLGuAVlDmFoyd')"
      ],
      "execution_count": null,
      "outputs": []
    },
    {
      "cell_type": "markdown",
      "metadata": {
        "id": "ItZyphnnoYjF"
      },
      "source": [
        "# Exploring Five Pytorch Tensor Operations\n",
        "\n",
        "An short introduction about PyTorch and about the chosen functions. \n",
        "\n",
        "- torch.eig()\n",
        "- torch.where()\n",
        "- torch.erfc()\n",
        "- torch.lstsq()\n",
        "- torch.det()\n",
        "\n",
        "Before we begin, let's install and import PyTorch"
      ]
    },
    {
      "cell_type": "code",
      "metadata": {
        "id": "SCLV4n6UoYjH"
      },
      "source": [
        "# Uncomment and run the appropriate command for your operating system, if required\n",
        "\n",
        "# Linux / Binder\n",
        "# !pip install numpy torch==1.7.0+cpu torchvision==0.8.1+cpu torchaudio==0.7.0 -f https://download.pytorch.org/whl/torch_stable.html\n",
        "\n",
        "# Windows\n",
        "# !pip install numpy torch==1.7.0+cpu torchvision==0.8.1+cpu torchaudio==0.7.0 -f https://download.pytorch.org/whl/torch_stable.html\n",
        "\n",
        "# MacOS\n",
        "# !pip install numpy torch torchvision torchaudio"
      ],
      "execution_count": null,
      "outputs": []
    },
    {
      "cell_type": "code",
      "metadata": {
        "id": "zcr2evoioYjJ"
      },
      "source": [
        "# Import torch and other required modules\n",
        "import torch"
      ],
      "execution_count": null,
      "outputs": []
    },
    {
      "cell_type": "markdown",
      "metadata": {
        "id": "PBS52iWVoYjK"
      },
      "source": [
        "## Function 1 - torch.eig()\n",
        "\n",
        "Computes the eigenvalues and the eigenvectors of a matrix"
      ]
    },
    {
      "cell_type": "code",
      "metadata": {
        "id": "_4jOInQgoYjK",
        "outputId": "f963f927-9f05-4e84-800d-591e829acf17"
      },
      "source": [
        "# Example 1 - working (change this)\n",
        "A = torch.tensor([[1, 2], [3, 4.]])\n",
        "print(A)\n",
        "Lambda, Nu = A.eig()\n",
        "print(Lambda)\n",
        "print(Nu)"
      ],
      "execution_count": null,
      "outputs": [
        {
          "output_type": "stream",
          "text": [
            "tensor([[1., 2.],\n",
            "        [3., 4.]])\n",
            "tensor([[-0.3723,  0.0000],\n",
            "        [ 5.3723,  0.0000]])\n",
            "tensor([])\n"
          ],
          "name": "stdout"
        }
      ]
    },
    {
      "cell_type": "markdown",
      "metadata": {
        "id": "XFUhx0EdoYjM"
      },
      "source": [
        "Since the tensor.eig() defaults the eigenvector calculation to False, meaning it will not compute it, we see nothing for Nu."
      ]
    },
    {
      "cell_type": "code",
      "metadata": {
        "id": "6BUuRZjloYjN",
        "outputId": "29ff56df-a706-476d-f3ee-331da5d514a9"
      },
      "source": [
        "# Example 2 - working\n",
        "A = torch.tensor([[1, 2], [3, 4.]])\n",
        "print(A)\n",
        "Lambda, Nu = A.eig(eigenvectors = True)\n",
        "print(Lambda)\n",
        "print(Nu)"
      ],
      "execution_count": null,
      "outputs": [
        {
          "output_type": "stream",
          "text": [
            "tensor([[1., 2.],\n",
            "        [3., 4.]])\n",
            "tensor([[-0.3723,  0.0000],\n",
            "        [ 5.3723,  0.0000]])\n",
            "tensor([[-0.8246, -0.4160],\n",
            "        [ 0.5658, -0.9094]])\n"
          ],
          "name": "stdout"
        }
      ]
    },
    {
      "cell_type": "markdown",
      "metadata": {
        "id": "GbPBzY4koYjO"
      },
      "source": [
        "Here, the eigenvectors are computed."
      ]
    },
    {
      "cell_type": "code",
      "metadata": {
        "id": "SC0bk1UKoYjP",
        "outputId": "146255d8-6d2e-4de2-b4c5-fd1b8d6e12dc"
      },
      "source": [
        "# Example 3 - breaking (to illustrate when it breaks)\n",
        "A = torch.tensor([[1., 2, 3], [3, 4, 5]])\n",
        "print(A)\n",
        "Lambda, Nu = A.eig(eigenvectors = True)\n",
        "print(Lambda)\n",
        "print(Nu)"
      ],
      "execution_count": null,
      "outputs": [
        {
          "output_type": "stream",
          "text": [
            "tensor([[1., 2., 3.],\n",
            "        [3., 4., 5.]])\n"
          ],
          "name": "stdout"
        },
        {
          "output_type": "error",
          "ename": "RuntimeError",
          "evalue": "invalid argument 1: A should be square at /pytorch/aten/src/TH/generic/THTensorLapack.cpp:207",
          "traceback": [
            "\u001b[0;31m---------------------------------------------------------------------------\u001b[0m",
            "\u001b[0;31mRuntimeError\u001b[0m                              Traceback (most recent call last)",
            "\u001b[0;32m<ipython-input-28-78fd1f425c8f>\u001b[0m in \u001b[0;36m<module>\u001b[0;34m\u001b[0m\n\u001b[1;32m      2\u001b[0m \u001b[0mA\u001b[0m \u001b[0;34m=\u001b[0m \u001b[0mtorch\u001b[0m\u001b[0;34m.\u001b[0m\u001b[0mtensor\u001b[0m\u001b[0;34m(\u001b[0m\u001b[0;34m[\u001b[0m\u001b[0;34m[\u001b[0m\u001b[0;36m1.\u001b[0m\u001b[0;34m,\u001b[0m \u001b[0;36m2\u001b[0m\u001b[0;34m,\u001b[0m \u001b[0;36m3\u001b[0m\u001b[0;34m]\u001b[0m\u001b[0;34m,\u001b[0m \u001b[0;34m[\u001b[0m\u001b[0;36m3\u001b[0m\u001b[0;34m,\u001b[0m \u001b[0;36m4\u001b[0m\u001b[0;34m,\u001b[0m \u001b[0;36m5\u001b[0m\u001b[0;34m]\u001b[0m\u001b[0;34m]\u001b[0m\u001b[0;34m)\u001b[0m\u001b[0;34m\u001b[0m\u001b[0;34m\u001b[0m\u001b[0m\n\u001b[1;32m      3\u001b[0m \u001b[0mprint\u001b[0m\u001b[0;34m(\u001b[0m\u001b[0mA\u001b[0m\u001b[0;34m)\u001b[0m\u001b[0;34m\u001b[0m\u001b[0;34m\u001b[0m\u001b[0m\n\u001b[0;32m----> 4\u001b[0;31m \u001b[0mLambda\u001b[0m\u001b[0;34m,\u001b[0m \u001b[0mNu\u001b[0m \u001b[0;34m=\u001b[0m \u001b[0mA\u001b[0m\u001b[0;34m.\u001b[0m\u001b[0meig\u001b[0m\u001b[0;34m(\u001b[0m\u001b[0meigenvectors\u001b[0m \u001b[0;34m=\u001b[0m \u001b[0;32mTrue\u001b[0m\u001b[0;34m)\u001b[0m\u001b[0;34m\u001b[0m\u001b[0;34m\u001b[0m\u001b[0m\n\u001b[0m\u001b[1;32m      5\u001b[0m \u001b[0mprint\u001b[0m\u001b[0;34m(\u001b[0m\u001b[0mLambda\u001b[0m\u001b[0;34m)\u001b[0m\u001b[0;34m\u001b[0m\u001b[0;34m\u001b[0m\u001b[0m\n\u001b[1;32m      6\u001b[0m \u001b[0mprint\u001b[0m\u001b[0;34m(\u001b[0m\u001b[0mNu\u001b[0m\u001b[0;34m)\u001b[0m\u001b[0;34m\u001b[0m\u001b[0;34m\u001b[0m\u001b[0m\n",
            "\u001b[0;31mRuntimeError\u001b[0m: invalid argument 1: A should be square at /pytorch/aten/src/TH/generic/THTensorLapack.cpp:207"
          ]
        }
      ]
    },
    {
      "cell_type": "markdown",
      "metadata": {
        "id": "pqEfjawxoYjP"
      },
      "source": [
        "The matrix above is not a square matrix so the function will return an error."
      ]
    },
    {
      "cell_type": "markdown",
      "metadata": {
        "id": "FuOx8ytSoYjQ"
      },
      "source": [
        "Only use this function as it is defined mathematically, for square matricies."
      ]
    },
    {
      "cell_type": "markdown",
      "metadata": {
        "id": "97WBvmngoYjQ"
      },
      "source": [
        "Let's save our work using Jovian before continuing."
      ]
    },
    {
      "cell_type": "code",
      "metadata": {
        "id": "QLYHuxsUoYjR"
      },
      "source": [
        "!pip install jovian --upgrade --quiet"
      ],
      "execution_count": null,
      "outputs": []
    },
    {
      "cell_type": "code",
      "metadata": {
        "id": "_hFuJ1oeoYjR"
      },
      "source": [
        "import jovian"
      ],
      "execution_count": null,
      "outputs": []
    },
    {
      "cell_type": "code",
      "metadata": {
        "id": "yOKc7POooYjS",
        "outputId": "612c0bb5-5f81-4606-e371-eed47adde475"
      },
      "source": [
        "jovian.commit(project='01-tensor-operations')"
      ],
      "execution_count": null,
      "outputs": [
        {
          "output_type": "display_data",
          "data": {
            "application/javascript": [
              "window.require && require([\"base/js/namespace\"],function(Jupyter){Jupyter.notebook.save_checkpoint()})"
            ],
            "text/plain": [
              "<IPython.core.display.Javascript object>"
            ]
          },
          "metadata": {
            "tags": []
          }
        },
        {
          "output_type": "stream",
          "text": [
            "[jovian] Attempting to save notebook..\u001b[0m\n",
            "[jovian] Updating notebook \"porkdown/01-tensor-operations\" on https://jovian.ai\u001b[0m\n",
            "[jovian] Uploading notebook..\u001b[0m\n",
            "[jovian] Uploading additional files...\u001b[0m\n",
            "[jovian] Committed successfully! https://jovian.ai/porkdown/01-tensor-operations\u001b[0m\n"
          ],
          "name": "stdout"
        },
        {
          "output_type": "execute_result",
          "data": {
            "text/plain": [
              "'https://jovian.ai/porkdown/01-tensor-operations'"
            ]
          },
          "metadata": {
            "tags": []
          },
          "execution_count": 32
        }
      ]
    },
    {
      "cell_type": "markdown",
      "metadata": {
        "id": "Fc9T8SGwoYjT"
      },
      "source": [
        "## Function 2 - torch.where()\n",
        "\n",
        "Returns a tensor with elements that satisfy the condition. Use value from X if condition evaluates to True, Y otherwise."
      ]
    },
    {
      "cell_type": "code",
      "metadata": {
        "id": "Nde1qBbhoYjT",
        "outputId": "943da185-f233-47eb-fca5-40e6fde9af75"
      },
      "source": [
        "# Example 1 - working\n",
        "A = torch.randn(3,3)\n",
        "B = torch.zeros(3,3)\n",
        "result = torch.where(A > 0, A, B)\n",
        "print(\"A: \\n\", A)\n",
        "print(\"B: \\n\", B)\n",
        "print(\"\\nOutput: \\n\", result)"
      ],
      "execution_count": null,
      "outputs": [
        {
          "output_type": "stream",
          "text": [
            "A: \n",
            " tensor([[ 0.8334,  1.8895,  2.9877],\n",
            "        [ 0.5832, -0.1007,  0.3932],\n",
            "        [-0.9117,  0.4375,  0.4649]])\n",
            "B: \n",
            " tensor([[0., 0., 0.],\n",
            "        [0., 0., 0.],\n",
            "        [0., 0., 0.]])\n",
            "\n",
            "Output: \n",
            " tensor([[0.8334, 1.8895, 2.9877],\n",
            "        [0.5832, 0.0000, 0.3932],\n",
            "        [0.0000, 0.4375, 0.4649]])\n"
          ],
          "name": "stdout"
        }
      ]
    },
    {
      "cell_type": "markdown",
      "metadata": {
        "id": "Y0CDbZ-VoYjU"
      },
      "source": [
        "Matrix A is normally distributed 3x3 matrix and the condition checks if values in A are positive. When the values are negative, values are replaced with that of matrix Y, which is a zero matrix of the same size."
      ]
    },
    {
      "cell_type": "code",
      "metadata": {
        "id": "XuDw2txfoYjU",
        "outputId": "7cb15e9b-70d5-4f1c-db96-be38bc06195f"
      },
      "source": [
        "# Example 2 - working\n",
        "A = torch.randn(3,3)\n",
        "B = torch.zeros(3,3)\n",
        "result = torch.where(A < -0.5, B, A)\n",
        "print(\"A: \\n\", A)\n",
        "print(\"B: \\n\", B)\n",
        "print(\"\\nOutput:\\n\", result)"
      ],
      "execution_count": null,
      "outputs": [
        {
          "output_type": "stream",
          "text": [
            "A: \n",
            " tensor([[ 0.5629, -0.2180, -0.5764],\n",
            "        [ 0.0218, -0.3087,  1.3549],\n",
            "        [-2.3364, -1.1738,  0.5426]])\n",
            "B: \n",
            " tensor([[0., 0., 0.],\n",
            "        [0., 0., 0.],\n",
            "        [0., 0., 0.]])\n",
            "\n",
            "Output:\n",
            " tensor([[ 0.5629, -0.2180,  0.0000],\n",
            "        [ 0.0218, -0.3087,  1.3549],\n",
            "        [ 0.0000,  0.0000,  0.5426]])\n"
          ],
          "name": "stdout"
        }
      ]
    },
    {
      "cell_type": "markdown",
      "metadata": {
        "id": "MLLxiHspoYjV"
      },
      "source": [
        "Same idea here but Y matrix values where the condition evaluates to True."
      ]
    },
    {
      "cell_type": "code",
      "metadata": {
        "id": "oVppyKHcoYjW",
        "outputId": "f83c6ca0-1c46-432c-8651-67572c1cb364"
      },
      "source": [
        "# Example 3 - breaking (to illustrate when it breaks)\n",
        "A = torch.randn(2,2)\n",
        "B = torch.zeros(4,4)\n",
        "result = torch.where(A < 0, B, A)\n",
        "print(\"A: \\n\", A)\n",
        "print(\"\\nOutput:\\n\", result)"
      ],
      "execution_count": null,
      "outputs": [
        {
          "output_type": "error",
          "ename": "RuntimeError",
          "evalue": "The size of tensor a (2) must match the size of tensor b (4) at non-singleton dimension 1",
          "traceback": [
            "\u001b[0;31m---------------------------------------------------------------------------\u001b[0m",
            "\u001b[0;31mRuntimeError\u001b[0m                              Traceback (most recent call last)",
            "\u001b[0;32m<ipython-input-43-7b56c039282e>\u001b[0m in \u001b[0;36m<module>\u001b[0;34m\u001b[0m\n\u001b[1;32m      2\u001b[0m \u001b[0mA\u001b[0m \u001b[0;34m=\u001b[0m \u001b[0mtorch\u001b[0m\u001b[0;34m.\u001b[0m\u001b[0mrandn\u001b[0m\u001b[0;34m(\u001b[0m\u001b[0;36m2\u001b[0m\u001b[0;34m,\u001b[0m\u001b[0;36m2\u001b[0m\u001b[0;34m)\u001b[0m\u001b[0;34m\u001b[0m\u001b[0;34m\u001b[0m\u001b[0m\n\u001b[1;32m      3\u001b[0m \u001b[0mB\u001b[0m \u001b[0;34m=\u001b[0m \u001b[0mtorch\u001b[0m\u001b[0;34m.\u001b[0m\u001b[0mzeros\u001b[0m\u001b[0;34m(\u001b[0m\u001b[0;36m4\u001b[0m\u001b[0;34m,\u001b[0m\u001b[0;36m4\u001b[0m\u001b[0;34m)\u001b[0m\u001b[0;34m\u001b[0m\u001b[0;34m\u001b[0m\u001b[0m\n\u001b[0;32m----> 4\u001b[0;31m \u001b[0mresult\u001b[0m \u001b[0;34m=\u001b[0m \u001b[0mtorch\u001b[0m\u001b[0;34m.\u001b[0m\u001b[0mwhere\u001b[0m\u001b[0;34m(\u001b[0m\u001b[0mA\u001b[0m \u001b[0;34m<\u001b[0m \u001b[0;36m0\u001b[0m\u001b[0;34m,\u001b[0m \u001b[0mB\u001b[0m\u001b[0;34m,\u001b[0m \u001b[0mA\u001b[0m\u001b[0;34m)\u001b[0m\u001b[0;34m\u001b[0m\u001b[0;34m\u001b[0m\u001b[0m\n\u001b[0m\u001b[1;32m      5\u001b[0m \u001b[0mprint\u001b[0m\u001b[0;34m(\u001b[0m\u001b[0;34m\"A: \\n\"\u001b[0m\u001b[0;34m,\u001b[0m \u001b[0mA\u001b[0m\u001b[0;34m)\u001b[0m\u001b[0;34m\u001b[0m\u001b[0;34m\u001b[0m\u001b[0m\n\u001b[1;32m      6\u001b[0m \u001b[0mprint\u001b[0m\u001b[0;34m(\u001b[0m\u001b[0;34m\"\\nOutput:\\n\"\u001b[0m\u001b[0;34m,\u001b[0m \u001b[0mresult\u001b[0m\u001b[0;34m)\u001b[0m\u001b[0;34m\u001b[0m\u001b[0;34m\u001b[0m\u001b[0m\n",
            "\u001b[0;31mRuntimeError\u001b[0m: The size of tensor a (2) must match the size of tensor b (4) at non-singleton dimension 1"
          ]
        }
      ]
    },
    {
      "cell_type": "markdown",
      "metadata": {
        "id": "N1vvJKJ4oYjW"
      },
      "source": [
        "The two input matricies must be the same size otherwise mapping the values to insert when True or False will not work."
      ]
    },
    {
      "cell_type": "markdown",
      "metadata": {
        "id": "k6zSPLQPoYjX"
      },
      "source": [
        "This function is a way to filter matricies but the inputs must be the same size."
      ]
    },
    {
      "cell_type": "code",
      "metadata": {
        "id": "JnBIBCbzoYjX",
        "outputId": "d1cdbe13-cf88-44ba-b2cc-03760f8d6b57"
      },
      "source": [
        "jovian.commit(project='01-tensor-operations')"
      ],
      "execution_count": null,
      "outputs": [
        {
          "output_type": "display_data",
          "data": {
            "application/javascript": [
              "window.require && require([\"base/js/namespace\"],function(Jupyter){Jupyter.notebook.save_checkpoint()})"
            ],
            "text/plain": [
              "<IPython.core.display.Javascript object>"
            ]
          },
          "metadata": {
            "tags": []
          }
        },
        {
          "output_type": "stream",
          "text": [
            "[jovian] Attempting to save notebook..\u001b[0m\n",
            "[jovian] Updating notebook \"porkdown/01-tensor-operations\" on https://jovian.ai\u001b[0m\n",
            "[jovian] Uploading notebook..\u001b[0m\n",
            "[jovian] Uploading additional files...\u001b[0m\n",
            "[jovian] Committed successfully! https://jovian.ai/porkdown/01-tensor-operations\u001b[0m\n"
          ],
          "name": "stdout"
        },
        {
          "output_type": "execute_result",
          "data": {
            "text/plain": [
              "'https://jovian.ai/porkdown/01-tensor-operations'"
            ]
          },
          "metadata": {
            "tags": []
          },
          "execution_count": 45
        }
      ]
    },
    {
      "cell_type": "markdown",
      "metadata": {
        "id": "FIHbMuqSoYjY"
      },
      "source": [
        "## Function 3 - torch.erfc()\n",
        "\n",
        "Computes complementary error function (1 - erf(x))"
      ]
    },
    {
      "cell_type": "code",
      "metadata": {
        "id": "inesXg-QoYjZ",
        "outputId": "a2c4eb2b-ab01-4dc2-cd3b-2155381db96c"
      },
      "source": [
        "# Example 1 - working\n",
        "X = torch.randn(3,3)\n",
        "print(\"X:\\n\", X)\n",
        "erfc = torch.erfc(X)\n",
        "print(\"\\nerfc(X):\\n\", erfc)"
      ],
      "execution_count": null,
      "outputs": [
        {
          "output_type": "stream",
          "text": [
            "X:\n",
            " tensor([[ 0.6861,  1.1032,  1.1077],\n",
            "        [ 0.4807,  0.0567, -1.0033],\n",
            "        [-1.6175, -0.7025, -0.5303]])\n",
            "\n",
            "erfc(X):\n",
            " tensor([[0.3319, 0.1187, 0.1172],\n",
            "        [0.4966, 0.9361, 1.8440],\n",
            "        [1.9778, 1.6795, 1.5467]])\n"
          ],
          "name": "stdout"
        }
      ]
    },
    {
      "cell_type": "markdown",
      "metadata": {
        "id": "JUowL8ngoYjZ"
      },
      "source": [
        "Complementary error function of X, a 3x3 matrix"
      ]
    },
    {
      "cell_type": "code",
      "metadata": {
        "id": "RSqbGuVboYja",
        "outputId": "9acd29ad-1ae4-4dc5-dec7-6154ac336bcd"
      },
      "source": [
        "# Example 2 - working\n",
        "X = torch.randn(1,1)\n",
        "print(\"X:\\n\", X)\n",
        "erfc = torch.erfc(X)\n",
        "print(\"\\nerfc(X):\\n\", erfc)"
      ],
      "execution_count": null,
      "outputs": [
        {
          "output_type": "stream",
          "text": [
            "X:\n",
            " tensor([[1.9687]])\n",
            "\n",
            "erfc(X):\n",
            " tensor([[0.0054]])\n"
          ],
          "name": "stdout"
        }
      ]
    },
    {
      "cell_type": "markdown",
      "metadata": {
        "id": "Wy_B1MyioYja"
      },
      "source": [
        "Complementary error function of X, a 1x1 matrix"
      ]
    },
    {
      "cell_type": "code",
      "metadata": {
        "id": "FgB-tik9oYjb",
        "outputId": "46645a82-e2ba-4420-e9cd-f99f621b96cb"
      },
      "source": [
        "# Example 3 - breaking (to illustrate when it breaks)\n",
        "X = torch.randn(3,3)\n",
        "print(\"X:\\n\", X)\n",
        "torch.erfc(input = X, output = nada)\n",
        "print(\"\\nerfc(X):\\n\", erfc)"
      ],
      "execution_count": null,
      "outputs": [
        {
          "output_type": "stream",
          "text": [
            "X:\n",
            " tensor([[-0.0551, -0.1263, -1.0974],\n",
            "        [-0.9892,  0.8563, -1.1869],\n",
            "        [-0.1471, -0.3958, -0.3781]])\n"
          ],
          "name": "stdout"
        },
        {
          "output_type": "error",
          "ename": "NameError",
          "evalue": "name 'nada' is not defined",
          "traceback": [
            "\u001b[0;31m---------------------------------------------------------------------------\u001b[0m",
            "\u001b[0;31mNameError\u001b[0m                                 Traceback (most recent call last)",
            "\u001b[0;32m<ipython-input-51-da8643c0a764>\u001b[0m in \u001b[0;36m<module>\u001b[0;34m\u001b[0m\n\u001b[1;32m      2\u001b[0m \u001b[0mX\u001b[0m \u001b[0;34m=\u001b[0m \u001b[0mtorch\u001b[0m\u001b[0;34m.\u001b[0m\u001b[0mrandn\u001b[0m\u001b[0;34m(\u001b[0m\u001b[0;36m3\u001b[0m\u001b[0;34m,\u001b[0m\u001b[0;36m3\u001b[0m\u001b[0;34m)\u001b[0m\u001b[0;34m\u001b[0m\u001b[0;34m\u001b[0m\u001b[0m\n\u001b[1;32m      3\u001b[0m \u001b[0mprint\u001b[0m\u001b[0;34m(\u001b[0m\u001b[0;34m\"X:\\n\"\u001b[0m\u001b[0;34m,\u001b[0m \u001b[0mX\u001b[0m\u001b[0;34m)\u001b[0m\u001b[0;34m\u001b[0m\u001b[0;34m\u001b[0m\u001b[0m\n\u001b[0;32m----> 4\u001b[0;31m \u001b[0mtorch\u001b[0m\u001b[0;34m.\u001b[0m\u001b[0merfc\u001b[0m\u001b[0;34m(\u001b[0m\u001b[0minput\u001b[0m \u001b[0;34m=\u001b[0m \u001b[0mX\u001b[0m\u001b[0;34m,\u001b[0m \u001b[0moutput\u001b[0m \u001b[0;34m=\u001b[0m \u001b[0mnada\u001b[0m\u001b[0;34m)\u001b[0m\u001b[0;34m\u001b[0m\u001b[0;34m\u001b[0m\u001b[0m\n\u001b[0m\u001b[1;32m      5\u001b[0m \u001b[0mprint\u001b[0m\u001b[0;34m(\u001b[0m\u001b[0;34m\"\\nerfc(X):\\n\"\u001b[0m\u001b[0;34m,\u001b[0m \u001b[0merfc\u001b[0m\u001b[0;34m)\u001b[0m\u001b[0;34m\u001b[0m\u001b[0;34m\u001b[0m\u001b[0m\n",
            "\u001b[0;31mNameError\u001b[0m: name 'nada' is not defined"
          ]
        }
      ]
    },
    {
      "cell_type": "markdown",
      "metadata": {
        "id": "fxpOI13BoYjb"
      },
      "source": [
        "If there is no output defined, don't bother to include it. You can set the result equal to a variable"
      ]
    },
    {
      "cell_type": "markdown",
      "metadata": {
        "id": "vzWp25JFoYjc"
      },
      "source": [
        "\"It is what it is.\""
      ]
    },
    {
      "cell_type": "code",
      "metadata": {
        "id": "1qYsPHYXoYjc",
        "outputId": "3c7b8cd6-5cf2-4ff0-ff65-bc0e0f8b1456"
      },
      "source": [
        "jovian.commit(project='01-tensor-operations')"
      ],
      "execution_count": null,
      "outputs": [
        {
          "output_type": "display_data",
          "data": {
            "application/javascript": [
              "window.require && require([\"base/js/namespace\"],function(Jupyter){Jupyter.notebook.save_checkpoint()})"
            ],
            "text/plain": [
              "<IPython.core.display.Javascript object>"
            ]
          },
          "metadata": {
            "tags": []
          }
        },
        {
          "output_type": "stream",
          "text": [
            "[jovian] Attempting to save notebook..\u001b[0m\n",
            "[jovian] Updating notebook \"porkdown/01-tensor-operations\" on https://jovian.ai\u001b[0m\n",
            "[jovian] Uploading notebook..\u001b[0m\n",
            "[jovian] Uploading additional files...\u001b[0m\n",
            "[jovian] Committed successfully! https://jovian.ai/porkdown/01-tensor-operations\u001b[0m\n"
          ],
          "name": "stdout"
        },
        {
          "output_type": "execute_result",
          "data": {
            "text/plain": [
              "'https://jovian.ai/porkdown/01-tensor-operations'"
            ]
          },
          "metadata": {
            "tags": []
          },
          "execution_count": 53
        }
      ]
    },
    {
      "cell_type": "markdown",
      "metadata": {
        "id": "j-t-Kc8boYjd"
      },
      "source": [
        "## Function 4 - torch.lstsq()\n",
        "\n",
        "Computes least squares for input matrix X of size (m×k) and a matrix Y of size (m×n)"
      ]
    },
    {
      "cell_type": "code",
      "metadata": {
        "id": "0wSz59SKoYje",
        "outputId": "8c839d90-09ec-4d7a-8c89-cd539dfe101d"
      },
      "source": [
        "# Example 1 - working\n",
        "X = torch.randn(3,3)\n",
        "Y = torch.randn(3,3)\n",
        "\n",
        "n = Y.shape[1]\n",
        "solution, QR = torch.lstsq(X, Y)\n",
        "print(\"X:\\n\",X)\n",
        "print(\"Y:\\n\",Y)\n",
        "print(\"Least Squares Solution:\\n\", solution[:n,:])\n",
        "print(\"\\nY @ solution = \\n\", Y@solution[:n,:])\n",
        "print(\"\\nX approximation:\\n\", X)"
      ],
      "execution_count": null,
      "outputs": [
        {
          "output_type": "stream",
          "text": [
            "X:\n",
            " tensor([[ 0.2898,  2.1879,  0.3539],\n",
            "        [-0.5671, -0.8776,  1.2212],\n",
            "        [ 0.1993, -0.1486, -0.6420]])\n",
            "Y:\n",
            " tensor([[-0.6785,  1.1009,  0.5156],\n",
            "        [-0.9456,  2.8298, -0.0274],\n",
            "        [-0.2919, -0.0872,  2.1026]])\n",
            "Least Squares Solution:\n",
            " tensor([[ -2.0191, -11.1756,  -0.1311],\n",
            "        [ -0.8772,  -4.0618,   0.3848],\n",
            "        [ -0.2219,  -1.7908,  -0.3076]])\n",
            "\n",
            "Y @ solution = \n",
            " tensor([[ 0.2898,  2.1879,  0.3539],\n",
            "        [-0.5671, -0.8776,  1.2212],\n",
            "        [ 0.1993, -0.1486, -0.6420]])\n",
            "\n",
            "X approximation:\n",
            " tensor([[ 0.2898,  2.1879,  0.3539],\n",
            "        [-0.5671, -0.8776,  1.2212],\n",
            "        [ 0.1993, -0.1486, -0.6420]])\n"
          ],
          "name": "stdout"
        }
      ]
    },
    {
      "cell_type": "markdown",
      "metadata": {
        "id": "xwj9ZjOhoYje"
      },
      "source": [
        "Y by least squares solution is an approximation of X"
      ]
    },
    {
      "cell_type": "code",
      "metadata": {
        "id": "S0xeJ3spoYjf",
        "outputId": "2fd7d726-be41-40d5-a6c6-89ea25272a7a"
      },
      "source": [
        "# Example 2 - working\n",
        "X = torch.randn(3,3)\n",
        "Y = torch.randn(3,3)\n",
        "\n",
        "n = Y.shape[1]\n",
        "solution, QR = torch.lstsq(X, Y)\n",
        "print(\"Least Squares Solution:\\n\", solution[:n,:])\n",
        "print(\"\\nQR:\\n\", QR)"
      ],
      "execution_count": null,
      "outputs": [
        {
          "output_type": "stream",
          "text": [
            "Least Squares Solution:\n",
            " tensor([[ -0.2350,   0.0374,   0.1235],\n",
            "        [  2.7765,  -9.2675,   2.4876],\n",
            "        [  3.0747, -11.4242,   3.4261]])\n",
            "\n",
            "QR:\n",
            " tensor([[-2.4768,  0.0491,  0.1372],\n",
            "        [ 0.2182,  1.5951, -1.3383],\n",
            "        [-0.6949, -0.4701,  0.1677]])\n"
          ],
          "name": "stdout"
        }
      ]
    },
    {
      "cell_type": "markdown",
      "metadata": {
        "id": "_Ctt-o8UoYjf"
      },
      "source": [
        "Least Squares solution and QR factorization."
      ]
    },
    {
      "cell_type": "code",
      "metadata": {
        "id": "kXnW0PhOoYjg",
        "outputId": "68ed8fd2-8ef9-4c64-c9f8-bf39e232d684"
      },
      "source": [
        "# Example 3 - breaking (to illustrate when it breaks)\n",
        "X = torch.randn(3,3)\n",
        "Y = torch.randn(4,3)\n",
        "\n",
        "n = Y.shape[1]\n",
        "solution, QR = torch.lstsq(X, Y)\n",
        "print(\"Least Squares Solution:\\n\", solution[:n,:])\n",
        "print(\"\\nQR:\\n\", QR)"
      ],
      "execution_count": null,
      "outputs": [
        {
          "output_type": "error",
          "ename": "RuntimeError",
          "evalue": "Expected A and b to have same size at dim 0, but A has 4 rows and B has 3 rows",
          "traceback": [
            "\u001b[0;31m---------------------------------------------------------------------------\u001b[0m",
            "\u001b[0;31mRuntimeError\u001b[0m                              Traceback (most recent call last)",
            "\u001b[0;32m<ipython-input-63-994feee00c71>\u001b[0m in \u001b[0;36m<module>\u001b[0;34m\u001b[0m\n\u001b[1;32m      4\u001b[0m \u001b[0;34m\u001b[0m\u001b[0m\n\u001b[1;32m      5\u001b[0m \u001b[0mn\u001b[0m \u001b[0;34m=\u001b[0m \u001b[0mY\u001b[0m\u001b[0;34m.\u001b[0m\u001b[0mshape\u001b[0m\u001b[0;34m[\u001b[0m\u001b[0;36m1\u001b[0m\u001b[0;34m]\u001b[0m\u001b[0;34m\u001b[0m\u001b[0;34m\u001b[0m\u001b[0m\n\u001b[0;32m----> 6\u001b[0;31m \u001b[0msolution\u001b[0m\u001b[0;34m,\u001b[0m \u001b[0mQR\u001b[0m \u001b[0;34m=\u001b[0m \u001b[0mtorch\u001b[0m\u001b[0;34m.\u001b[0m\u001b[0mlstsq\u001b[0m\u001b[0;34m(\u001b[0m\u001b[0mX\u001b[0m\u001b[0;34m,\u001b[0m \u001b[0mY\u001b[0m\u001b[0;34m)\u001b[0m\u001b[0;34m\u001b[0m\u001b[0;34m\u001b[0m\u001b[0m\n\u001b[0m\u001b[1;32m      7\u001b[0m \u001b[0mprint\u001b[0m\u001b[0;34m(\u001b[0m\u001b[0;34m\"Least Squares Solution:\\n\"\u001b[0m\u001b[0;34m,\u001b[0m \u001b[0msolution\u001b[0m\u001b[0;34m[\u001b[0m\u001b[0;34m:\u001b[0m\u001b[0mn\u001b[0m\u001b[0;34m,\u001b[0m\u001b[0;34m:\u001b[0m\u001b[0;34m]\u001b[0m\u001b[0;34m)\u001b[0m\u001b[0;34m\u001b[0m\u001b[0;34m\u001b[0m\u001b[0m\n\u001b[1;32m      8\u001b[0m \u001b[0mprint\u001b[0m\u001b[0;34m(\u001b[0m\u001b[0;34m\"\\nQR:\\n\"\u001b[0m\u001b[0;34m,\u001b[0m \u001b[0mQR\u001b[0m\u001b[0;34m)\u001b[0m\u001b[0;34m\u001b[0m\u001b[0;34m\u001b[0m\u001b[0m\n",
            "\u001b[0;31mRuntimeError\u001b[0m: Expected A and b to have same size at dim 0, but A has 4 rows and B has 3 rows"
          ]
        }
      ]
    },
    {
      "cell_type": "markdown",
      "metadata": {
        "id": "491vwecioYjg"
      },
      "source": [
        "Number of rows must match"
      ]
    },
    {
      "cell_type": "markdown",
      "metadata": {
        "id": "g6hGN_aYoYjh"
      },
      "source": [
        "This function is typically used to get weights in linear regression."
      ]
    },
    {
      "cell_type": "code",
      "metadata": {
        "id": "dTaWj35WoYjh",
        "outputId": "941084d9-becb-47e3-8206-3bf1ca78fce6"
      },
      "source": [
        "jovian.commit(project='01-tensor-operations')"
      ],
      "execution_count": null,
      "outputs": [
        {
          "output_type": "display_data",
          "data": {
            "application/javascript": [
              "window.require && require([\"base/js/namespace\"],function(Jupyter){Jupyter.notebook.save_checkpoint()})"
            ],
            "text/plain": [
              "<IPython.core.display.Javascript object>"
            ]
          },
          "metadata": {
            "tags": []
          }
        }
      ]
    },
    {
      "cell_type": "markdown",
      "metadata": {
        "id": "z2so-z6doYji"
      },
      "source": [
        "## Function 5 - torch.det()\n",
        "\n",
        "Computes the determinant of a sqaure matrix or groups of square matricies"
      ]
    },
    {
      "cell_type": "code",
      "metadata": {
        "id": "xBOninC4oYji",
        "outputId": "93f71045-b716-418c-fece-cded4174c857"
      },
      "source": [
        "# Example 1 - working\n",
        "A = torch.tensor([[1.,0],[0,1]])\n",
        "print(A)\n",
        "print('det(A):')\n",
        "torch.det(A)"
      ],
      "execution_count": null,
      "outputs": [
        {
          "output_type": "stream",
          "text": [
            "tensor([[1., 0.],\n",
            "        [0., 1.]])\n",
            "det(A):\n"
          ],
          "name": "stdout"
        },
        {
          "output_type": "execute_result",
          "data": {
            "text/plain": [
              "tensor(1.)"
            ]
          },
          "metadata": {
            "tags": []
          },
          "execution_count": 7
        }
      ]
    },
    {
      "cell_type": "markdown",
      "metadata": {
        "id": "NHIhNzYToYjj"
      },
      "source": [
        "The determinant of a 2x2 Identity matrix is 1."
      ]
    },
    {
      "cell_type": "code",
      "metadata": {
        "id": "ZsmWV-nkoYjj",
        "outputId": "320bde96-6f06-4ce5-e685-3716b3fd08b2"
      },
      "source": [
        "# Example 2 - working\n",
        "A = torch.randn(2, 2, 2, 2)\n",
        "print(A)\n",
        "print('det(A):')\n",
        "torch.det(A)"
      ],
      "execution_count": null,
      "outputs": [
        {
          "output_type": "stream",
          "text": [
            "tensor([[[[-1.0329, -0.3397],\n",
            "          [-1.7874, -0.5596]],\n",
            "\n",
            "         [[-0.8990,  1.7743],\n",
            "          [ 0.2428, -0.6517]]],\n",
            "\n",
            "\n",
            "        [[[ 0.4628,  0.8481],\n",
            "          [-0.3221,  0.3541]],\n",
            "\n",
            "         [[-1.2001, -0.5225],\n",
            "          [-0.8416, -0.8502]]]])\n",
            "det(A):\n"
          ],
          "name": "stdout"
        },
        {
          "output_type": "execute_result",
          "data": {
            "text/plain": [
              "tensor([[-0.0293,  0.1550],\n",
              "        [ 0.4370,  0.5805]])"
            ]
          },
          "metadata": {
            "tags": []
          },
          "execution_count": 8
        }
      ]
    },
    {
      "cell_type": "markdown",
      "metadata": {
        "id": "o9HSRU8uoYjk"
      },
      "source": [
        "Determinants of four matricies"
      ]
    },
    {
      "cell_type": "code",
      "metadata": {
        "id": "Ddl2gjuRoYjk",
        "outputId": "3d5c24c0-08ab-4114-808a-d31400a8830e"
      },
      "source": [
        "# Example 3 - breaking (to illustrate when it breaks)\n",
        "A = torch.tensor([[1, 1, 1], [1, 1, 1]])\n",
        "torch.det(A)"
      ],
      "execution_count": null,
      "outputs": [
        {
          "output_type": "error",
          "ename": "RuntimeError",
          "evalue": "A must be batches of square matrices, but they are 3 by 2 matrices",
          "traceback": [
            "\u001b[0;31m---------------------------------------------------------------------------\u001b[0m",
            "\u001b[0;31mRuntimeError\u001b[0m                              Traceback (most recent call last)",
            "\u001b[0;32m<ipython-input-10-5d33b2050e34>\u001b[0m in \u001b[0;36m<module>\u001b[0;34m\u001b[0m\n\u001b[1;32m      1\u001b[0m \u001b[0;31m# Example 3 - breaking (to illustrate when it breaks)\u001b[0m\u001b[0;34m\u001b[0m\u001b[0;34m\u001b[0m\u001b[0;34m\u001b[0m\u001b[0m\n\u001b[1;32m      2\u001b[0m \u001b[0mA\u001b[0m\u001b[0;34m=\u001b[0m\u001b[0mtorch\u001b[0m\u001b[0;34m.\u001b[0m\u001b[0mtensor\u001b[0m\u001b[0;34m(\u001b[0m\u001b[0;34m[\u001b[0m\u001b[0;34m[\u001b[0m\u001b[0;36m1\u001b[0m\u001b[0;34m,\u001b[0m \u001b[0;36m1\u001b[0m\u001b[0;34m,\u001b[0m \u001b[0;36m1\u001b[0m\u001b[0;34m]\u001b[0m\u001b[0;34m,\u001b[0m \u001b[0;34m[\u001b[0m\u001b[0;36m1\u001b[0m\u001b[0;34m,\u001b[0m \u001b[0;36m1\u001b[0m\u001b[0;34m,\u001b[0m \u001b[0;36m1\u001b[0m\u001b[0;34m]\u001b[0m\u001b[0;34m]\u001b[0m\u001b[0;34m)\u001b[0m\u001b[0;34m\u001b[0m\u001b[0;34m\u001b[0m\u001b[0m\n\u001b[0;32m----> 3\u001b[0;31m \u001b[0mtorch\u001b[0m\u001b[0;34m.\u001b[0m\u001b[0mdet\u001b[0m\u001b[0;34m(\u001b[0m\u001b[0mA\u001b[0m\u001b[0;34m)\u001b[0m\u001b[0;34m\u001b[0m\u001b[0;34m\u001b[0m\u001b[0m\n\u001b[0m",
            "\u001b[0;31mRuntimeError\u001b[0m: A must be batches of square matrices, but they are 3 by 2 matrices"
          ]
        }
      ]
    },
    {
      "cell_type": "markdown",
      "metadata": {
        "id": "41OBkQuUoYjl"
      },
      "source": [
        "The matrix above is not a square matrix so there is no determinant."
      ]
    },
    {
      "cell_type": "markdown",
      "metadata": {
        "id": "Jva2pDbjoYjl"
      },
      "source": [
        "Only use this function as it is defined mathematically, for square matricies."
      ]
    },
    {
      "cell_type": "code",
      "metadata": {
        "id": "04HK-HyjoYjn",
        "outputId": "3910cfa0-90ac-4c2e-9477-1ee34b138ee9"
      },
      "source": [
        "jovian.commit(project='01-tensor-operations')"
      ],
      "execution_count": null,
      "outputs": [
        {
          "output_type": "display_data",
          "data": {
            "application/javascript": [
              "window.require && require([\"base/js/namespace\"],function(Jupyter){Jupyter.notebook.save_checkpoint()})"
            ],
            "text/plain": [
              "<IPython.core.display.Javascript object>"
            ]
          },
          "metadata": {
            "tags": []
          }
        },
        {
          "output_type": "stream",
          "text": [
            "[jovian] Attempting to save notebook..\u001b[0m\n",
            "[jovian] Updating notebook \"porkdown/01-tensor-operations\" on https://jovian.ai\u001b[0m\n",
            "[jovian] Uploading notebook..\u001b[0m\n",
            "[jovian] Uploading additional files...\u001b[0m\n",
            "[jovian] Committed successfully! https://jovian.ai/porkdown/01-tensor-operations\u001b[0m\n"
          ],
          "name": "stdout"
        },
        {
          "output_type": "execute_result",
          "data": {
            "text/plain": [
              "'https://jovian.ai/porkdown/01-tensor-operations'"
            ]
          },
          "metadata": {
            "tags": []
          },
          "execution_count": 29
        }
      ]
    },
    {
      "cell_type": "markdown",
      "metadata": {
        "id": "Wyu8drFAoYjo"
      },
      "source": [
        "## Conclusion\n",
        "\n",
        "This notebook covered five basic Pytorch tensor functions. More information can be found on the Pytorch documentation."
      ]
    },
    {
      "cell_type": "markdown",
      "metadata": {
        "id": "2Ejha9FdoYjp"
      },
      "source": [
        "## Reference Links\n",
        "* Official documentation for tensor operations: https://pytorch.org/docs/stable/torch.html"
      ]
    },
    {
      "cell_type": "code",
      "metadata": {
        "id": "4kTsdf3woYjp",
        "outputId": "f0018e50-6cb6-4dc4-8aea-2d04bcfb5c93"
      },
      "source": [
        "jovian.commit(project='01-tensor-operations')"
      ],
      "execution_count": null,
      "outputs": [
        {
          "output_type": "display_data",
          "data": {
            "application/javascript": [
              "window.require && require([\"base/js/namespace\"],function(Jupyter){Jupyter.notebook.save_checkpoint()})"
            ],
            "text/plain": [
              "<IPython.core.display.Javascript object>"
            ]
          },
          "metadata": {
            "tags": []
          }
        },
        {
          "output_type": "stream",
          "text": [
            "[jovian] Attempting to save notebook..\u001b[0m\n",
            "[jovian] Updating notebook \"porkdown/01-tensor-operations\" on https://jovian.ai\u001b[0m\n",
            "[jovian] Uploading notebook..\u001b[0m\n",
            "[jovian] Uploading additional files...\u001b[0m\n",
            "[jovian] Committed successfully! https://jovian.ai/porkdown/01-tensor-operations\u001b[0m\n"
          ],
          "name": "stdout"
        },
        {
          "output_type": "execute_result",
          "data": {
            "text/plain": [
              "'https://jovian.ai/porkdown/01-tensor-operations'"
            ]
          },
          "metadata": {
            "tags": []
          },
          "execution_count": 14
        }
      ]
    },
    {
      "cell_type": "code",
      "metadata": {
        "id": "yv5g1kymoYjq"
      },
      "source": [
        ""
      ],
      "execution_count": null,
      "outputs": []
    }
  ]
}