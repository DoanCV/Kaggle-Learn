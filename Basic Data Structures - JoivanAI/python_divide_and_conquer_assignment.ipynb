{
  "nbformat": 4,
  "nbformat_minor": 5,
  "metadata": {
    "kernelspec": {
      "display_name": "Python 3",
      "language": "python",
      "name": "python3"
    },
    "language_info": {
      "codemirror_mode": {
        "name": "ipython",
        "version": 3
      },
      "file_extension": ".py",
      "mimetype": "text/x-python",
      "name": "python",
      "nbconvert_exporter": "python",
      "pygments_lexer": "ipython3",
      "version": "3.6.12"
    },
    "colab": {
      "name": "python-divide-and-conquer-assignment.ipynb",
      "provenance": []
    }
  },
  "cells": [
    {
      "cell_type": "code",
      "metadata": {
        "id": "silver-applicant"
      },
      "source": [
        "# Jovian Commit Essentials\n",
        "# Please retain and execute this cell without modifying the contents for `jovian.commit` to work\n",
        "!pip install jovian --upgrade -q\n",
        "import jovian\n",
        "jovian.set_project('python-divide-and-conquer-assignment')\n",
        "jovian.set_colab_id('1Q1sUoVd_S0EM_nZ71eOHnG46nCYKy9PO')"
      ],
      "id": "silver-applicant",
      "execution_count": null,
      "outputs": []
    },
    {
      "cell_type": "markdown",
      "metadata": {
        "id": "difficult-valuation"
      },
      "source": [
        "# Assignment 3 - Divide-n-Conquer Algorithms in Python\n",
        "\n",
        "_This assignment is a part of the course [\"Data Structures and Algorithms in Python\"](https://jovian.ai/learn/data-structures-and-algorithms-in-python)._\n",
        "\n",
        "In this assignment, you will implement an efficient algorithm for polynomial multiplication.\n",
        "\n",
        "As you go through this notebook, you will find the symbol **???** in certain places. To complete this assignment, you must replace all the **???** with appropriate values, expressions or statements to ensure that the notebook runs properly end-to-end. \n",
        "\n",
        "**Guidelines**\n",
        "\n",
        "1. Make sure to run all the code cells, otherwise you may get errors like `NameError` for undefined variables.\n",
        "2. Do not change variable names, delete cells or disturb other existing code. It may cause problems during evaluation.\n",
        "3. In some cases, you may need to add some code cells or new statements before or after the line of code containing the **???**. \n",
        "4. Since you'll be using a temporary online service for code execution, save your work by running `jovian.commit` at regular intervals.\n",
        "5. Questions marked **(Optional)** will not be considered for evaluation, and can be skipped. They are for your learning.\n",
        "6. If you are stuck, you can ask for help on the [community forum] (TODO - add link). Post errors or ask for hints, but **please don't ask for OR share the full working answer code** on the forum.\n",
        "7. There are some tests included with this notebook to help you test your implementation. However, after submission your code will be tested with some hidden test cases. Make sure to test your code exhaustively to cover all edge cases.\n",
        "\n",
        "\n",
        "**Important Links**\n",
        "\n",
        "* Submit your work here: https://jovian.ai/learn/data-structures-and-algorithms-in-python/assignment/assignment-3-sorting-and-divide-conquer-practice\n",
        "* Ask questions and get help: https://jovian.ai/forum/c/data-structures-and-algorithms-in-python/assignment-3/89\n",
        "* Lesson 3 video for review: https://jovian.ai/learn/data-structures-and-algorithms-in-python/lesson/lesson-3-sorting-algorithms-and-divide-and-conquer\n",
        "* Lesson 3 notebook for review: https://jovian.ai/aakashns/python-sorting-divide-and-conquer\n"
      ],
      "id": "difficult-valuation"
    },
    {
      "cell_type": "markdown",
      "metadata": {
        "id": "japanese-beverage"
      },
      "source": [
        "### How to Run the Code and Save Your Work\n",
        "\n",
        "**Option 1: Running using free online resources (1-click, recommended)**: Click the **Run** button at the top of this page and select **Run on Binder**. You can also select \"Run on Colab\" or \"Run on Kaggle\", but you'll need to create an account on [Google Colab](https://colab.research.google.com) or [Kaggle](https://kaggle.com) to use these platforms.\n",
        "\n",
        "\n",
        "**Option 2: Running on your computer locally**: To run the code on your computer locally, you'll need to set up [Python](https://www.python.org) & [Conda](https://docs.conda.io/projects/conda/en/latest/user-guide/install/), download the notebook and install the required libraries. Click the **Run** button at the top of this page, select the **Run Locally** option, and follow the instructions.\n",
        "\n",
        "**Saving your work**: You can save a snapshot of the assignment to your [Jovian](https://jovian.ai) profile, so that you can access it later and continue your work. Keep saving your work by running `jovian.commit` from time to time."
      ],
      "id": "japanese-beverage"
    },
    {
      "cell_type": "code",
      "metadata": {
        "id": "revised-italy"
      },
      "source": [
        "project='python-divide-and-conquer-assignment'"
      ],
      "id": "revised-italy",
      "execution_count": null,
      "outputs": []
    },
    {
      "cell_type": "code",
      "metadata": {
        "id": "genuine-simon"
      },
      "source": [
        "!pip install jovian --upgrade --quiet"
      ],
      "id": "genuine-simon",
      "execution_count": null,
      "outputs": []
    },
    {
      "cell_type": "code",
      "metadata": {
        "colab": {
          "base_uri": "https://localhost:8080/",
          "height": 86
        },
        "id": "velvet-extraction",
        "outputId": "9bf2c60e-39d4-4497-8e2e-cf9c28bbe32f"
      },
      "source": [
        "import jovian\n",
        "jovian.commit(project=project, privacy='secret', environment=None)"
      ],
      "id": "velvet-extraction",
      "execution_count": null,
      "outputs": [
        {
          "output_type": "stream",
          "text": [
            "[jovian] Detected Colab notebook...\u001b[0m\n",
            "[jovian] Uploading colab notebook to Jovian...\u001b[0m\n",
            "[jovian] Committed successfully! https://jovian.ai/porkdown/python-divide-and-conquer-assignment\u001b[0m\n"
          ],
          "name": "stdout"
        },
        {
          "output_type": "execute_result",
          "data": {
            "application/vnd.google.colaboratory.intrinsic+json": {
              "type": "string"
            },
            "text/plain": [
              "'https://jovian.ai/porkdown/python-divide-and-conquer-assignment'"
            ]
          },
          "metadata": {
            "tags": []
          },
          "execution_count": 13
        }
      ]
    },
    {
      "cell_type": "markdown",
      "metadata": {
        "id": "final-database"
      },
      "source": [
        "## Problem Statement - Polynomial Multiplication\n",
        "\n",
        "> Given two polynomials represented by two lists, write a function that efficiently multiplies given two polynomials. For example, the lists `[2, 0, 5, 7]` and `[3, 4, 2]` represent the polynomials $2 + 5x^2 + 7x^3$ and $3 + 4x + 2x^2$. \n",
        "> \n",
        "> Their product is \n",
        ">\n",
        "> $(2 \\times 3) + (2 \\times 4 + 0 \\times 3)x + (2 \\times 2 + 3 \\times 5 + 4 \\times 0)x^2 + (7 \\times 3 + 5 \\times 4 + 0 \\times 2)x^3 + (7 \\times 4 + 5 \\times 2)x^4 + (7 \\times 2)x^5$ i.e. \n",
        ">\n",
        ">$6 + 8x + 19x^2 + 41x^3 + 38x^4 + 14x^5$\n",
        "> \n",
        ">It can be represented by the list `[6, 8, 19, 41, 38, 14]`.\n"
      ],
      "id": "final-database"
    },
    {
      "cell_type": "markdown",
      "metadata": {
        "id": "completed-evolution"
      },
      "source": [
        "## The Method\n",
        "\n",
        "Here's the systematic strategy we'll apply for solving problems:\n",
        "\n",
        "1. State the problem clearly. Identify the input & output formats.\n",
        "2. Come up with some example inputs & outputs. Try to cover all edge cases.\n",
        "3. Come up with a correct solution for the problem. State it in plain English.\n",
        "4. Implement the solution and test it using example inputs. Fix bugs, if any.\n",
        "5. Analyze the algorithm's complexity and identify inefficiencies, if any.\n",
        "6. Apply the right technique to overcome the inefficiency. Repeat steps 3 to 6.\n",
        "\n",
        "This approach is explained in detail in [Lesson 1](https://jovian.ai/learn/data-structures-and-algorithms-in-python/lesson/lesson-1-binary-search-linked-lists-and-complexity) of the course. Let's apply this approach step-by-step."
      ],
      "id": "completed-evolution"
    },
    {
      "cell_type": "markdown",
      "metadata": {
        "id": "compressed-intellectual"
      },
      "source": [
        "## Solution\n",
        "\n",
        "\n",
        "### 1. State the problem clearly. Identify the input & output formats.\n",
        "\n",
        "While this problem is stated clearly enough, it's always useful to try and express in your own words, in a way that makes it most clear for you. \n",
        "\n",
        "\n",
        "**Problem**\n",
        "\n",
        "> **Given two arrays of polynomial coefficients, return the array containing the product of the polynomials (Format: polynomial powers increase with index in the array)** \n",
        "\n",
        "<br/>\n",
        "\n",
        "\n",
        "**Input**\n",
        "\n",
        "1. **[2,0,5,7]**\n",
        "2. **[3,4,2]**\n",
        "\n",
        "\n",
        "\n",
        "**Output**\n",
        "\n",
        "1. **[6,8,19,41,38,14]**\n",
        "\n",
        "\n",
        "<br/>\n",
        "\n",
        "Based on the above, we can now create a signature of our function:"
      ],
      "id": "compressed-intellectual"
    },
    {
      "cell_type": "code",
      "metadata": {
        "id": "frank-professor"
      },
      "source": [
        "def multiply(poly1, poly2):\n",
        "    pass"
      ],
      "id": "frank-professor",
      "execution_count": null,
      "outputs": []
    },
    {
      "cell_type": "code",
      "metadata": {
        "id": "unauthorized-amendment"
      },
      "source": [
        "import jovian"
      ],
      "id": "unauthorized-amendment",
      "execution_count": null,
      "outputs": []
    },
    {
      "cell_type": "code",
      "metadata": {
        "colab": {
          "base_uri": "https://localhost:8080/",
          "height": 102
        },
        "id": "exposed-extension",
        "outputId": "3f507e8f-fc1d-45c2-bc52-8ffa5d9c60d8"
      },
      "source": [
        "jovian.commit()"
      ],
      "id": "exposed-extension",
      "execution_count": null,
      "outputs": [
        {
          "output_type": "stream",
          "text": [
            "[jovian] Detected Colab notebook...\u001b[0m\n",
            "[jovian] Uploading colab notebook to Jovian...\u001b[0m\n",
            "[jovian] Capturing environment..\u001b[0m\n",
            "[jovian] Committed successfully! https://jovian.ai/porkdown/python-divide-and-conquer-assignment\u001b[0m\n"
          ],
          "name": "stdout"
        },
        {
          "output_type": "execute_result",
          "data": {
            "application/vnd.google.colaboratory.intrinsic+json": {
              "type": "string"
            },
            "text/plain": [
              "'https://jovian.ai/porkdown/python-divide-and-conquer-assignment'"
            ]
          },
          "metadata": {
            "tags": []
          },
          "execution_count": 19
        }
      ]
    },
    {
      "cell_type": "markdown",
      "metadata": {
        "id": "latin-choir"
      },
      "source": [
        "### 2. Come up with some example inputs & outputs. Try to cover all edge cases.\n",
        "\n",
        "Our function should be able to handle any set of valid inputs we pass into it. List a few scenarios here:\n",
        "\n",
        "1. **Same number of terms, same powers**\n",
        "2. **Different number of terms, different powers**\n",
        "3. **Empty array(s)**\n",
        "4. **Negative coefficients**\n",
        "5. **0 coefficients**\n",
        "\n",
        "(add more if required)\n",
        "\n",
        "\n",
        "Create a test case of each of the above scenarios. We'll express our test cases as dictionaries, to test them easily. Each dictionary will contain 2 keys: `input` (a dictionary itself containing one key for each argument to the function and `output` (the expected result from the function). "
      ],
      "id": "latin-choir"
    },
    {
      "cell_type": "code",
      "metadata": {
        "id": "fancy-exhaust"
      },
      "source": [
        "test0 = {\n",
        "    'input': {\n",
        "        'poly1': [2, 0, 5, 7],\n",
        "        'poly2': [3, 4, 2]\n",
        "    },\n",
        "    'output': [6, 8, 19, 41, 38, 14]\n",
        "}"
      ],
      "id": "fancy-exhaust",
      "execution_count": null,
      "outputs": []
    },
    {
      "cell_type": "code",
      "metadata": {
        "id": "featured-poster"
      },
      "source": [
        "test1 = {\n",
        "    'input': {\n",
        "        'poly1': [2,3],\n",
        "        'poly2': [4,5]\n",
        "    },\n",
        "    'output': [8,22,15]\n",
        "}"
      ],
      "id": "featured-poster",
      "execution_count": null,
      "outputs": []
    },
    {
      "cell_type": "code",
      "metadata": {
        "id": "matched-horizon"
      },
      "source": [
        "test2 = {\n",
        "    'input': {\n",
        "        'poly1': [2,3,4],\n",
        "        'poly2': [5,6]\n",
        "    },\n",
        "    'output': [10,27,38,24]\n",
        "}"
      ],
      "id": "matched-horizon",
      "execution_count": null,
      "outputs": []
    },
    {
      "cell_type": "code",
      "metadata": {
        "id": "functional-personal"
      },
      "source": [
        "test3 = {\n",
        "    'input': {\n",
        "        'poly1': [3,5],\n",
        "        'poly2': []\n",
        "    },\n",
        "    'output': [0]\n",
        "}"
      ],
      "id": "functional-personal",
      "execution_count": null,
      "outputs": []
    },
    {
      "cell_type": "code",
      "metadata": {
        "id": "useful-alaska"
      },
      "source": [
        "test4 = {\n",
        "    'input': {\n",
        "        'poly1': [2,3,4],\n",
        "        'poly2': [5,-6]\n",
        "    },\n",
        "    'output': [10,3,2,-24]\n",
        "}"
      ],
      "id": "useful-alaska",
      "execution_count": null,
      "outputs": []
    },
    {
      "cell_type": "code",
      "metadata": {
        "id": "split-opportunity"
      },
      "source": [
        "test5 = {\n",
        "    'input': {\n",
        "        'poly1': [2, 0, 5, 7],\n",
        "        'poly2': [3, 4, 2]\n",
        "    },\n",
        "    'output': [6, 8, 19, 41, 38, 14]\n",
        "}"
      ],
      "id": "split-opportunity",
      "execution_count": null,
      "outputs": []
    },
    {
      "cell_type": "markdown",
      "metadata": {
        "id": "extreme-membrane"
      },
      "source": [
        "Let's store all the test cases in a list, for easier automated testing."
      ],
      "id": "extreme-membrane"
    },
    {
      "cell_type": "code",
      "metadata": {
        "id": "emerging-request"
      },
      "source": [
        "tests = [test0, test1, test2, test3, test4, test5]"
      ],
      "id": "emerging-request",
      "execution_count": null,
      "outputs": []
    },
    {
      "cell_type": "code",
      "metadata": {
        "id": "connected-favor"
      },
      "source": [
        "import jovian"
      ],
      "id": "connected-favor",
      "execution_count": null,
      "outputs": []
    },
    {
      "cell_type": "code",
      "metadata": {
        "colab": {
          "base_uri": "https://localhost:8080/",
          "height": 102
        },
        "id": "brave-bracelet",
        "outputId": "09e49212-5134-405a-dccf-ebdf0af0139f"
      },
      "source": [
        "jovian.commit()"
      ],
      "id": "brave-bracelet",
      "execution_count": null,
      "outputs": [
        {
          "output_type": "stream",
          "text": [
            "[jovian] Detected Colab notebook...\u001b[0m\n",
            "[jovian] Uploading colab notebook to Jovian...\u001b[0m\n",
            "[jovian] Capturing environment..\u001b[0m\n",
            "[jovian] Committed successfully! https://jovian.ai/porkdown/python-divide-and-conquer-assignment\u001b[0m\n"
          ],
          "name": "stdout"
        },
        {
          "output_type": "execute_result",
          "data": {
            "application/vnd.google.colaboratory.intrinsic+json": {
              "type": "string"
            },
            "text/plain": [
              "'https://jovian.ai/porkdown/python-divide-and-conquer-assignment'"
            ]
          },
          "metadata": {
            "tags": []
          },
          "execution_count": 27
        }
      ]
    },
    {
      "cell_type": "markdown",
      "metadata": {
        "id": "satellite-exclusion"
      },
      "source": [
        "### 3. Come up with a correct solution for the problem. State it in plain English.\n",
        "\n",
        "Our first goal should always be to come up with a _correct_ solution to the problem, which may not necessarily be the most _efficient_ solution. \n",
        "\n",
        "Here's the simplest solution: If you have lists `poly1` and `poly2` representing polynomials of length $m$ and $n$ respectively, the highest degree of the exponents are $m-1$ and $n-1$ respectively. Their product has the degree $(m - 1) + (n - 1)$ i.e $m + n - 2$. The list representing the product has the length $m + n - 1$. So, we can create a list `result` of length $m + n - 1$, and set \n",
        "\n",
        "`result[k]` = Sum of all the pairs `poly1[i] * poly2[j]` where `i+j = k`\n",
        "\n",
        "Example:\n",
        "\n",
        "$(2 + 5x^2 + 7x^3) \\times (3 + 4x + 2x^2)$\n",
        "\n",
        "$= (2 \\times 3) + (2 \\times 4 + 0 \\times 3)x + (2 \\times 2 + 3 \\times 5 + 4 \\times 0)x^2 + (7 \\times 3 + 5 \\times 4 + 0 \\times 2)x^3 + (7 \\times 4 + 5 \\times 2)x^4 + (7 \\times 2)x^5$\n",
        "\n",
        "$= 6 + 8x + 19x^2 + 41x^3 + 38x^4 + 14x^5$\n",
        "\n",
        "\n",
        "\n",
        "\n",
        "\n",
        "\n",
        "Explain this solution in your own words below:\n",
        "\n",
        "1. **The highest degree of the result is n + m - 2 where m and n are the length of the input arrays**\n",
        "2. **Each index, k, of the result is the summ of all pairs of poly1[i] and poly2[j] where i + j = k.**\n",
        "\n",
        "\n",
        "(add more steps if required)\n",
        "\n",
        "\n",
        "Let's save and upload our work before continuing.\n",
        "\n"
      ],
      "id": "satellite-exclusion"
    },
    {
      "cell_type": "code",
      "metadata": {
        "id": "relevant-initial"
      },
      "source": [
        "import jovian"
      ],
      "id": "relevant-initial",
      "execution_count": null,
      "outputs": []
    },
    {
      "cell_type": "code",
      "metadata": {
        "colab": {
          "base_uri": "https://localhost:8080/",
          "height": 102
        },
        "id": "fatty-rolling",
        "outputId": "d0c5a149-5195-40e2-fb90-2ebdedab01ac"
      },
      "source": [
        "jovian.commit()"
      ],
      "id": "fatty-rolling",
      "execution_count": null,
      "outputs": [
        {
          "output_type": "stream",
          "text": [
            "[jovian] Detected Colab notebook...\u001b[0m\n",
            "[jovian] Uploading colab notebook to Jovian...\u001b[0m\n",
            "[jovian] Capturing environment..\u001b[0m\n",
            "[jovian] Committed successfully! https://jovian.ai/porkdown/python-divide-and-conquer-assignment\u001b[0m\n"
          ],
          "name": "stdout"
        },
        {
          "output_type": "execute_result",
          "data": {
            "application/vnd.google.colaboratory.intrinsic+json": {
              "type": "string"
            },
            "text/plain": [
              "'https://jovian.ai/porkdown/python-divide-and-conquer-assignment'"
            ]
          },
          "metadata": {
            "tags": []
          },
          "execution_count": 29
        }
      ]
    },
    {
      "cell_type": "markdown",
      "metadata": {
        "id": "lucky-boxing"
      },
      "source": [
        "###  4. Implement the solution and test it using example inputs. Fix bugs, if any.\n",
        "\n",
        "Implement the solution"
      ],
      "id": "lucky-boxing"
    },
    {
      "cell_type": "code",
      "metadata": {
        "id": "grateful-chile"
      },
      "source": [
        "def multiply_basic(poly1, poly2):\n",
        "    result = []\n",
        "    for index in range(len(poly1) + len(poly2) - 1):\n",
        "      result.append(0)\n",
        "\n",
        "    for i in range(len(poly1)):\n",
        "      for j in range(len(poly2)):\n",
        "        result[i+j] += poly1[i] * poly2[j]\n",
        "    return result"
      ],
      "id": "grateful-chile",
      "execution_count": null,
      "outputs": []
    },
    {
      "cell_type": "markdown",
      "metadata": {
        "id": "casual-bicycle"
      },
      "source": [
        "Test your solution using the test cases you've defined above."
      ],
      "id": "casual-bicycle"
    },
    {
      "cell_type": "code",
      "metadata": {
        "colab": {
          "base_uri": "https://localhost:8080/"
        },
        "id": "sunset-motor",
        "outputId": "a727b39c-11bf-4ffd-f8ca-45fd9d87ec89"
      },
      "source": [
        "multiply_basic([2, 0, 5, 7], [3, 4, 2])"
      ],
      "id": "sunset-motor",
      "execution_count": null,
      "outputs": [
        {
          "output_type": "execute_result",
          "data": {
            "text/plain": [
              "[6, 8, 19, 41, 38, 14]"
            ]
          },
          "metadata": {
            "tags": []
          },
          "execution_count": 187
        }
      ]
    },
    {
      "cell_type": "code",
      "metadata": {
        "colab": {
          "base_uri": "https://localhost:8080/"
        },
        "id": "earned-sending",
        "outputId": "2990f759-70b1-484e-f52c-fa6db0646d78"
      },
      "source": [
        "multiply_basic(test0[\"input\"]['poly1'],test0[\"input\"]['poly2'])"
      ],
      "id": "earned-sending",
      "execution_count": null,
      "outputs": [
        {
          "output_type": "execute_result",
          "data": {
            "text/plain": [
              "[6, 8, 19, 41, 38, 14]"
            ]
          },
          "metadata": {
            "tags": []
          },
          "execution_count": 188
        }
      ]
    },
    {
      "cell_type": "code",
      "metadata": {
        "colab": {
          "base_uri": "https://localhost:8080/"
        },
        "id": "FmsiQwv16o91",
        "outputId": "82d526f0-432a-40d3-c45a-cbc903965ffa"
      },
      "source": [
        "multiply_basic(test1[\"input\"]['poly1'],test1[\"input\"]['poly2'])"
      ],
      "id": "FmsiQwv16o91",
      "execution_count": null,
      "outputs": [
        {
          "output_type": "execute_result",
          "data": {
            "text/plain": [
              "[8, 22, 15]"
            ]
          },
          "metadata": {
            "tags": []
          },
          "execution_count": 189
        }
      ]
    },
    {
      "cell_type": "code",
      "metadata": {
        "colab": {
          "base_uri": "https://localhost:8080/"
        },
        "id": "qvBWaqRr6nBC",
        "outputId": "73be2b53-fd8c-4ea1-b9ae-62b56483941d"
      },
      "source": [
        "multiply_basic(test2[\"input\"]['poly1'],test2[\"input\"]['poly2'])"
      ],
      "id": "qvBWaqRr6nBC",
      "execution_count": null,
      "outputs": [
        {
          "output_type": "execute_result",
          "data": {
            "text/plain": [
              "[10, 27, 38, 24]"
            ]
          },
          "metadata": {
            "tags": []
          },
          "execution_count": 190
        }
      ]
    },
    {
      "cell_type": "code",
      "metadata": {
        "colab": {
          "base_uri": "https://localhost:8080/"
        },
        "id": "atgZWS_Y6x0R",
        "outputId": "3b22274f-f8f2-4d9a-8bcf-12305f2439de"
      },
      "source": [
        "multiply_basic(test3[\"input\"]['poly1'],test3[\"input\"]['poly2'])"
      ],
      "id": "atgZWS_Y6x0R",
      "execution_count": null,
      "outputs": [
        {
          "output_type": "execute_result",
          "data": {
            "text/plain": [
              "[0]"
            ]
          },
          "metadata": {
            "tags": []
          },
          "execution_count": 191
        }
      ]
    },
    {
      "cell_type": "code",
      "metadata": {
        "colab": {
          "base_uri": "https://localhost:8080/"
        },
        "id": "7MzyOEoq6yGl",
        "outputId": "f72ce858-7925-42a9-acb8-681abeab715d"
      },
      "source": [
        "multiply_basic(test4[\"input\"]['poly1'],test4[\"input\"]['poly2'])"
      ],
      "id": "7MzyOEoq6yGl",
      "execution_count": null,
      "outputs": [
        {
          "output_type": "execute_result",
          "data": {
            "text/plain": [
              "[10, 3, 2, -24]"
            ]
          },
          "metadata": {
            "tags": []
          },
          "execution_count": 192
        }
      ]
    },
    {
      "cell_type": "code",
      "metadata": {
        "colab": {
          "base_uri": "https://localhost:8080/"
        },
        "id": "TRHIlun06yNU",
        "outputId": "817a2712-2919-4e7e-a4bf-77be1ec92889"
      },
      "source": [
        "multiply_basic(test5[\"input\"]['poly1'],test5[\"input\"]['poly2'])"
      ],
      "id": "TRHIlun06yNU",
      "execution_count": null,
      "outputs": [
        {
          "output_type": "execute_result",
          "data": {
            "text/plain": [
              "[6, 8, 19, 41, 38, 14]"
            ]
          },
          "metadata": {
            "tags": []
          },
          "execution_count": 193
        }
      ]
    },
    {
      "cell_type": "markdown",
      "metadata": {
        "id": "2qbfsge664lZ"
      },
      "source": [
        "Nice, they all work."
      ],
      "id": "2qbfsge664lZ"
    },
    {
      "cell_type": "code",
      "metadata": {
        "id": "lined-expense"
      },
      "source": [
        "import jovian"
      ],
      "id": "lined-expense",
      "execution_count": null,
      "outputs": []
    },
    {
      "cell_type": "code",
      "metadata": {
        "colab": {
          "base_uri": "https://localhost:8080/",
          "height": 102
        },
        "id": "recreational-regulation",
        "outputId": "b39362cd-86f9-48fd-fce9-446168bd8977"
      },
      "source": [
        "jovian.commit()"
      ],
      "id": "recreational-regulation",
      "execution_count": null,
      "outputs": [
        {
          "output_type": "stream",
          "text": [
            "[jovian] Detected Colab notebook...\u001b[0m\n",
            "[jovian] Uploading colab notebook to Jovian...\u001b[0m\n",
            "[jovian] Capturing environment..\u001b[0m\n",
            "[jovian] Committed successfully! https://jovian.ai/porkdown/python-divide-and-conquer-assignment\u001b[0m\n"
          ],
          "name": "stdout"
        },
        {
          "output_type": "execute_result",
          "data": {
            "application/vnd.google.colaboratory.intrinsic+json": {
              "type": "string"
            },
            "text/plain": [
              "'https://jovian.ai/porkdown/python-divide-and-conquer-assignment'"
            ]
          },
          "metadata": {
            "tags": []
          },
          "execution_count": 155
        }
      ]
    },
    {
      "cell_type": "markdown",
      "metadata": {
        "id": "associate-platform"
      },
      "source": [
        "### 5. Analyze the algorithm's complexity and identify inefficiencies, if any.\n",
        "\n",
        "Can you analyze the time and space complexity of this algorithm?"
      ],
      "id": "associate-platform"
    },
    {
      "cell_type": "code",
      "metadata": {
        "id": "aerial-motorcycle"
      },
      "source": [
        "multiply_basic_time_complexity = 'O(ab)'"
      ],
      "id": "aerial-motorcycle",
      "execution_count": null,
      "outputs": []
    },
    {
      "cell_type": "code",
      "metadata": {
        "id": "sustained-chicago"
      },
      "source": [
        "multiply_basic_space_complexity = 'O(a + b)'"
      ],
      "id": "sustained-chicago",
      "execution_count": null,
      "outputs": []
    },
    {
      "cell_type": "markdown",
      "metadata": {
        "id": "Gfw1zJcj7CG-"
      },
      "source": [
        "Where a is the length of poly1 and b is the length of poly2. The call stack computes one index of result at a time checking all of poly1 and poly2 so the space complexity is linear."
      ],
      "id": "Gfw1zJcj7CG-"
    },
    {
      "cell_type": "code",
      "metadata": {
        "id": "accompanied-thailand"
      },
      "source": [
        "import jovian"
      ],
      "id": "accompanied-thailand",
      "execution_count": null,
      "outputs": []
    },
    {
      "cell_type": "code",
      "metadata": {
        "colab": {
          "base_uri": "https://localhost:8080/",
          "height": 102
        },
        "id": "egyptian-stranger",
        "outputId": "74051097-7306-4ca5-bd1d-1ac4cf548d22"
      },
      "source": [
        "jovian.commit()"
      ],
      "id": "egyptian-stranger",
      "execution_count": null,
      "outputs": [
        {
          "output_type": "stream",
          "text": [
            "[jovian] Detected Colab notebook...\u001b[0m\n",
            "[jovian] Uploading colab notebook to Jovian...\u001b[0m\n",
            "[jovian] Capturing environment..\u001b[0m\n",
            "[jovian] Committed successfully! https://jovian.ai/porkdown/python-divide-and-conquer-assignment\u001b[0m\n"
          ],
          "name": "stdout"
        },
        {
          "output_type": "execute_result",
          "data": {
            "application/vnd.google.colaboratory.intrinsic+json": {
              "type": "string"
            },
            "text/plain": [
              "'https://jovian.ai/porkdown/python-divide-and-conquer-assignment'"
            ]
          },
          "metadata": {
            "tags": []
          },
          "execution_count": 86
        }
      ]
    },
    {
      "cell_type": "markdown",
      "metadata": {
        "id": "honey-desire"
      },
      "source": [
        "### 6. Apply the right technique to overcome the inefficiency. Repeat steps 3 to 6.\n",
        "\n",
        "We can apply the divide and conquer technique to solve this problem more efficiently. Given two polynomials `A` and `B`, we can express each of them as a sum of two polynomials as follows:\n",
        "\n",
        "<img src=\"https://i.imgur.com/FjKQF5h.png\" width=\"480\">\n",
        "\n",
        "We need to compute the terms `A0 * B0`, `A1 * B0 + A0 * B1` and `A1 * B1`. This can obviously be done using 4 multiplications, but here's a way of doing it with just three multiplications:\n",
        "\n",
        "<img src=\"https://i.imgur.com/G3vD1GX.png\" width=\"480\">\n",
        "\n",
        "\n",
        "Each of the products can themselves be computed recursively. For a more detailed explanation of this approach see http://www.cse.ust.hk/~dekai/271/notes/L03/L03.pdf .\n",
        "\n",
        "\n",
        "Need help? Discuss and ask questions on the forum: https://jovian.ai/forum/c/data-structures-and-algorithms-in-python/assignment-3/89\n"
      ],
      "id": "honey-desire"
    },
    {
      "cell_type": "markdown",
      "metadata": {
        "id": "parliamentary-spray"
      },
      "source": [
        "### 7. Come up with a correct solution for the problem. State it in plain English.\n",
        "\n",
        "Explain the approach described above in your own words below:\n",
        "\n",
        "1. **Split problem into subproblems**\n",
        "2. **Calculations involve adds and multiplies, which can be replaced with convolution**\n",
        "\n",
        "(add more steps if required)\n",
        "\n",
        "\n",
        "Let's save and upload our work before continuing."
      ],
      "id": "parliamentary-spray"
    },
    {
      "cell_type": "code",
      "metadata": {
        "id": "recreational-occurrence"
      },
      "source": [
        "import jovian"
      ],
      "id": "recreational-occurrence",
      "execution_count": null,
      "outputs": []
    },
    {
      "cell_type": "code",
      "metadata": {
        "colab": {
          "base_uri": "https://localhost:8080/",
          "height": 102
        },
        "id": "flexible-snake",
        "outputId": "dc4e1799-a4b5-4998-8138-e628eb58966f"
      },
      "source": [
        "jovian.commit()"
      ],
      "id": "flexible-snake",
      "execution_count": null,
      "outputs": [
        {
          "output_type": "stream",
          "text": [
            "[jovian] Detected Colab notebook...\u001b[0m\n",
            "[jovian] Uploading colab notebook to Jovian...\u001b[0m\n",
            "[jovian] Capturing environment..\u001b[0m\n",
            "[jovian] Committed successfully! https://jovian.ai/porkdown/python-divide-and-conquer-assignment\u001b[0m\n"
          ],
          "name": "stdout"
        },
        {
          "output_type": "execute_result",
          "data": {
            "application/vnd.google.colaboratory.intrinsic+json": {
              "type": "string"
            },
            "text/plain": [
              "'https://jovian.ai/porkdown/python-divide-and-conquer-assignment'"
            ]
          },
          "metadata": {
            "tags": []
          },
          "execution_count": 88
        }
      ]
    },
    {
      "cell_type": "markdown",
      "metadata": {
        "id": "corresponding-gasoline"
      },
      "source": [
        "### 8. Implement the solution and test it using example inputs. Fix bugs, if any.\n",
        "\n",
        "We are now ready to implement the solution. You may find the following functions `add`, `split` and `increase_exponent` useful.\n"
      ],
      "id": "corresponding-gasoline"
    },
    {
      "cell_type": "code",
      "metadata": {
        "id": "planned-budapest"
      },
      "source": [
        "def add(poly1, poly2):\n",
        "    \"\"\"Add two polynomials\"\"\"\n",
        "    result = [0] * max(len(poly1), len(poly2))\n",
        "    for i in range(len(result)):\n",
        "        if i < len(poly1):\n",
        "            result[i] += poly1[i]\n",
        "        if i < len(poly2):\n",
        "            result[i] += poly2[i]\n",
        "    return result"
      ],
      "id": "planned-budapest",
      "execution_count": null,
      "outputs": []
    },
    {
      "cell_type": "code",
      "metadata": {
        "colab": {
          "base_uri": "https://localhost:8080/"
        },
        "id": "amazing-sympathy",
        "outputId": "183e5c43-3307-4746-b753-02f4e3d2bba1"
      },
      "source": [
        "add([1, 2, 3, 4], [0, 4, 3])"
      ],
      "id": "amazing-sympathy",
      "execution_count": null,
      "outputs": [
        {
          "output_type": "execute_result",
          "data": {
            "text/plain": [
              "[1, 6, 6, 4]"
            ]
          },
          "metadata": {
            "tags": []
          },
          "execution_count": 90
        }
      ]
    },
    {
      "cell_type": "code",
      "metadata": {
        "id": "objective-stone"
      },
      "source": [
        "def split(poly1, poly2):\n",
        "    \"\"\"Split each polynomial into two smaller polynomials\"\"\"\n",
        "    mid = max(len(poly1), len(poly2)) // 2\n",
        "    return  (poly1[:mid], poly1[mid:]), (poly2[:mid], poly2[mid:])"
      ],
      "id": "objective-stone",
      "execution_count": null,
      "outputs": []
    },
    {
      "cell_type": "code",
      "metadata": {
        "colab": {
          "base_uri": "https://localhost:8080/"
        },
        "id": "saving-folder",
        "outputId": "80f41b6b-054f-4d35-ca3d-9f7b709a0514"
      },
      "source": [
        "split([1, 2, 3, 4], [0, 4, 3, 6, 7, 8, 2])"
      ],
      "id": "saving-folder",
      "execution_count": null,
      "outputs": [
        {
          "output_type": "execute_result",
          "data": {
            "text/plain": [
              "(([1, 2, 3], [4]), ([0, 4, 3], [6, 7, 8, 2]))"
            ]
          },
          "metadata": {
            "tags": []
          },
          "execution_count": 92
        }
      ]
    },
    {
      "cell_type": "code",
      "metadata": {
        "id": "ethical-bradford"
      },
      "source": [
        "def increase_exponent(poly, n):\n",
        "    \"\"\"Multiply poly1 by x^n\"\"\"\n",
        "    return [0] * n + poly"
      ],
      "id": "ethical-bradford",
      "execution_count": null,
      "outputs": []
    },
    {
      "cell_type": "code",
      "metadata": {
        "colab": {
          "base_uri": "https://localhost:8080/"
        },
        "id": "saving-arrangement",
        "outputId": "95d37d68-6877-4d12-e85a-cc52687f8c35"
      },
      "source": [
        "increase_exponent([1, 2, 3, 4], 3)"
      ],
      "id": "saving-arrangement",
      "execution_count": null,
      "outputs": [
        {
          "output_type": "execute_result",
          "data": {
            "text/plain": [
              "[0, 0, 0, 1, 2, 3, 4]"
            ]
          },
          "metadata": {
            "tags": []
          },
          "execution_count": 94
        }
      ]
    },
    {
      "cell_type": "markdown",
      "metadata": {
        "id": "under-effectiveness"
      },
      "source": [
        "Implement the optimized multiplication algorithm below. You may use the some or all of the helper functions defined above."
      ],
      "id": "under-effectiveness"
    },
    {
      "cell_type": "code",
      "metadata": {
        "id": "starting-characterization"
      },
      "source": [
        "def multiply_optimized(poly1, poly2):\n",
        "    if len(poly1) == 0 or len(poly2) == 0:\n",
        "      return [0]\n",
        "    elif len(poly1) == 1:\n",
        "      product = [poly1[0] * poly2[i] for i in range(len(poly2))]\n",
        "      return product\n",
        "    elif len(poly2) == 1:\n",
        "      product = [poly2[0] * poly1[i] for i in range(len(poly1))]\n",
        "      return product\n",
        "    else:\n",
        "      n = max(len(poly1), len(poly2))\n",
        "      A, B = split(poly1, poly2)\n",
        "      \n",
        "      U = multiply_optimized(A[0],B[0])\n",
        "      V = multiply_optimized(A[0],B[1])\n",
        "      W = multiply_optimized(A[1],B[0])\n",
        "      Z = multiply_optimized(A[1],B[1])\n",
        "    \n",
        "      product = add(add(U,increase_exponent(add(V,W), n//2)), increase_exponent(Z,2*(n//2)))\n",
        "      return product"
      ],
      "id": "starting-characterization",
      "execution_count": null,
      "outputs": []
    },
    {
      "cell_type": "markdown",
      "metadata": {
        "id": "novel-scout"
      },
      "source": [
        "Test your solution using the empty cells below."
      ],
      "id": "novel-scout"
    },
    {
      "cell_type": "code",
      "metadata": {
        "colab": {
          "base_uri": "https://localhost:8080/"
        },
        "id": "operating-ecology",
        "outputId": "15a6e530-8ec1-416a-a18a-1e17309dadfe"
      },
      "source": [
        "multiply_optimized(test0[\"input\"]['poly1'],test0[\"input\"]['poly2'])"
      ],
      "id": "operating-ecology",
      "execution_count": null,
      "outputs": [
        {
          "output_type": "execute_result",
          "data": {
            "text/plain": [
              "[6, 8, 19, 41, 38, 14]"
            ]
          },
          "metadata": {
            "tags": []
          },
          "execution_count": 194
        }
      ]
    },
    {
      "cell_type": "code",
      "metadata": {
        "id": "adverse-tamil"
      },
      "source": [
        "from jovian.pythondsa import evaluate_test_cases"
      ],
      "id": "adverse-tamil",
      "execution_count": null,
      "outputs": []
    },
    {
      "cell_type": "code",
      "metadata": {
        "colab": {
          "base_uri": "https://localhost:8080/"
        },
        "id": "local-pharmacology",
        "outputId": "e5fcaf38-794d-42f8-ad05-c6be6d4a6d72"
      },
      "source": [
        "evaluate_test_cases(multiply_optimized, tests)"
      ],
      "id": "local-pharmacology",
      "execution_count": null,
      "outputs": [
        {
          "output_type": "stream",
          "text": [
            "\n",
            "\u001b[1mTEST CASE #0\u001b[0m\n",
            "\n",
            "Input:\n",
            "{'poly1': [2, 0, 5, 7], 'poly2': [3, 4, 2]}\n",
            "\n",
            "Expected Output:\n",
            "[6, 8, 19, 41, 38, 14]\n",
            "\n",
            "\n",
            "Actual Output:\n",
            "[6, 8, 19, 41, 38, 14]\n",
            "\n",
            "Execution Time:\n",
            "0.084 ms\n",
            "\n",
            "Test Result:\n",
            "\u001b[92mPASSED\u001b[0m\n",
            "\n",
            "\n",
            "\u001b[1mTEST CASE #1\u001b[0m\n",
            "\n",
            "Input:\n",
            "{'poly1': [2, 3], 'poly2': [4, 5]}\n",
            "\n",
            "Expected Output:\n",
            "[8, 22, 15]\n",
            "\n",
            "\n",
            "Actual Output:\n",
            "[8, 22, 15]\n",
            "\n",
            "Execution Time:\n",
            "3.687 ms\n",
            "\n",
            "Test Result:\n",
            "\u001b[92mPASSED\u001b[0m\n",
            "\n",
            "\n",
            "\u001b[1mTEST CASE #2\u001b[0m\n",
            "\n",
            "Input:\n",
            "{'poly1': [2, 3, 4], 'poly2': [5, 6]}\n",
            "\n",
            "Expected Output:\n",
            "[10, 27, 38, 24]\n",
            "\n",
            "\n",
            "Actual Output:\n",
            "[10, 27, 38, 24]\n",
            "\n",
            "Execution Time:\n",
            "0.037 ms\n",
            "\n",
            "Test Result:\n",
            "\u001b[92mPASSED\u001b[0m\n",
            "\n",
            "\n",
            "\u001b[1mTEST CASE #3\u001b[0m\n",
            "\n",
            "Input:\n",
            "{'poly1': [3, 5], 'poly2': []}\n",
            "\n",
            "Expected Output:\n",
            "[0]\n",
            "\n",
            "\n",
            "Actual Output:\n",
            "[0]\n",
            "\n",
            "Execution Time:\n",
            "0.003 ms\n",
            "\n",
            "Test Result:\n",
            "\u001b[92mPASSED\u001b[0m\n",
            "\n",
            "\n",
            "\u001b[1mTEST CASE #4\u001b[0m\n",
            "\n",
            "Input:\n",
            "{'poly1': [2, 3, 4], 'poly2': [5, -6]}\n",
            "\n",
            "Expected Output:\n",
            "[10, 3, 2, -24]\n",
            "\n",
            "\n",
            "Actual Output:\n",
            "[10, 3, 2, -24]\n",
            "\n",
            "Execution Time:\n",
            "0.024 ms\n",
            "\n",
            "Test Result:\n",
            "\u001b[92mPASSED\u001b[0m\n",
            "\n",
            "\n",
            "\u001b[1mTEST CASE #5\u001b[0m\n",
            "\n",
            "Input:\n",
            "{'poly1': [2, 0, 5, 7], 'poly2': [3, 4, 2]}\n",
            "\n",
            "Expected Output:\n",
            "[6, 8, 19, 41, 38, 14]\n",
            "\n",
            "\n",
            "Actual Output:\n",
            "[6, 8, 19, 41, 38, 14]\n",
            "\n",
            "Execution Time:\n",
            "0.045 ms\n",
            "\n",
            "Test Result:\n",
            "\u001b[92mPASSED\u001b[0m\n",
            "\n",
            "\n",
            "\u001b[1mSUMMARY\u001b[0m\n",
            "\n",
            "TOTAL: 6, \u001b[92mPASSED\u001b[0m: 6, \u001b[91mFAILED\u001b[0m: 0\n"
          ],
          "name": "stdout"
        },
        {
          "output_type": "execute_result",
          "data": {
            "text/plain": [
              "[([6, 8, 19, 41, 38, 14], True, 0.084),\n",
              " ([8, 22, 15], True, 3.687),\n",
              " ([10, 27, 38, 24], True, 0.037),\n",
              " ([0], True, 0.003),\n",
              " ([10, 3, 2, -24], True, 0.024),\n",
              " ([6, 8, 19, 41, 38, 14], True, 0.045)]"
            ]
          },
          "metadata": {
            "tags": []
          },
          "execution_count": 196
        }
      ]
    },
    {
      "cell_type": "code",
      "metadata": {
        "id": "stable-korea"
      },
      "source": [
        "import jovian"
      ],
      "id": "stable-korea",
      "execution_count": null,
      "outputs": []
    },
    {
      "cell_type": "code",
      "metadata": {
        "colab": {
          "base_uri": "https://localhost:8080/",
          "height": 102
        },
        "id": "nominated-thousand",
        "outputId": "63c0a461-0db9-40bb-895e-db3ec8898834"
      },
      "source": [
        "jovian.commit()"
      ],
      "id": "nominated-thousand",
      "execution_count": null,
      "outputs": [
        {
          "output_type": "stream",
          "text": [
            "[jovian] Detected Colab notebook...\u001b[0m\n",
            "[jovian] Uploading colab notebook to Jovian...\u001b[0m\n",
            "[jovian] Capturing environment..\u001b[0m\n",
            "[jovian] Committed successfully! https://jovian.ai/porkdown/python-divide-and-conquer-assignment\u001b[0m\n"
          ],
          "name": "stdout"
        },
        {
          "output_type": "execute_result",
          "data": {
            "application/vnd.google.colaboratory.intrinsic+json": {
              "type": "string"
            },
            "text/plain": [
              "'https://jovian.ai/porkdown/python-divide-and-conquer-assignment'"
            ]
          },
          "metadata": {
            "tags": []
          },
          "execution_count": 198
        }
      ]
    },
    {
      "cell_type": "markdown",
      "metadata": {
        "id": "documented-leisure"
      },
      "source": [
        "## Make a Submission\n",
        "\n",
        "Congrats! You have now implemented hash tables from scratch. The rest of this assignment is optional.\n",
        "\n",
        "You can make a submission on this page: https://jovian.ai/learn/data-structures-and-algorithms-in-python/assignment/assignment-3-sorting-and-divide-conquer-practice\n",
        "\n",
        "Submit the link to your Jovian notebook (the output of the previous cell).\n",
        "You can also make a direct submission by executing the following cell:"
      ],
      "id": "documented-leisure"
    },
    {
      "cell_type": "code",
      "metadata": {
        "colab": {
          "base_uri": "https://localhost:8080/"
        },
        "id": "superior-windows",
        "outputId": "2dab9ca4-be21-4575-ea7b-d1ff2bf2e257"
      },
      "source": [
        "jovian.submit(assignment=\"pythondsa-assignment3\")"
      ],
      "id": "superior-windows",
      "execution_count": null,
      "outputs": [
        {
          "output_type": "stream",
          "text": [
            "[jovian] Detected Colab notebook...\u001b[0m\n",
            "[jovian] Uploading colab notebook to Jovian...\u001b[0m\n",
            "[jovian] Capturing environment..\u001b[0m\n",
            "[jovian] Committed successfully! https://jovian.ai/porkdown/python-divide-and-conquer-assignment\u001b[0m\n",
            "[jovian] Submitting assignment..\u001b[0m\n",
            "[jovian] Verify your submission at https://jovian.ai/learn/data-structures-and-algorithms-in-python/assignment/assignment-3-sorting-and-divide-conquer-practice\u001b[0m\n"
          ],
          "name": "stdout"
        }
      ]
    },
    {
      "cell_type": "markdown",
      "metadata": {
        "id": "early-norfolk"
      },
      "source": [
        "### (Optional) 9. Analyze the algorithm's complexity and identify inefficiencies, if any.\n",
        "\n",
        "Can you analyze the time and space complexity of this algorithm? \n",
        "\n",
        "Hint: See the tree of subproblems below ([source](https://myithelpcentral.blogspot.com/2015/09/o-logn-notation-explanation-for-binary.html)). Substitute the right values for `n` and `b` to determine the time complexity.\n",
        "\n",
        "![](https://i.imgur.com/JAmZrE5.png)"
      ],
      "id": "early-norfolk"
    },
    {
      "cell_type": "markdown",
      "metadata": {
        "id": "YyqoS7yrZg27"
      },
      "source": [
        "This is still n^2"
      ],
      "id": "YyqoS7yrZg27"
    },
    {
      "cell_type": "code",
      "metadata": {
        "id": "controlling-merchandise"
      },
      "source": [
        "import jovian"
      ],
      "id": "controlling-merchandise",
      "execution_count": null,
      "outputs": []
    },
    {
      "cell_type": "code",
      "metadata": {
        "colab": {
          "base_uri": "https://localhost:8080/",
          "height": 102
        },
        "id": "ranging-testing",
        "outputId": "b351ae14-5019-47a3-e308-b63248afdd34"
      },
      "source": [
        "jovian.commit()"
      ],
      "id": "ranging-testing",
      "execution_count": null,
      "outputs": [
        {
          "output_type": "stream",
          "text": [
            "[jovian] Detected Colab notebook...\u001b[0m\n",
            "[jovian] Uploading colab notebook to Jovian...\u001b[0m\n",
            "[jovian] Capturing environment..\u001b[0m\n",
            "[jovian] Committed successfully! https://jovian.ai/porkdown/python-divide-and-conquer-assignment\u001b[0m\n"
          ],
          "name": "stdout"
        },
        {
          "output_type": "execute_result",
          "data": {
            "application/vnd.google.colaboratory.intrinsic+json": {
              "type": "string"
            },
            "text/plain": [
              "'https://jovian.ai/porkdown/python-divide-and-conquer-assignment'"
            ]
          },
          "metadata": {
            "tags": []
          },
          "execution_count": 201
        }
      ]
    }
  ]
}